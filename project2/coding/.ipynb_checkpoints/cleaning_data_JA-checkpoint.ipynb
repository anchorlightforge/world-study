{
 "cells": [
  {
   "cell_type": "code",
   "execution_count": 1,
   "id": "54f00460-bb2d-4094-9b3a-eed178deac78",
   "metadata": {},
   "outputs": [],
   "source": [
    "import pandas as pd\n",
    "import os\n"
   ]
  },
  {
   "cell_type": "code",
   "execution_count": 2,
   "id": "05d3a657-452c-4c48-bf30-6dea77331d97",
   "metadata": {},
   "outputs": [
    {
     "data": {
      "text/html": [
       "<div>\n",
       "<style scoped>\n",
       "    .dataframe tbody tr th:only-of-type {\n",
       "        vertical-align: middle;\n",
       "    }\n",
       "\n",
       "    .dataframe tbody tr th {\n",
       "        vertical-align: top;\n",
       "    }\n",
       "\n",
       "    .dataframe thead th {\n",
       "        text-align: right;\n",
       "    }\n",
       "</style>\n",
       "<table border=\"1\" class=\"dataframe\">\n",
       "  <thead>\n",
       "    <tr style=\"text-align: right;\">\n",
       "      <th></th>\n",
       "      <th></th>\n",
       "      <th></th>\n",
       "      <th>age</th>\n",
       "      <th>workclass</th>\n",
       "      <th>education</th>\n",
       "      <th>marital-status</th>\n",
       "      <th>occupation</th>\n",
       "      <th>relationship</th>\n",
       "      <th>race</th>\n",
       "      <th>sex</th>\n",
       "      <th>capital-gain</th>\n",
       "      <th>capital-loss</th>\n",
       "      <th>hours-per-week</th>\n",
       "      <th>native-country</th>\n",
       "    </tr>\n",
       "  </thead>\n",
       "  <tbody>\n",
       "    <tr>\n",
       "      <th>39</th>\n",
       "      <th>State-gov</th>\n",
       "      <th>77516</th>\n",
       "      <td>Bachelors</td>\n",
       "      <td>13</td>\n",
       "      <td>Never-married</td>\n",
       "      <td>Adm-clerical</td>\n",
       "      <td>Not-in-family</td>\n",
       "      <td>White</td>\n",
       "      <td>Male</td>\n",
       "      <td>2174</td>\n",
       "      <td>0</td>\n",
       "      <td>40</td>\n",
       "      <td>United-States</td>\n",
       "      <td>&lt;=50K</td>\n",
       "    </tr>\n",
       "    <tr>\n",
       "      <th>50</th>\n",
       "      <th>Self-emp-not-inc</th>\n",
       "      <th>83311</th>\n",
       "      <td>Bachelors</td>\n",
       "      <td>13</td>\n",
       "      <td>Married-civ-spouse</td>\n",
       "      <td>Exec-managerial</td>\n",
       "      <td>Husband</td>\n",
       "      <td>White</td>\n",
       "      <td>Male</td>\n",
       "      <td>0</td>\n",
       "      <td>0</td>\n",
       "      <td>13</td>\n",
       "      <td>United-States</td>\n",
       "      <td>&lt;=50K</td>\n",
       "    </tr>\n",
       "    <tr>\n",
       "      <th>38</th>\n",
       "      <th>Private</th>\n",
       "      <th>215646</th>\n",
       "      <td>HS-grad</td>\n",
       "      <td>9</td>\n",
       "      <td>Divorced</td>\n",
       "      <td>Handlers-cleaners</td>\n",
       "      <td>Not-in-family</td>\n",
       "      <td>White</td>\n",
       "      <td>Male</td>\n",
       "      <td>0</td>\n",
       "      <td>0</td>\n",
       "      <td>40</td>\n",
       "      <td>United-States</td>\n",
       "      <td>&lt;=50K</td>\n",
       "    </tr>\n",
       "    <tr>\n",
       "      <th>53</th>\n",
       "      <th>Private</th>\n",
       "      <th>234721</th>\n",
       "      <td>11th</td>\n",
       "      <td>7</td>\n",
       "      <td>Married-civ-spouse</td>\n",
       "      <td>Handlers-cleaners</td>\n",
       "      <td>Husband</td>\n",
       "      <td>Black</td>\n",
       "      <td>Male</td>\n",
       "      <td>0</td>\n",
       "      <td>0</td>\n",
       "      <td>40</td>\n",
       "      <td>United-States</td>\n",
       "      <td>&lt;=50K</td>\n",
       "    </tr>\n",
       "    <tr>\n",
       "      <th>28</th>\n",
       "      <th>Private</th>\n",
       "      <th>338409</th>\n",
       "      <td>Bachelors</td>\n",
       "      <td>13</td>\n",
       "      <td>Married-civ-spouse</td>\n",
       "      <td>Prof-specialty</td>\n",
       "      <td>Wife</td>\n",
       "      <td>Black</td>\n",
       "      <td>Female</td>\n",
       "      <td>0</td>\n",
       "      <td>0</td>\n",
       "      <td>40</td>\n",
       "      <td>Cuba</td>\n",
       "      <td>&lt;=50K</td>\n",
       "    </tr>\n",
       "  </tbody>\n",
       "</table>\n",
       "</div>"
      ],
      "text/plain": [
       "                                    age  workclass            education  \\\n",
       "39  State-gov        77516    Bachelors         13        Never-married   \n",
       "50  Self-emp-not-inc 83311    Bachelors         13   Married-civ-spouse   \n",
       "38  Private          215646     HS-grad          9             Divorced   \n",
       "53  Private          234721        11th          7   Married-civ-spouse   \n",
       "28  Private          338409   Bachelors         13   Married-civ-spouse   \n",
       "\n",
       "                                 marital-status      occupation relationship  \\\n",
       "39  State-gov        77516         Adm-clerical   Not-in-family        White   \n",
       "50  Self-emp-not-inc 83311      Exec-managerial         Husband        White   \n",
       "38  Private          215646   Handlers-cleaners   Not-in-family        White   \n",
       "53  Private          234721   Handlers-cleaners         Husband        Black   \n",
       "28  Private          338409      Prof-specialty            Wife        Black   \n",
       "\n",
       "                                race   sex  capital-gain  capital-loss  \\\n",
       "39  State-gov        77516      Male  2174             0            40   \n",
       "50  Self-emp-not-inc 83311      Male     0             0            13   \n",
       "38  Private          215646     Male     0             0            40   \n",
       "53  Private          234721     Male     0             0            40   \n",
       "28  Private          338409   Female     0             0            40   \n",
       "\n",
       "                             hours-per-week native-country  \n",
       "39  State-gov        77516    United-States          <=50K  \n",
       "50  Self-emp-not-inc 83311    United-States          <=50K  \n",
       "38  Private          215646   United-States          <=50K  \n",
       "53  Private          234721   United-States          <=50K  \n",
       "28  Private          338409            Cuba          <=50K  "
      ]
     },
     "execution_count": 2,
     "metadata": {},
     "output_type": "execute_result"
    }
   ],
   "source": [
    "df= pd.read_csv('../Resources/adult.csv')\n",
    "df.head()"
   ]
  },
  {
   "cell_type": "code",
   "execution_count": 3,
   "id": "2078d9ae-c1ed-4592-bae2-c2cc8ecdc1b2",
   "metadata": {},
   "outputs": [
    {
     "data": {
      "text/html": [
       "<div>\n",
       "<style scoped>\n",
       "    .dataframe tbody tr th:only-of-type {\n",
       "        vertical-align: middle;\n",
       "    }\n",
       "\n",
       "    .dataframe tbody tr th {\n",
       "        vertical-align: top;\n",
       "    }\n",
       "\n",
       "    .dataframe thead th {\n",
       "        text-align: right;\n",
       "    }\n",
       "</style>\n",
       "<table border=\"1\" class=\"dataframe\">\n",
       "  <thead>\n",
       "    <tr style=\"text-align: right;\">\n",
       "      <th></th>\n",
       "      <th></th>\n",
       "      <th></th>\n",
       "      <th>education</th>\n",
       "      <th>age</th>\n",
       "      <th>marital-status</th>\n",
       "      <th>job</th>\n",
       "      <th>occupation</th>\n",
       "      <th>race</th>\n",
       "      <th>sex</th>\n",
       "      <th>capital-gain</th>\n",
       "      <th>capital-loss</th>\n",
       "      <th>hours-per-week</th>\n",
       "      <th>native-country</th>\n",
       "      <th>the_label</th>\n",
       "    </tr>\n",
       "  </thead>\n",
       "  <tbody>\n",
       "    <tr>\n",
       "      <th>39</th>\n",
       "      <th>State-gov</th>\n",
       "      <th>77516</th>\n",
       "      <td>Bachelors</td>\n",
       "      <td>13</td>\n",
       "      <td>Never-married</td>\n",
       "      <td>Adm-clerical</td>\n",
       "      <td>Not-in-family</td>\n",
       "      <td>White</td>\n",
       "      <td>Male</td>\n",
       "      <td>2174</td>\n",
       "      <td>0</td>\n",
       "      <td>40</td>\n",
       "      <td>United-States</td>\n",
       "      <td>&lt;=50K</td>\n",
       "    </tr>\n",
       "    <tr>\n",
       "      <th>50</th>\n",
       "      <th>Self-emp-not-inc</th>\n",
       "      <th>83311</th>\n",
       "      <td>Bachelors</td>\n",
       "      <td>13</td>\n",
       "      <td>Married-civ-spouse</td>\n",
       "      <td>Exec-managerial</td>\n",
       "      <td>Husband</td>\n",
       "      <td>White</td>\n",
       "      <td>Male</td>\n",
       "      <td>0</td>\n",
       "      <td>0</td>\n",
       "      <td>13</td>\n",
       "      <td>United-States</td>\n",
       "      <td>&lt;=50K</td>\n",
       "    </tr>\n",
       "    <tr>\n",
       "      <th>38</th>\n",
       "      <th>Private</th>\n",
       "      <th>215646</th>\n",
       "      <td>HS-grad</td>\n",
       "      <td>9</td>\n",
       "      <td>Divorced</td>\n",
       "      <td>Handlers-cleaners</td>\n",
       "      <td>Not-in-family</td>\n",
       "      <td>White</td>\n",
       "      <td>Male</td>\n",
       "      <td>0</td>\n",
       "      <td>0</td>\n",
       "      <td>40</td>\n",
       "      <td>United-States</td>\n",
       "      <td>&lt;=50K</td>\n",
       "    </tr>\n",
       "    <tr>\n",
       "      <th>53</th>\n",
       "      <th>Private</th>\n",
       "      <th>234721</th>\n",
       "      <td>11th</td>\n",
       "      <td>7</td>\n",
       "      <td>Married-civ-spouse</td>\n",
       "      <td>Handlers-cleaners</td>\n",
       "      <td>Husband</td>\n",
       "      <td>Black</td>\n",
       "      <td>Male</td>\n",
       "      <td>0</td>\n",
       "      <td>0</td>\n",
       "      <td>40</td>\n",
       "      <td>United-States</td>\n",
       "      <td>&lt;=50K</td>\n",
       "    </tr>\n",
       "    <tr>\n",
       "      <th>28</th>\n",
       "      <th>Private</th>\n",
       "      <th>338409</th>\n",
       "      <td>Bachelors</td>\n",
       "      <td>13</td>\n",
       "      <td>Married-civ-spouse</td>\n",
       "      <td>Prof-specialty</td>\n",
       "      <td>Wife</td>\n",
       "      <td>Black</td>\n",
       "      <td>Female</td>\n",
       "      <td>0</td>\n",
       "      <td>0</td>\n",
       "      <td>40</td>\n",
       "      <td>Cuba</td>\n",
       "      <td>&lt;=50K</td>\n",
       "    </tr>\n",
       "  </tbody>\n",
       "</table>\n",
       "</div>"
      ],
      "text/plain": [
       "                              education  age       marital-status  \\\n",
       "39  State-gov        77516    Bachelors   13        Never-married   \n",
       "50  Self-emp-not-inc 83311    Bachelors   13   Married-civ-spouse   \n",
       "38  Private          215646     HS-grad    9             Divorced   \n",
       "53  Private          234721        11th    7   Married-civ-spouse   \n",
       "28  Private          338409   Bachelors   13   Married-civ-spouse   \n",
       "\n",
       "                                            job      occupation    race  \\\n",
       "39  State-gov        77516         Adm-clerical   Not-in-family   White   \n",
       "50  Self-emp-not-inc 83311      Exec-managerial         Husband   White   \n",
       "38  Private          215646   Handlers-cleaners   Not-in-family   White   \n",
       "53  Private          234721   Handlers-cleaners         Husband   Black   \n",
       "28  Private          338409      Prof-specialty            Wife   Black   \n",
       "\n",
       "                                 sex  capital-gain  capital-loss  \\\n",
       "39  State-gov        77516      Male          2174             0   \n",
       "50  Self-emp-not-inc 83311      Male             0             0   \n",
       "38  Private          215646     Male             0             0   \n",
       "53  Private          234721     Male             0             0   \n",
       "28  Private          338409   Female             0             0   \n",
       "\n",
       "                             hours-per-week  native-country the_label  \n",
       "39  State-gov        77516               40   United-States     <=50K  \n",
       "50  Self-emp-not-inc 83311               13   United-States     <=50K  \n",
       "38  Private          215646              40   United-States     <=50K  \n",
       "53  Private          234721              40   United-States     <=50K  \n",
       "28  Private          338409              40            Cuba     <=50K  "
      ]
     },
     "execution_count": 3,
     "metadata": {},
     "output_type": "execute_result"
    }
   ],
   "source": [
    "df_1= df.rename({'age':'education','workclass':'age','education':'marital-status','marital-status':'job',\n",
    "                'occcupation':'relationship','relationship':'race', 'race':'sex','sex':'capital-gain',\n",
    "                 'capital-gain':'capital-loss','capital-loss':'hours-per-week','hours-per-week':'native-country',\n",
    "                 'native-country':'the_label'},axis=1, )\n",
    "df_1.head()"
   ]
  },
  {
   "cell_type": "code",
   "execution_count": 4,
   "id": "b99bb8e9-110f-4af9-bcdc-565eb42f2f6e",
   "metadata": {},
   "outputs": [
    {
     "data": {
      "text/html": [
       "<div>\n",
       "<style scoped>\n",
       "    .dataframe tbody tr th:only-of-type {\n",
       "        vertical-align: middle;\n",
       "    }\n",
       "\n",
       "    .dataframe tbody tr th {\n",
       "        vertical-align: top;\n",
       "    }\n",
       "\n",
       "    .dataframe thead th {\n",
       "        text-align: right;\n",
       "    }\n",
       "</style>\n",
       "<table border=\"1\" class=\"dataframe\">\n",
       "  <thead>\n",
       "    <tr style=\"text-align: right;\">\n",
       "      <th></th>\n",
       "      <th>age</th>\n",
       "      <th>workclass</th>\n",
       "      <th>fnlwgt</th>\n",
       "      <th>education</th>\n",
       "      <th>education-num</th>\n",
       "      <th>marital-status</th>\n",
       "      <th>job</th>\n",
       "      <th>relationship</th>\n",
       "      <th>race</th>\n",
       "      <th>sex</th>\n",
       "      <th>capital-gain</th>\n",
       "      <th>capital-loss</th>\n",
       "      <th>hours-per-week</th>\n",
       "      <th>native-country</th>\n",
       "      <th>the_label</th>\n",
       "    </tr>\n",
       "  </thead>\n",
       "  <tbody>\n",
       "    <tr>\n",
       "      <th>0</th>\n",
       "      <td>39</td>\n",
       "      <td>State-gov</td>\n",
       "      <td>77516</td>\n",
       "      <td>Bachelors</td>\n",
       "      <td>13</td>\n",
       "      <td>Never-married</td>\n",
       "      <td>Adm-clerical</td>\n",
       "      <td>Not-in-family</td>\n",
       "      <td>White</td>\n",
       "      <td>Male</td>\n",
       "      <td>2174</td>\n",
       "      <td>0</td>\n",
       "      <td>40</td>\n",
       "      <td>United-States</td>\n",
       "      <td>&lt;=50K</td>\n",
       "    </tr>\n",
       "    <tr>\n",
       "      <th>1</th>\n",
       "      <td>50</td>\n",
       "      <td>Self-emp-not-inc</td>\n",
       "      <td>83311</td>\n",
       "      <td>Bachelors</td>\n",
       "      <td>13</td>\n",
       "      <td>Married-civ-spouse</td>\n",
       "      <td>Exec-managerial</td>\n",
       "      <td>Husband</td>\n",
       "      <td>White</td>\n",
       "      <td>Male</td>\n",
       "      <td>0</td>\n",
       "      <td>0</td>\n",
       "      <td>13</td>\n",
       "      <td>United-States</td>\n",
       "      <td>&lt;=50K</td>\n",
       "    </tr>\n",
       "    <tr>\n",
       "      <th>2</th>\n",
       "      <td>38</td>\n",
       "      <td>Private</td>\n",
       "      <td>215646</td>\n",
       "      <td>HS-grad</td>\n",
       "      <td>9</td>\n",
       "      <td>Divorced</td>\n",
       "      <td>Handlers-cleaners</td>\n",
       "      <td>Not-in-family</td>\n",
       "      <td>White</td>\n",
       "      <td>Male</td>\n",
       "      <td>0</td>\n",
       "      <td>0</td>\n",
       "      <td>40</td>\n",
       "      <td>United-States</td>\n",
       "      <td>&lt;=50K</td>\n",
       "    </tr>\n",
       "    <tr>\n",
       "      <th>3</th>\n",
       "      <td>53</td>\n",
       "      <td>Private</td>\n",
       "      <td>234721</td>\n",
       "      <td>11th</td>\n",
       "      <td>7</td>\n",
       "      <td>Married-civ-spouse</td>\n",
       "      <td>Handlers-cleaners</td>\n",
       "      <td>Husband</td>\n",
       "      <td>Black</td>\n",
       "      <td>Male</td>\n",
       "      <td>0</td>\n",
       "      <td>0</td>\n",
       "      <td>40</td>\n",
       "      <td>United-States</td>\n",
       "      <td>&lt;=50K</td>\n",
       "    </tr>\n",
       "    <tr>\n",
       "      <th>4</th>\n",
       "      <td>28</td>\n",
       "      <td>Private</td>\n",
       "      <td>338409</td>\n",
       "      <td>Bachelors</td>\n",
       "      <td>13</td>\n",
       "      <td>Married-civ-spouse</td>\n",
       "      <td>Prof-specialty</td>\n",
       "      <td>Wife</td>\n",
       "      <td>Black</td>\n",
       "      <td>Female</td>\n",
       "      <td>0</td>\n",
       "      <td>0</td>\n",
       "      <td>40</td>\n",
       "      <td>Cuba</td>\n",
       "      <td>&lt;=50K</td>\n",
       "    </tr>\n",
       "  </tbody>\n",
       "</table>\n",
       "</div>"
      ],
      "text/plain": [
       "   age          workclass  fnlwgt   education  education-num  \\\n",
       "0   39          State-gov   77516   Bachelors             13   \n",
       "1   50   Self-emp-not-inc   83311   Bachelors             13   \n",
       "2   38            Private  215646     HS-grad              9   \n",
       "3   53            Private  234721        11th              7   \n",
       "4   28            Private  338409   Bachelors             13   \n",
       "\n",
       "        marital-status                 job    relationship    race      sex  \\\n",
       "0        Never-married        Adm-clerical   Not-in-family   White     Male   \n",
       "1   Married-civ-spouse     Exec-managerial         Husband   White     Male   \n",
       "2             Divorced   Handlers-cleaners   Not-in-family   White     Male   \n",
       "3   Married-civ-spouse   Handlers-cleaners         Husband   Black     Male   \n",
       "4   Married-civ-spouse      Prof-specialty            Wife   Black   Female   \n",
       "\n",
       "   capital-gain  capital-loss  hours-per-week  native-country the_label  \n",
       "0          2174             0              40   United-States     <=50K  \n",
       "1             0             0              13   United-States     <=50K  \n",
       "2             0             0              40   United-States     <=50K  \n",
       "3             0             0              40   United-States     <=50K  \n",
       "4             0             0              40            Cuba     <=50K  "
      ]
     },
     "execution_count": 4,
     "metadata": {},
     "output_type": "execute_result"
    }
   ],
   "source": [
    "df_2=df_1.reset_index()\n",
    "df_3= df_2.rename(columns={'level_0':'age','level_1':'workclass','level_2':'fnlwgt','age':'education-num', 'occupation':'relationship'})\n",
    "df_3.head()"
   ]
  },
  {
   "cell_type": "code",
   "execution_count": 5,
   "id": "b79c774b-67ca-4df0-a234-904ae8e3a6f3",
   "metadata": {},
   "outputs": [],
   "source": [
    "df_3.to_csv('../Resources_2/cleaned_adults.csv')"
   ]
  },
  {
   "cell_type": "code",
   "execution_count": 6,
   "id": "08c7915f-9a52-4965-88d2-e18383f83338",
   "metadata": {},
   "outputs": [
    {
     "data": {
      "text/html": [
       "<div>\n",
       "<style scoped>\n",
       "    .dataframe tbody tr th:only-of-type {\n",
       "        vertical-align: middle;\n",
       "    }\n",
       "\n",
       "    .dataframe tbody tr th {\n",
       "        vertical-align: top;\n",
       "    }\n",
       "\n",
       "    .dataframe thead th {\n",
       "        text-align: right;\n",
       "    }\n",
       "</style>\n",
       "<table border=\"1\" class=\"dataframe\">\n",
       "  <thead>\n",
       "    <tr style=\"text-align: right;\">\n",
       "      <th></th>\n",
       "      <th>age</th>\n",
       "      <th>fnlwgt</th>\n",
       "      <th>education-num</th>\n",
       "      <th>capital-gain</th>\n",
       "      <th>capital-loss</th>\n",
       "      <th>hours-per-week</th>\n",
       "    </tr>\n",
       "  </thead>\n",
       "  <tbody>\n",
       "    <tr>\n",
       "      <th>count</th>\n",
       "      <td>32561.000000</td>\n",
       "      <td>3.256100e+04</td>\n",
       "      <td>32561.000000</td>\n",
       "      <td>32561.000000</td>\n",
       "      <td>32561.000000</td>\n",
       "      <td>32561.000000</td>\n",
       "    </tr>\n",
       "    <tr>\n",
       "      <th>mean</th>\n",
       "      <td>38.581647</td>\n",
       "      <td>1.897784e+05</td>\n",
       "      <td>10.080679</td>\n",
       "      <td>1077.648844</td>\n",
       "      <td>87.303830</td>\n",
       "      <td>40.437456</td>\n",
       "    </tr>\n",
       "    <tr>\n",
       "      <th>std</th>\n",
       "      <td>13.640433</td>\n",
       "      <td>1.055500e+05</td>\n",
       "      <td>2.572720</td>\n",
       "      <td>7385.292085</td>\n",
       "      <td>402.960219</td>\n",
       "      <td>12.347429</td>\n",
       "    </tr>\n",
       "    <tr>\n",
       "      <th>min</th>\n",
       "      <td>17.000000</td>\n",
       "      <td>1.228500e+04</td>\n",
       "      <td>1.000000</td>\n",
       "      <td>0.000000</td>\n",
       "      <td>0.000000</td>\n",
       "      <td>1.000000</td>\n",
       "    </tr>\n",
       "    <tr>\n",
       "      <th>25%</th>\n",
       "      <td>28.000000</td>\n",
       "      <td>1.178270e+05</td>\n",
       "      <td>9.000000</td>\n",
       "      <td>0.000000</td>\n",
       "      <td>0.000000</td>\n",
       "      <td>40.000000</td>\n",
       "    </tr>\n",
       "    <tr>\n",
       "      <th>50%</th>\n",
       "      <td>37.000000</td>\n",
       "      <td>1.783560e+05</td>\n",
       "      <td>10.000000</td>\n",
       "      <td>0.000000</td>\n",
       "      <td>0.000000</td>\n",
       "      <td>40.000000</td>\n",
       "    </tr>\n",
       "    <tr>\n",
       "      <th>75%</th>\n",
       "      <td>48.000000</td>\n",
       "      <td>2.370510e+05</td>\n",
       "      <td>12.000000</td>\n",
       "      <td>0.000000</td>\n",
       "      <td>0.000000</td>\n",
       "      <td>45.000000</td>\n",
       "    </tr>\n",
       "    <tr>\n",
       "      <th>max</th>\n",
       "      <td>90.000000</td>\n",
       "      <td>1.484705e+06</td>\n",
       "      <td>16.000000</td>\n",
       "      <td>99999.000000</td>\n",
       "      <td>4356.000000</td>\n",
       "      <td>99.000000</td>\n",
       "    </tr>\n",
       "  </tbody>\n",
       "</table>\n",
       "</div>"
      ],
      "text/plain": [
       "                age        fnlwgt  education-num  capital-gain  capital-loss  \\\n",
       "count  32561.000000  3.256100e+04   32561.000000  32561.000000  32561.000000   \n",
       "mean      38.581647  1.897784e+05      10.080679   1077.648844     87.303830   \n",
       "std       13.640433  1.055500e+05       2.572720   7385.292085    402.960219   \n",
       "min       17.000000  1.228500e+04       1.000000      0.000000      0.000000   \n",
       "25%       28.000000  1.178270e+05       9.000000      0.000000      0.000000   \n",
       "50%       37.000000  1.783560e+05      10.000000      0.000000      0.000000   \n",
       "75%       48.000000  2.370510e+05      12.000000      0.000000      0.000000   \n",
       "max       90.000000  1.484705e+06      16.000000  99999.000000   4356.000000   \n",
       "\n",
       "       hours-per-week  \n",
       "count    32561.000000  \n",
       "mean        40.437456  \n",
       "std         12.347429  \n",
       "min          1.000000  \n",
       "25%         40.000000  \n",
       "50%         40.000000  \n",
       "75%         45.000000  \n",
       "max         99.000000  "
      ]
     },
     "execution_count": 6,
     "metadata": {},
     "output_type": "execute_result"
    }
   ],
   "source": [
    "df_3.describe()"
   ]
  },
  {
   "cell_type": "code",
   "execution_count": 7,
   "id": "83ec2937-c049-41fa-a2c0-1c6e1aea7c10",
   "metadata": {},
   "outputs": [
    {
     "data": {
      "text/plain": [
       "age               0\n",
       "workclass         0\n",
       "fnlwgt            0\n",
       "education         0\n",
       "education-num     0\n",
       "marital-status    0\n",
       "job               0\n",
       "relationship      0\n",
       "race              0\n",
       "sex               0\n",
       "capital-gain      0\n",
       "capital-loss      0\n",
       "hours-per-week    0\n",
       "native-country    0\n",
       "the_label         0\n",
       "dtype: int64"
      ]
     },
     "execution_count": 7,
     "metadata": {},
     "output_type": "execute_result"
    }
   ],
   "source": [
    "#checking for null values\n",
    "df_3.isna().sum()"
   ]
  },
  {
   "cell_type": "code",
   "execution_count": 8,
   "id": "6182c4bf-4a0d-49b9-8750-7c6859e69fd8",
   "metadata": {},
   "outputs": [
    {
     "data": {
      "text/plain": [
       "array([' State-gov', ' Self-emp-not-inc', ' Private', ' Federal-gov',\n",
       "       ' Local-gov', ' ?', ' Self-emp-inc', ' Without-pay',\n",
       "       ' Never-worked'], dtype=object)"
      ]
     },
     "execution_count": 8,
     "metadata": {},
     "output_type": "execute_result"
    }
   ],
   "source": [
    "df_3['workclass'].unique()"
   ]
  },
  {
   "cell_type": "code",
   "execution_count": 9,
   "id": "85f4f386-9f25-4219-b899-2a5c7c069cef",
   "metadata": {},
   "outputs": [
    {
     "data": {
      "text/plain": [
       " Private             22696\n",
       " Self-emp-not-inc     2541\n",
       " Local-gov            2093\n",
       " ?                    1836\n",
       " State-gov            1298\n",
       " Self-emp-inc         1116\n",
       " Federal-gov           960\n",
       " Without-pay            14\n",
       " Never-worked            7\n",
       "Name: workclass, dtype: int64"
      ]
     },
     "execution_count": 9,
     "metadata": {},
     "output_type": "execute_result"
    }
   ],
   "source": [
    "df_3['workclass'].value_counts()"
   ]
  },
  {
   "cell_type": "code",
   "execution_count": 10,
   "id": "b7faffed-d0bd-484a-8e46-36453666edc4",
   "metadata": {},
   "outputs": [
    {
     "data": {
      "text/plain": [
       "array([' Bachelors', ' HS-grad', ' 11th', ' Masters', ' 9th',\n",
       "       ' Some-college', ' Assoc-acdm', ' Assoc-voc', ' 7th-8th',\n",
       "       ' Doctorate', ' Prof-school', ' 5th-6th', ' 10th', ' 1st-4th',\n",
       "       ' Preschool', ' 12th'], dtype=object)"
      ]
     },
     "execution_count": 10,
     "metadata": {},
     "output_type": "execute_result"
    }
   ],
   "source": [
    "df_3['education'].unique()"
   ]
  },
  {
   "cell_type": "code",
   "execution_count": 11,
   "id": "ebeace9e-1d85-487c-b6ea-719ab281f538",
   "metadata": {},
   "outputs": [
    {
     "data": {
      "text/plain": [
       "array([' Never-married', ' Married-civ-spouse', ' Divorced',\n",
       "       ' Married-spouse-absent', ' Separated', ' Married-AF-spouse',\n",
       "       ' Widowed'], dtype=object)"
      ]
     },
     "execution_count": 11,
     "metadata": {},
     "output_type": "execute_result"
    }
   ],
   "source": [
    "df_3['marital-status'].unique()"
   ]
  },
  {
   "cell_type": "code",
   "execution_count": 12,
   "id": "3e1ce75d-e0fc-46dc-9ae1-76b074bd2b8c",
   "metadata": {},
   "outputs": [
    {
     "data": {
      "text/plain": [
       "array([' Adm-clerical', ' Exec-managerial', ' Handlers-cleaners',\n",
       "       ' Prof-specialty', ' Other-service', ' Sales', ' Craft-repair',\n",
       "       ' Transport-moving', ' Farming-fishing', ' Machine-op-inspct',\n",
       "       ' Tech-support', ' ?', ' Protective-serv', ' Armed-Forces',\n",
       "       ' Priv-house-serv'], dtype=object)"
      ]
     },
     "execution_count": 12,
     "metadata": {},
     "output_type": "execute_result"
    }
   ],
   "source": [
    "df_3['job'].unique()"
   ]
  },
  {
   "cell_type": "code",
   "execution_count": 13,
   "id": "20bad688-4042-4a29-abec-686ef4aeda99",
   "metadata": {},
   "outputs": [
    {
     "data": {
      "text/plain": [
       " Prof-specialty       4140\n",
       " Craft-repair         4099\n",
       " Exec-managerial      4066\n",
       " Adm-clerical         3770\n",
       " Sales                3650\n",
       " Other-service        3295\n",
       " Machine-op-inspct    2002\n",
       " ?                    1843\n",
       " Transport-moving     1597\n",
       " Handlers-cleaners    1370\n",
       " Farming-fishing       994\n",
       " Tech-support          928\n",
       " Protective-serv       649\n",
       " Priv-house-serv       149\n",
       " Armed-Forces            9\n",
       "Name: job, dtype: int64"
      ]
     },
     "execution_count": 13,
     "metadata": {},
     "output_type": "execute_result"
    }
   ],
   "source": [
    "df_3['job'].value_counts()"
   ]
  },
  {
   "cell_type": "code",
   "execution_count": 14,
   "id": "15e1d8f2-d8f5-4ab2-adf7-3fe4247e1ff4",
   "metadata": {},
   "outputs": [
    {
     "data": {
      "text/plain": [
       "array([' Not-in-family', ' Husband', ' Wife', ' Own-child', ' Unmarried',\n",
       "       ' Other-relative'], dtype=object)"
      ]
     },
     "execution_count": 14,
     "metadata": {},
     "output_type": "execute_result"
    }
   ],
   "source": [
    "df_3['relationship'].unique()"
   ]
  },
  {
   "cell_type": "code",
   "execution_count": 15,
   "id": "f030b038-a079-4acd-926b-1c737221ec25",
   "metadata": {},
   "outputs": [
    {
     "data": {
      "text/plain": [
       "array([' White', ' Black', ' Asian-Pac-Islander', ' Amer-Indian-Eskimo',\n",
       "       ' Other'], dtype=object)"
      ]
     },
     "execution_count": 15,
     "metadata": {},
     "output_type": "execute_result"
    }
   ],
   "source": [
    "df_3['race'].unique()"
   ]
  },
  {
   "cell_type": "code",
   "execution_count": 16,
   "id": "0b619a61-9153-4f22-990f-aa5cd6919c0c",
   "metadata": {},
   "outputs": [
    {
     "data": {
      "text/plain": [
       "array([' Male', ' Female'], dtype=object)"
      ]
     },
     "execution_count": 16,
     "metadata": {},
     "output_type": "execute_result"
    }
   ],
   "source": [
    "df_3['sex'].unique()"
   ]
  },
  {
   "cell_type": "code",
   "execution_count": 17,
   "id": "94ac307f-2acf-4cf6-9380-612c1ec2b554",
   "metadata": {},
   "outputs": [
    {
     "data": {
      "text/plain": [
       "array([' United-States', ' Cuba', ' Jamaica', ' India', ' ?', ' Mexico',\n",
       "       ' South', ' Puerto-Rico', ' Honduras', ' England', ' Canada',\n",
       "       ' Germany', ' Iran', ' Philippines', ' Italy', ' Poland',\n",
       "       ' Columbia', ' Cambodia', ' Thailand', ' Ecuador', ' Laos',\n",
       "       ' Taiwan', ' Haiti', ' Portugal', ' Dominican-Republic',\n",
       "       ' El-Salvador', ' France', ' Guatemala', ' China', ' Japan',\n",
       "       ' Yugoslavia', ' Peru', ' Outlying-US(Guam-USVI-etc)', ' Scotland',\n",
       "       ' Trinadad&Tobago', ' Greece', ' Nicaragua', ' Vietnam', ' Hong',\n",
       "       ' Ireland', ' Hungary', ' Holand-Netherlands'], dtype=object)"
      ]
     },
     "execution_count": 17,
     "metadata": {},
     "output_type": "execute_result"
    }
   ],
   "source": [
    "df_3['native-country'].unique()"
   ]
  },
  {
   "cell_type": "code",
   "execution_count": 18,
   "id": "ca16be59-f9cc-4fc6-ac81-2c6039c1ee64",
   "metadata": {},
   "outputs": [
    {
     "data": {
      "text/plain": [
       " Prof-specialty       4140\n",
       " Craft-repair         4099\n",
       " Exec-managerial      4066\n",
       " Adm-clerical         3770\n",
       " Sales                3650\n",
       " Other-service        3295\n",
       " Machine-op-inspct    2002\n",
       " ?                    1843\n",
       " Transport-moving     1597\n",
       " Handlers-cleaners    1370\n",
       " Farming-fishing       994\n",
       " Tech-support          928\n",
       " Protective-serv       649\n",
       " Priv-house-serv       149\n",
       " Armed-Forces            9\n",
       "Name: job, dtype: int64"
      ]
     },
     "execution_count": 18,
     "metadata": {},
     "output_type": "execute_result"
    }
   ],
   "source": [
    "df_3['job'].value_counts()"
   ]
  },
  {
   "cell_type": "code",
   "execution_count": 19,
   "id": "76bdf6b9-a903-41a3-841f-fe7b62842f2e",
   "metadata": {},
   "outputs": [],
   "source": [
    "#importing linear regresson models\n",
    "import sklearn\n",
    "from sklearn.model_selection import train_test_split\n",
    "from sklearn.linear_model import LinearRegression\n",
    "from sklearn.preprocessing import OneHotEncoder"
   ]
  },
  {
   "cell_type": "code",
   "execution_count": 20,
   "id": "a5e627d4-5c83-4832-8fd0-d0b368c473de",
   "metadata": {},
   "outputs": [],
   "source": [
    "#select attributes to be used for training and seperate dependent and independent variables\n",
    "x= df_3.drop(columns=['fnlwgt','the_label','workclass','native-country'])\n",
    "y= df_3['the_label']\n"
   ]
  },
  {
   "cell_type": "code",
   "execution_count": 21,
   "id": "79854898-4061-4557-8657-5163b8e6183c",
   "metadata": {},
   "outputs": [
    {
     "data": {
      "text/plain": [
       "32556     <=50K\n",
       "32557      >50K\n",
       "32558     <=50K\n",
       "32559     <=50K\n",
       "32560      >50K\n",
       "Name: the_label, dtype: object"
      ]
     },
     "execution_count": 21,
     "metadata": {},
     "output_type": "execute_result"
    }
   ],
   "source": [
    "y.tail()"
   ]
  },
  {
   "cell_type": "code",
   "execution_count": 22,
   "id": "1e6fee8b-f518-443b-977a-06a66af607c5",
   "metadata": {},
   "outputs": [
    {
     "data": {
      "text/html": [
       "<div>\n",
       "<style scoped>\n",
       "    .dataframe tbody tr th:only-of-type {\n",
       "        vertical-align: middle;\n",
       "    }\n",
       "\n",
       "    .dataframe tbody tr th {\n",
       "        vertical-align: top;\n",
       "    }\n",
       "\n",
       "    .dataframe thead th {\n",
       "        text-align: right;\n",
       "    }\n",
       "</style>\n",
       "<table border=\"1\" class=\"dataframe\">\n",
       "  <thead>\n",
       "    <tr style=\"text-align: right;\">\n",
       "      <th></th>\n",
       "      <th>age</th>\n",
       "      <th>education-num</th>\n",
       "      <th>capital-gain</th>\n",
       "      <th>capital-loss</th>\n",
       "      <th>hours-per-week</th>\n",
       "      <th>education_ 10th</th>\n",
       "      <th>education_ 11th</th>\n",
       "      <th>education_ 12th</th>\n",
       "      <th>education_ 1st-4th</th>\n",
       "      <th>education_ 5th-6th</th>\n",
       "      <th>...</th>\n",
       "      <th>relationship_ Own-child</th>\n",
       "      <th>relationship_ Unmarried</th>\n",
       "      <th>relationship_ Wife</th>\n",
       "      <th>race_ Amer-Indian-Eskimo</th>\n",
       "      <th>race_ Asian-Pac-Islander</th>\n",
       "      <th>race_ Black</th>\n",
       "      <th>race_ Other</th>\n",
       "      <th>race_ White</th>\n",
       "      <th>sex_ Female</th>\n",
       "      <th>sex_ Male</th>\n",
       "    </tr>\n",
       "  </thead>\n",
       "  <tbody>\n",
       "    <tr>\n",
       "      <th>0</th>\n",
       "      <td>39</td>\n",
       "      <td>13</td>\n",
       "      <td>2174</td>\n",
       "      <td>0</td>\n",
       "      <td>40</td>\n",
       "      <td>0</td>\n",
       "      <td>0</td>\n",
       "      <td>0</td>\n",
       "      <td>0</td>\n",
       "      <td>0</td>\n",
       "      <td>...</td>\n",
       "      <td>0</td>\n",
       "      <td>0</td>\n",
       "      <td>0</td>\n",
       "      <td>0</td>\n",
       "      <td>0</td>\n",
       "      <td>0</td>\n",
       "      <td>0</td>\n",
       "      <td>1</td>\n",
       "      <td>0</td>\n",
       "      <td>1</td>\n",
       "    </tr>\n",
       "    <tr>\n",
       "      <th>1</th>\n",
       "      <td>50</td>\n",
       "      <td>13</td>\n",
       "      <td>0</td>\n",
       "      <td>0</td>\n",
       "      <td>13</td>\n",
       "      <td>0</td>\n",
       "      <td>0</td>\n",
       "      <td>0</td>\n",
       "      <td>0</td>\n",
       "      <td>0</td>\n",
       "      <td>...</td>\n",
       "      <td>0</td>\n",
       "      <td>0</td>\n",
       "      <td>0</td>\n",
       "      <td>0</td>\n",
       "      <td>0</td>\n",
       "      <td>0</td>\n",
       "      <td>0</td>\n",
       "      <td>1</td>\n",
       "      <td>0</td>\n",
       "      <td>1</td>\n",
       "    </tr>\n",
       "    <tr>\n",
       "      <th>2</th>\n",
       "      <td>38</td>\n",
       "      <td>9</td>\n",
       "      <td>0</td>\n",
       "      <td>0</td>\n",
       "      <td>40</td>\n",
       "      <td>0</td>\n",
       "      <td>0</td>\n",
       "      <td>0</td>\n",
       "      <td>0</td>\n",
       "      <td>0</td>\n",
       "      <td>...</td>\n",
       "      <td>0</td>\n",
       "      <td>0</td>\n",
       "      <td>0</td>\n",
       "      <td>0</td>\n",
       "      <td>0</td>\n",
       "      <td>0</td>\n",
       "      <td>0</td>\n",
       "      <td>1</td>\n",
       "      <td>0</td>\n",
       "      <td>1</td>\n",
       "    </tr>\n",
       "    <tr>\n",
       "      <th>3</th>\n",
       "      <td>53</td>\n",
       "      <td>7</td>\n",
       "      <td>0</td>\n",
       "      <td>0</td>\n",
       "      <td>40</td>\n",
       "      <td>0</td>\n",
       "      <td>1</td>\n",
       "      <td>0</td>\n",
       "      <td>0</td>\n",
       "      <td>0</td>\n",
       "      <td>...</td>\n",
       "      <td>0</td>\n",
       "      <td>0</td>\n",
       "      <td>0</td>\n",
       "      <td>0</td>\n",
       "      <td>0</td>\n",
       "      <td>1</td>\n",
       "      <td>0</td>\n",
       "      <td>0</td>\n",
       "      <td>0</td>\n",
       "      <td>1</td>\n",
       "    </tr>\n",
       "    <tr>\n",
       "      <th>4</th>\n",
       "      <td>28</td>\n",
       "      <td>13</td>\n",
       "      <td>0</td>\n",
       "      <td>0</td>\n",
       "      <td>40</td>\n",
       "      <td>0</td>\n",
       "      <td>0</td>\n",
       "      <td>0</td>\n",
       "      <td>0</td>\n",
       "      <td>0</td>\n",
       "      <td>...</td>\n",
       "      <td>0</td>\n",
       "      <td>0</td>\n",
       "      <td>1</td>\n",
       "      <td>0</td>\n",
       "      <td>0</td>\n",
       "      <td>1</td>\n",
       "      <td>0</td>\n",
       "      <td>0</td>\n",
       "      <td>1</td>\n",
       "      <td>0</td>\n",
       "    </tr>\n",
       "  </tbody>\n",
       "</table>\n",
       "<p>5 rows × 56 columns</p>\n",
       "</div>"
      ],
      "text/plain": [
       "   age  education-num  capital-gain  capital-loss  hours-per-week  \\\n",
       "0   39             13          2174             0              40   \n",
       "1   50             13             0             0              13   \n",
       "2   38              9             0             0              40   \n",
       "3   53              7             0             0              40   \n",
       "4   28             13             0             0              40   \n",
       "\n",
       "   education_ 10th  education_ 11th  education_ 12th  education_ 1st-4th  \\\n",
       "0                0                0                0                   0   \n",
       "1                0                0                0                   0   \n",
       "2                0                0                0                   0   \n",
       "3                0                1                0                   0   \n",
       "4                0                0                0                   0   \n",
       "\n",
       "   education_ 5th-6th  ...  relationship_ Own-child  relationship_ Unmarried  \\\n",
       "0                   0  ...                        0                        0   \n",
       "1                   0  ...                        0                        0   \n",
       "2                   0  ...                        0                        0   \n",
       "3                   0  ...                        0                        0   \n",
       "4                   0  ...                        0                        0   \n",
       "\n",
       "   relationship_ Wife  race_ Amer-Indian-Eskimo  race_ Asian-Pac-Islander  \\\n",
       "0                   0                         0                         0   \n",
       "1                   0                         0                         0   \n",
       "2                   0                         0                         0   \n",
       "3                   0                         0                         0   \n",
       "4                   1                         0                         0   \n",
       "\n",
       "   race_ Black  race_ Other  race_ White  sex_ Female  sex_ Male  \n",
       "0            0            0            1            0          1  \n",
       "1            0            0            1            0          1  \n",
       "2            0            0            1            0          1  \n",
       "3            1            0            0            0          1  \n",
       "4            1            0            0            1          0  \n",
       "\n",
       "[5 rows x 56 columns]"
      ]
     },
     "execution_count": 22,
     "metadata": {},
     "output_type": "execute_result"
    }
   ],
   "source": [
    "#using one-hot encoding to work on independent variables\n",
    "enc_1=pd.get_dummies(x[['education','marital-status','job','relationship','race','sex']])\n",
    "X= x.merge(enc_1, right_index=True,left_index=True)\n",
    "X= X.drop(columns=['education','marital-status','job','relationship','race','sex'])\n",
    "X.head()"
   ]
  },
  {
   "cell_type": "code",
   "execution_count": 23,
   "id": "a0a32776-c128-4f93-8903-a558cd433ab3",
   "metadata": {},
   "outputs": [
    {
     "data": {
      "text/plain": [
       "str"
      ]
     },
     "execution_count": 23,
     "metadata": {},
     "output_type": "execute_result"
    }
   ],
   "source": [
    "type(y[0])"
   ]
  },
  {
   "cell_type": "code",
   "execution_count": 24,
   "id": "9b696a2f-9317-441e-9de0-06eff15c643e",
   "metadata": {},
   "outputs": [],
   "source": [
    "#replacing >50K with a 1 and <=50K with a 0\n",
    "def replace_with_binary(variable):\n",
    "    if variable.split(\" \")[-1] == '<=50K':\n",
    "        variable = 0\n",
    "    elif variable.split(\" \")[-1] == '>50K':\n",
    "        variable = 1\n",
    "    return variable"
   ]
  },
  {
   "cell_type": "code",
   "execution_count": 25,
   "id": "258087a3-85e2-4d36-b402-b5380f3b7189",
   "metadata": {},
   "outputs": [
    {
     "data": {
      "text/plain": [
       "32556    0\n",
       "32557    1\n",
       "32558    0\n",
       "32559    0\n",
       "32560    1\n",
       "Name: the_label, dtype: int64"
      ]
     },
     "execution_count": 25,
     "metadata": {},
     "output_type": "execute_result"
    }
   ],
   "source": [
    "Y = y.map(lambda y: replace_with_binary(y)) \n",
    "Y.tail()"
   ]
  },
  {
   "cell_type": "code",
   "execution_count": 86,
   "id": "0b9eee26-39fe-43bd-8b84-ef8653aa8485",
   "metadata": {},
   "outputs": [
    {
     "data": {
      "text/plain": [
       "0    24720\n",
       "1     7841\n",
       "Name: the_label, dtype: int64"
      ]
     },
     "execution_count": 86,
     "metadata": {},
     "output_type": "execute_result"
    }
   ],
   "source": [
    "Y.value_counts()"
   ]
  },
  {
   "cell_type": "code",
   "execution_count": 26,
   "id": "038be77d-06a7-462a-b1d0-fd7a152e2508",
   "metadata": {},
   "outputs": [],
   "source": [
    "#splitting the data\n",
    "X_train, X_test, Y_train, Y_test = train_test_split(X, Y, test_size = 0.2, random_state = 42) "
   ]
  },
  {
   "cell_type": "markdown",
   "id": "f0bee69c-831a-4c67-816c-92e95f606011",
   "metadata": {},
   "source": [
    "## using linear regression"
   ]
  },
  {
   "cell_type": "code",
   "execution_count": 27,
   "id": "1f06f8f8-77f2-4e29-990d-72110f764466",
   "metadata": {},
   "outputs": [
    {
     "data": {
      "text/plain": [
       "LinearRegression()"
      ]
     },
     "execution_count": 27,
     "metadata": {},
     "output_type": "execute_result"
    }
   ],
   "source": [
    "#creating the LinearRegression module and fitting in the data\n",
    "model=LinearRegression()\n",
    "#fitting the model into the dataset\n",
    "model.fit(X_train,Y_train)"
   ]
  },
  {
   "cell_type": "code",
   "execution_count": 28,
   "id": "0cf98413-04db-4beb-9e9e-beca3b8ef7fc",
   "metadata": {},
   "outputs": [
    {
     "data": {
      "text/plain": [
       "0.3650185705232064"
      ]
     },
     "execution_count": 28,
     "metadata": {},
     "output_type": "execute_result"
    }
   ],
   "source": [
    "model.score(X_test,Y_test)"
   ]
  },
  {
   "cell_type": "code",
   "execution_count": 29,
   "id": "d0d6ea86-02f6-4ef0-b876-e6dbe5105d7f",
   "metadata": {},
   "outputs": [
    {
     "data": {
      "text/plain": [
       "0.36304193014436126"
      ]
     },
     "execution_count": 29,
     "metadata": {},
     "output_type": "execute_result"
    }
   ],
   "source": [
    "Y_pred = model.predict(X_test)\n",
    "model.score(X_train,Y_train)"
   ]
  },
  {
   "cell_type": "code",
   "execution_count": 30,
   "id": "997eebb4-7c34-4dd8-83b6-e210f24f961e",
   "metadata": {},
   "outputs": [],
   "source": [
    "import matplotlib.pyplot as plt"
   ]
  },
  {
   "cell_type": "code",
   "execution_count": 31,
   "id": "a8fdabbb-e027-4f70-8075-2aba1e957537",
   "metadata": {},
   "outputs": [
    {
     "data": {
      "text/plain": [
       "<matplotlib.collections.PathCollection at 0x7fdf095f34c0>"
      ]
     },
     "execution_count": 31,
     "metadata": {},
     "output_type": "execute_result"
    },
    {
     "data": {
      "image/png": "[encoded data removed]",
      "text/plain": [
       "<Figure size 432x288 with 1 Axes>"
      ]
     },
     "metadata": {
      "needs_background": "light"
     },
     "output_type": "display_data"
    }
   ],
   "source": [
    "plt.scatter(Y_pred, Y_pred-Y_test)"
   ]
  },
  {
   "cell_type": "code",
   "execution_count": 32,
   "id": "928bc420-5c7b-4f85-b059-f7d98b850ff7",
   "metadata": {},
   "outputs": [],
   "source": [
    "from sklearn.metrics import confusion_matrix\n",
    "from sklearn.tree import DecisionTreeClassifier\n",
    "from sklearn.metrics import accuracy_score\n",
    "from sklearn.metrics import classification_report"
   ]
  },
  {
   "cell_type": "markdown",
   "id": "52ce4857-deaa-4913-b349-20089f58e413",
   "metadata": {},
   "source": [
    "## using Decision Tree Classifier (gini criterion)"
   ]
  },
  {
   "cell_type": "code",
   "execution_count": 33,
   "id": "1fb05fe6-0778-4c01-ab21-032d8c3368a1",
   "metadata": {},
   "outputs": [
    {
     "data": {
      "text/plain": [
       "DecisionTreeClassifier(class_weight='balanced', max_depth=3, min_samples_leaf=5,\n",
       "                       random_state=100)"
      ]
     },
     "execution_count": 33,
     "metadata": {},
     "output_type": "execute_result"
    }
   ],
   "source": [
    "#data classification using the Decision tree classifier using the gini method\n",
    "clf_data = DecisionTreeClassifier(criterion = 'gini', random_state = 100, max_depth=3, min_samples_leaf=5, class_weight = 'balanced')\n",
    "clf_data.fit(X_train,Y_train)"
   ]
  },
  {
   "cell_type": "code",
   "execution_count": 34,
   "id": "af9f65d9-2463-4257-b3ea-0875cd3efaf3",
   "metadata": {},
   "outputs": [],
   "source": [
    "Y_pred = clf_data.predict(X_test)"
   ]
  },
  {
   "cell_type": "code",
   "execution_count": 35,
   "id": "00b53e44-27c6-42aa-8000-8b3f84df3906",
   "metadata": {},
   "outputs": [
    {
     "name": "stdout",
     "output_type": "stream",
     "text": [
      "0.8203592814371258\n",
      "              precision    recall  f1-score   support\n",
      "\n",
      "           0       0.90      0.86      0.88      4942\n",
      "           1       0.61      0.70      0.65      1571\n",
      "\n",
      "    accuracy                           0.82      6513\n",
      "   macro avg       0.76      0.78      0.77      6513\n",
      "weighted avg       0.83      0.82      0.82      6513\n",
      "\n"
     ]
    }
   ],
   "source": [
    "print(accuracy_score(Y_test,Y_pred))\n",
    "print(classification_report(Y_test,Y_pred))"
   ]
  },
  {
   "cell_type": "code",
   "execution_count": 65,
   "id": "70cfe20c-865c-4ad2-8ad8-5ed6e0569338",
   "metadata": {},
   "outputs": [
    {
     "data": {
      "text/html": [
       "<div>\n",
       "<style scoped>\n",
       "    .dataframe tbody tr th:only-of-type {\n",
       "        vertical-align: middle;\n",
       "    }\n",
       "\n",
       "    .dataframe tbody tr th {\n",
       "        vertical-align: top;\n",
       "    }\n",
       "\n",
       "    .dataframe thead th {\n",
       "        text-align: right;\n",
       "    }\n",
       "</style>\n",
       "<table border=\"1\" class=\"dataframe\">\n",
       "  <thead>\n",
       "    <tr style=\"text-align: right;\">\n",
       "      <th></th>\n",
       "      <th>Importance</th>\n",
       "    </tr>\n",
       "    <tr>\n",
       "      <th>Features</th>\n",
       "      <th></th>\n",
       "    </tr>\n",
       "  </thead>\n",
       "  <tbody>\n",
       "    <tr>\n",
       "      <th>marital-status_ Married-civ-spouse</th>\n",
       "      <td>0.658874</td>\n",
       "    </tr>\n",
       "    <tr>\n",
       "      <th>education-num</th>\n",
       "      <td>0.178572</td>\n",
       "    </tr>\n",
       "    <tr>\n",
       "      <th>capital-gain</th>\n",
       "      <td>0.162554</td>\n",
       "    </tr>\n",
       "    <tr>\n",
       "      <th>job_ Transport-moving</th>\n",
       "      <td>0.000000</td>\n",
       "    </tr>\n",
       "    <tr>\n",
       "      <th>job_ Craft-repair</th>\n",
       "      <td>0.000000</td>\n",
       "    </tr>\n",
       "    <tr>\n",
       "      <th>job_ Exec-managerial</th>\n",
       "      <td>0.000000</td>\n",
       "    </tr>\n",
       "    <tr>\n",
       "      <th>job_ Farming-fishing</th>\n",
       "      <td>0.000000</td>\n",
       "    </tr>\n",
       "    <tr>\n",
       "      <th>job_ Handlers-cleaners</th>\n",
       "      <td>0.000000</td>\n",
       "    </tr>\n",
       "    <tr>\n",
       "      <th>job_ Machine-op-inspct</th>\n",
       "      <td>0.000000</td>\n",
       "    </tr>\n",
       "    <tr>\n",
       "      <th>job_ Other-service</th>\n",
       "      <td>0.000000</td>\n",
       "    </tr>\n",
       "    <tr>\n",
       "      <th>job_ Priv-house-serv</th>\n",
       "      <td>0.000000</td>\n",
       "    </tr>\n",
       "    <tr>\n",
       "      <th>job_ Prof-specialty</th>\n",
       "      <td>0.000000</td>\n",
       "    </tr>\n",
       "    <tr>\n",
       "      <th>job_ Protective-serv</th>\n",
       "      <td>0.000000</td>\n",
       "    </tr>\n",
       "    <tr>\n",
       "      <th>job_ Sales</th>\n",
       "      <td>0.000000</td>\n",
       "    </tr>\n",
       "    <tr>\n",
       "      <th>job_ Tech-support</th>\n",
       "      <td>0.000000</td>\n",
       "    </tr>\n",
       "    <tr>\n",
       "      <th>age</th>\n",
       "      <td>0.000000</td>\n",
       "    </tr>\n",
       "    <tr>\n",
       "      <th>job_ Armed-Forces</th>\n",
       "      <td>0.000000</td>\n",
       "    </tr>\n",
       "    <tr>\n",
       "      <th>relationship_ Not-in-family</th>\n",
       "      <td>0.000000</td>\n",
       "    </tr>\n",
       "    <tr>\n",
       "      <th>relationship_ Other-relative</th>\n",
       "      <td>0.000000</td>\n",
       "    </tr>\n",
       "    <tr>\n",
       "      <th>relationship_ Own-child</th>\n",
       "      <td>0.000000</td>\n",
       "    </tr>\n",
       "    <tr>\n",
       "      <th>relationship_ Unmarried</th>\n",
       "      <td>0.000000</td>\n",
       "    </tr>\n",
       "    <tr>\n",
       "      <th>relationship_ Wife</th>\n",
       "      <td>0.000000</td>\n",
       "    </tr>\n",
       "    <tr>\n",
       "      <th>race_ Amer-Indian-Eskimo</th>\n",
       "      <td>0.000000</td>\n",
       "    </tr>\n",
       "    <tr>\n",
       "      <th>race_ Asian-Pac-Islander</th>\n",
       "      <td>0.000000</td>\n",
       "    </tr>\n",
       "    <tr>\n",
       "      <th>race_ Black</th>\n",
       "      <td>0.000000</td>\n",
       "    </tr>\n",
       "    <tr>\n",
       "      <th>race_ Other</th>\n",
       "      <td>0.000000</td>\n",
       "    </tr>\n",
       "    <tr>\n",
       "      <th>race_ White</th>\n",
       "      <td>0.000000</td>\n",
       "    </tr>\n",
       "    <tr>\n",
       "      <th>sex_ Female</th>\n",
       "      <td>0.000000</td>\n",
       "    </tr>\n",
       "    <tr>\n",
       "      <th>relationship_ Husband</th>\n",
       "      <td>0.000000</td>\n",
       "    </tr>\n",
       "    <tr>\n",
       "      <th>job_ ?</th>\n",
       "      <td>0.000000</td>\n",
       "    </tr>\n",
       "    <tr>\n",
       "      <th>job_ Adm-clerical</th>\n",
       "      <td>0.000000</td>\n",
       "    </tr>\n",
       "    <tr>\n",
       "      <th>marital-status_ Widowed</th>\n",
       "      <td>0.000000</td>\n",
       "    </tr>\n",
       "    <tr>\n",
       "      <th>capital-loss</th>\n",
       "      <td>0.000000</td>\n",
       "    </tr>\n",
       "    <tr>\n",
       "      <th>hours-per-week</th>\n",
       "      <td>0.000000</td>\n",
       "    </tr>\n",
       "    <tr>\n",
       "      <th>education_ 10th</th>\n",
       "      <td>0.000000</td>\n",
       "    </tr>\n",
       "    <tr>\n",
       "      <th>education_ 11th</th>\n",
       "      <td>0.000000</td>\n",
       "    </tr>\n",
       "    <tr>\n",
       "      <th>education_ 12th</th>\n",
       "      <td>0.000000</td>\n",
       "    </tr>\n",
       "    <tr>\n",
       "      <th>education_ 1st-4th</th>\n",
       "      <td>0.000000</td>\n",
       "    </tr>\n",
       "    <tr>\n",
       "      <th>education_ 5th-6th</th>\n",
       "      <td>0.000000</td>\n",
       "    </tr>\n",
       "    <tr>\n",
       "      <th>education_ 7th-8th</th>\n",
       "      <td>0.000000</td>\n",
       "    </tr>\n",
       "    <tr>\n",
       "      <th>education_ 9th</th>\n",
       "      <td>0.000000</td>\n",
       "    </tr>\n",
       "    <tr>\n",
       "      <th>education_ Assoc-acdm</th>\n",
       "      <td>0.000000</td>\n",
       "    </tr>\n",
       "    <tr>\n",
       "      <th>education_ Assoc-voc</th>\n",
       "      <td>0.000000</td>\n",
       "    </tr>\n",
       "    <tr>\n",
       "      <th>education_ Bachelors</th>\n",
       "      <td>0.000000</td>\n",
       "    </tr>\n",
       "    <tr>\n",
       "      <th>education_ Doctorate</th>\n",
       "      <td>0.000000</td>\n",
       "    </tr>\n",
       "    <tr>\n",
       "      <th>education_ HS-grad</th>\n",
       "      <td>0.000000</td>\n",
       "    </tr>\n",
       "    <tr>\n",
       "      <th>education_ Masters</th>\n",
       "      <td>0.000000</td>\n",
       "    </tr>\n",
       "    <tr>\n",
       "      <th>education_ Preschool</th>\n",
       "      <td>0.000000</td>\n",
       "    </tr>\n",
       "    <tr>\n",
       "      <th>education_ Prof-school</th>\n",
       "      <td>0.000000</td>\n",
       "    </tr>\n",
       "    <tr>\n",
       "      <th>education_ Some-college</th>\n",
       "      <td>0.000000</td>\n",
       "    </tr>\n",
       "    <tr>\n",
       "      <th>marital-status_ Divorced</th>\n",
       "      <td>0.000000</td>\n",
       "    </tr>\n",
       "    <tr>\n",
       "      <th>marital-status_ Married-AF-spouse</th>\n",
       "      <td>0.000000</td>\n",
       "    </tr>\n",
       "    <tr>\n",
       "      <th>marital-status_ Married-spouse-absent</th>\n",
       "      <td>0.000000</td>\n",
       "    </tr>\n",
       "    <tr>\n",
       "      <th>marital-status_ Never-married</th>\n",
       "      <td>0.000000</td>\n",
       "    </tr>\n",
       "    <tr>\n",
       "      <th>marital-status_ Separated</th>\n",
       "      <td>0.000000</td>\n",
       "    </tr>\n",
       "    <tr>\n",
       "      <th>sex_ Male</th>\n",
       "      <td>0.000000</td>\n",
       "    </tr>\n",
       "  </tbody>\n",
       "</table>\n",
       "</div>"
      ],
      "text/plain": [
       "                                       Importance\n",
       "Features                                         \n",
       "marital-status_ Married-civ-spouse       0.658874\n",
       "education-num                            0.178572\n",
       "capital-gain                             0.162554\n",
       "job_ Transport-moving                    0.000000\n",
       "job_ Craft-repair                        0.000000\n",
       "job_ Exec-managerial                     0.000000\n",
       "job_ Farming-fishing                     0.000000\n",
       "job_ Handlers-cleaners                   0.000000\n",
       "job_ Machine-op-inspct                   0.000000\n",
       "job_ Other-service                       0.000000\n",
       "job_ Priv-house-serv                     0.000000\n",
       "job_ Prof-specialty                      0.000000\n",
       "job_ Protective-serv                     0.000000\n",
       "job_ Sales                               0.000000\n",
       "job_ Tech-support                        0.000000\n",
       "age                                      0.000000\n",
       "job_ Armed-Forces                        0.000000\n",
       "relationship_ Not-in-family              0.000000\n",
       "relationship_ Other-relative             0.000000\n",
       "relationship_ Own-child                  0.000000\n",
       "relationship_ Unmarried                  0.000000\n",
       "relationship_ Wife                       0.000000\n",
       "race_ Amer-Indian-Eskimo                 0.000000\n",
       "race_ Asian-Pac-Islander                 0.000000\n",
       "race_ Black                              0.000000\n",
       "race_ Other                              0.000000\n",
       "race_ White                              0.000000\n",
       "sex_ Female                              0.000000\n",
       "relationship_ Husband                    0.000000\n",
       "job_ ?                                   0.000000\n",
       "job_ Adm-clerical                        0.000000\n",
       "marital-status_ Widowed                  0.000000\n",
       "capital-loss                             0.000000\n",
       "hours-per-week                           0.000000\n",
       "education_ 10th                          0.000000\n",
       "education_ 11th                          0.000000\n",
       "education_ 12th                          0.000000\n",
       "education_ 1st-4th                       0.000000\n",
       "education_ 5th-6th                       0.000000\n",
       "education_ 7th-8th                       0.000000\n",
       "education_ 9th                           0.000000\n",
       "education_ Assoc-acdm                    0.000000\n",
       "education_ Assoc-voc                     0.000000\n",
       "education_ Bachelors                     0.000000\n",
       "education_ Doctorate                     0.000000\n",
       "education_ HS-grad                       0.000000\n",
       "education_ Masters                       0.000000\n",
       "education_ Preschool                     0.000000\n",
       "education_ Prof-school                   0.000000\n",
       "education_ Some-college                  0.000000\n",
       "marital-status_ Divorced                 0.000000\n",
       "marital-status_ Married-AF-spouse        0.000000\n",
       "marital-status_ Married-spouse-absent    0.000000\n",
       "marital-status_ Never-married            0.000000\n",
       "marital-status_ Separated                0.000000\n",
       "sex_ Male                                0.000000"
      ]
     },
     "execution_count": 65,
     "metadata": {},
     "output_type": "execute_result"
    }
   ],
   "source": [
    "pd.DataFrame(\n",
    "    dict(Features=X.columns, Importance=clf_data.feature_importances_),\n",
    "    index=range(len(clf_data.feature_importances_))\n",
    ").sort_values('Importance', ascending=False).set_index('Features')"
   ]
  },
  {
   "cell_type": "code",
   "execution_count": 56,
   "id": "a5e7d8e2-14ec-48ea-9da3-2a5a47fc57fe",
   "metadata": {},
   "outputs": [
    {
     "data": {
      "image/png": "[encoded data removed]",
      "text/plain": [
       "<Figure size 720x936 with 1 Axes>"
      ]
     },
     "metadata": {
      "needs_background": "light"
     },
     "output_type": "display_data"
    }
   ],
   "source": [
    "plot_df_1 = pd.DataFrame(\n",
    "    dict(Features=X.columns, Importance=clf_data.feature_importances_),\n",
    "    index=range(len(clf_data.feature_importances_))\n",
    ").sort_values('Importance', ascending=True).set_index('Features')\n",
    "\n",
    "plot_df_1[plot_df_1.values > 0].plot(kind='barh', figsize=(10,13));"
   ]
  },
  {
   "cell_type": "markdown",
   "id": "23f9a01d-25b1-41b6-8ce9-3f832b6558ab",
   "metadata": {},
   "source": [
    "## using Decision Tree Classifier (entropy criterion)"
   ]
  },
  {
   "cell_type": "code",
   "execution_count": 36,
   "id": "5d8d2cd5-0ece-4103-a579-1899f199a21c",
   "metadata": {},
   "outputs": [
    {
     "data": {
      "text/plain": [
       "DecisionTreeClassifier(criterion='entropy', max_depth=3, min_samples_leaf=5,\n",
       "                       random_state=100)"
      ]
     },
     "execution_count": 36,
     "metadata": {},
     "output_type": "execute_result"
    }
   ],
   "source": [
    "#using the Decision Tree  Classifier for entropy\n",
    "clf_data_2 = DecisionTreeClassifier(criterion = 'entropy', random_state = 100, max_depth=3, min_samples_leaf=5)\n",
    "clf_data_2.fit(X_train,Y_train)"
   ]
  },
  {
   "cell_type": "code",
   "execution_count": 37,
   "id": "36348e95-f61f-4b9b-a749-e18c76240aa0",
   "metadata": {},
   "outputs": [
    {
     "data": {
      "text/plain": [
       "DecisionTreeClassifier(class_weight='balanced', criterion='entropy',\n",
       "                       max_depth=3, min_samples_leaf=5, random_state=100)"
      ]
     },
     "execution_count": 37,
     "metadata": {},
     "output_type": "execute_result"
    }
   ],
   "source": [
    "#using the Decision Tree  Classifier for entropy\n",
    "clf_data_3 = DecisionTreeClassifier(criterion = 'entropy', random_state = 100, max_depth=3, min_samples_leaf=5, class_weight = 'balanced')\n",
    "clf_data_3.fit(X_train,Y_train)"
   ]
  },
  {
   "cell_type": "code",
   "execution_count": 38,
   "id": "34bbd54f-37c4-42ba-9039-f3bf23dfb379",
   "metadata": {},
   "outputs": [],
   "source": [
    "Y_pred_1 = clf_data_2.predict(X_test)"
   ]
  },
  {
   "cell_type": "code",
   "execution_count": 39,
   "id": "c078ef4c-6fd7-417e-8945-e3e009609b36",
   "metadata": {},
   "outputs": [],
   "source": [
    "Y_pred_2 = clf_data_3.predict(X_test)"
   ]
  },
  {
   "cell_type": "code",
   "execution_count": 40,
   "id": "91bc2416-2d4e-4f81-b935-1370d67fdb7b",
   "metadata": {},
   "outputs": [
    {
     "name": "stdout",
     "output_type": "stream",
     "text": [
      "0.8450790726239829\n"
     ]
    }
   ],
   "source": [
    "print(accuracy_score(Y_test,Y_pred_1))"
   ]
  },
  {
   "cell_type": "code",
   "execution_count": 41,
   "id": "c253f55e-d34a-48c6-9d06-2ed49ace095f",
   "metadata": {},
   "outputs": [
    {
     "name": "stdout",
     "output_type": "stream",
     "text": [
      "0.7191770305542761\n"
     ]
    }
   ],
   "source": [
    "print(accuracy_score(Y_test,Y_pred_2))"
   ]
  },
  {
   "cell_type": "code",
   "execution_count": 42,
   "id": "564a790e-2e3e-4f00-8fa1-5903fc76bb96",
   "metadata": {},
   "outputs": [
    {
     "name": "stdout",
     "output_type": "stream",
     "text": [
      "              precision    recall  f1-score   support\n",
      "\n",
      "           0       0.86      0.95      0.90      4942\n",
      "           1       0.77      0.52      0.62      1571\n",
      "\n",
      "    accuracy                           0.85      6513\n",
      "   macro avg       0.81      0.73      0.76      6513\n",
      "weighted avg       0.84      0.85      0.83      6513\n",
      "\n"
     ]
    }
   ],
   "source": [
    "print(classification_report(Y_test,Y_pred_1))"
   ]
  },
  {
   "cell_type": "code",
   "execution_count": 43,
   "id": "96e052c9-e9aa-42cd-986b-06cda89160cd",
   "metadata": {},
   "outputs": [
    {
     "name": "stdout",
     "output_type": "stream",
     "text": [
      "              precision    recall  f1-score   support\n",
      "\n",
      "           0       0.94      0.67      0.78      4942\n",
      "           1       0.46      0.88      0.60      1571\n",
      "\n",
      "    accuracy                           0.72      6513\n",
      "   macro avg       0.70      0.77      0.69      6513\n",
      "weighted avg       0.83      0.72      0.74      6513\n",
      "\n"
     ]
    }
   ],
   "source": [
    "print(classification_report(Y_test,Y_pred_2))"
   ]
  },
  {
   "cell_type": "code",
   "execution_count": 64,
   "id": "881f670e-17df-42fc-b74b-6782c14baaed",
   "metadata": {},
   "outputs": [
    {
     "data": {
      "text/html": [
       "<div>\n",
       "<style scoped>\n",
       "    .dataframe tbody tr th:only-of-type {\n",
       "        vertical-align: middle;\n",
       "    }\n",
       "\n",
       "    .dataframe tbody tr th {\n",
       "        vertical-align: top;\n",
       "    }\n",
       "\n",
       "    .dataframe thead th {\n",
       "        text-align: right;\n",
       "    }\n",
       "</style>\n",
       "<table border=\"1\" class=\"dataframe\">\n",
       "  <thead>\n",
       "    <tr style=\"text-align: right;\">\n",
       "      <th></th>\n",
       "      <th>Importance</th>\n",
       "    </tr>\n",
       "    <tr>\n",
       "      <th>Features</th>\n",
       "      <th></th>\n",
       "    </tr>\n",
       "  </thead>\n",
       "  <tbody>\n",
       "    <tr>\n",
       "      <th>marital-status_ Married-civ-spouse</th>\n",
       "      <td>0.592097</td>\n",
       "    </tr>\n",
       "    <tr>\n",
       "      <th>capital-gain</th>\n",
       "      <td>0.216772</td>\n",
       "    </tr>\n",
       "    <tr>\n",
       "      <th>education-num</th>\n",
       "      <td>0.191131</td>\n",
       "    </tr>\n",
       "    <tr>\n",
       "      <th>job_ Transport-moving</th>\n",
       "      <td>0.000000</td>\n",
       "    </tr>\n",
       "    <tr>\n",
       "      <th>job_ Craft-repair</th>\n",
       "      <td>0.000000</td>\n",
       "    </tr>\n",
       "    <tr>\n",
       "      <th>job_ Exec-managerial</th>\n",
       "      <td>0.000000</td>\n",
       "    </tr>\n",
       "    <tr>\n",
       "      <th>job_ Farming-fishing</th>\n",
       "      <td>0.000000</td>\n",
       "    </tr>\n",
       "    <tr>\n",
       "      <th>job_ Handlers-cleaners</th>\n",
       "      <td>0.000000</td>\n",
       "    </tr>\n",
       "    <tr>\n",
       "      <th>job_ Machine-op-inspct</th>\n",
       "      <td>0.000000</td>\n",
       "    </tr>\n",
       "    <tr>\n",
       "      <th>job_ Other-service</th>\n",
       "      <td>0.000000</td>\n",
       "    </tr>\n",
       "    <tr>\n",
       "      <th>job_ Priv-house-serv</th>\n",
       "      <td>0.000000</td>\n",
       "    </tr>\n",
       "    <tr>\n",
       "      <th>job_ Prof-specialty</th>\n",
       "      <td>0.000000</td>\n",
       "    </tr>\n",
       "    <tr>\n",
       "      <th>job_ Protective-serv</th>\n",
       "      <td>0.000000</td>\n",
       "    </tr>\n",
       "    <tr>\n",
       "      <th>job_ Sales</th>\n",
       "      <td>0.000000</td>\n",
       "    </tr>\n",
       "    <tr>\n",
       "      <th>job_ Tech-support</th>\n",
       "      <td>0.000000</td>\n",
       "    </tr>\n",
       "    <tr>\n",
       "      <th>age</th>\n",
       "      <td>0.000000</td>\n",
       "    </tr>\n",
       "    <tr>\n",
       "      <th>job_ Armed-Forces</th>\n",
       "      <td>0.000000</td>\n",
       "    </tr>\n",
       "    <tr>\n",
       "      <th>relationship_ Not-in-family</th>\n",
       "      <td>0.000000</td>\n",
       "    </tr>\n",
       "    <tr>\n",
       "      <th>relationship_ Other-relative</th>\n",
       "      <td>0.000000</td>\n",
       "    </tr>\n",
       "    <tr>\n",
       "      <th>relationship_ Own-child</th>\n",
       "      <td>0.000000</td>\n",
       "    </tr>\n",
       "    <tr>\n",
       "      <th>relationship_ Unmarried</th>\n",
       "      <td>0.000000</td>\n",
       "    </tr>\n",
       "    <tr>\n",
       "      <th>relationship_ Wife</th>\n",
       "      <td>0.000000</td>\n",
       "    </tr>\n",
       "    <tr>\n",
       "      <th>race_ Amer-Indian-Eskimo</th>\n",
       "      <td>0.000000</td>\n",
       "    </tr>\n",
       "    <tr>\n",
       "      <th>race_ Asian-Pac-Islander</th>\n",
       "      <td>0.000000</td>\n",
       "    </tr>\n",
       "    <tr>\n",
       "      <th>race_ Black</th>\n",
       "      <td>0.000000</td>\n",
       "    </tr>\n",
       "    <tr>\n",
       "      <th>race_ Other</th>\n",
       "      <td>0.000000</td>\n",
       "    </tr>\n",
       "    <tr>\n",
       "      <th>race_ White</th>\n",
       "      <td>0.000000</td>\n",
       "    </tr>\n",
       "    <tr>\n",
       "      <th>sex_ Female</th>\n",
       "      <td>0.000000</td>\n",
       "    </tr>\n",
       "    <tr>\n",
       "      <th>relationship_ Husband</th>\n",
       "      <td>0.000000</td>\n",
       "    </tr>\n",
       "    <tr>\n",
       "      <th>job_ ?</th>\n",
       "      <td>0.000000</td>\n",
       "    </tr>\n",
       "    <tr>\n",
       "      <th>job_ Adm-clerical</th>\n",
       "      <td>0.000000</td>\n",
       "    </tr>\n",
       "    <tr>\n",
       "      <th>marital-status_ Widowed</th>\n",
       "      <td>0.000000</td>\n",
       "    </tr>\n",
       "    <tr>\n",
       "      <th>capital-loss</th>\n",
       "      <td>0.000000</td>\n",
       "    </tr>\n",
       "    <tr>\n",
       "      <th>hours-per-week</th>\n",
       "      <td>0.000000</td>\n",
       "    </tr>\n",
       "    <tr>\n",
       "      <th>education_ 10th</th>\n",
       "      <td>0.000000</td>\n",
       "    </tr>\n",
       "    <tr>\n",
       "      <th>education_ 11th</th>\n",
       "      <td>0.000000</td>\n",
       "    </tr>\n",
       "    <tr>\n",
       "      <th>education_ 12th</th>\n",
       "      <td>0.000000</td>\n",
       "    </tr>\n",
       "    <tr>\n",
       "      <th>education_ 1st-4th</th>\n",
       "      <td>0.000000</td>\n",
       "    </tr>\n",
       "    <tr>\n",
       "      <th>education_ 5th-6th</th>\n",
       "      <td>0.000000</td>\n",
       "    </tr>\n",
       "    <tr>\n",
       "      <th>education_ 7th-8th</th>\n",
       "      <td>0.000000</td>\n",
       "    </tr>\n",
       "    <tr>\n",
       "      <th>education_ 9th</th>\n",
       "      <td>0.000000</td>\n",
       "    </tr>\n",
       "    <tr>\n",
       "      <th>education_ Assoc-acdm</th>\n",
       "      <td>0.000000</td>\n",
       "    </tr>\n",
       "    <tr>\n",
       "      <th>education_ Assoc-voc</th>\n",
       "      <td>0.000000</td>\n",
       "    </tr>\n",
       "    <tr>\n",
       "      <th>education_ Bachelors</th>\n",
       "      <td>0.000000</td>\n",
       "    </tr>\n",
       "    <tr>\n",
       "      <th>education_ Doctorate</th>\n",
       "      <td>0.000000</td>\n",
       "    </tr>\n",
       "    <tr>\n",
       "      <th>education_ HS-grad</th>\n",
       "      <td>0.000000</td>\n",
       "    </tr>\n",
       "    <tr>\n",
       "      <th>education_ Masters</th>\n",
       "      <td>0.000000</td>\n",
       "    </tr>\n",
       "    <tr>\n",
       "      <th>education_ Preschool</th>\n",
       "      <td>0.000000</td>\n",
       "    </tr>\n",
       "    <tr>\n",
       "      <th>education_ Prof-school</th>\n",
       "      <td>0.000000</td>\n",
       "    </tr>\n",
       "    <tr>\n",
       "      <th>education_ Some-college</th>\n",
       "      <td>0.000000</td>\n",
       "    </tr>\n",
       "    <tr>\n",
       "      <th>marital-status_ Divorced</th>\n",
       "      <td>0.000000</td>\n",
       "    </tr>\n",
       "    <tr>\n",
       "      <th>marital-status_ Married-AF-spouse</th>\n",
       "      <td>0.000000</td>\n",
       "    </tr>\n",
       "    <tr>\n",
       "      <th>marital-status_ Married-spouse-absent</th>\n",
       "      <td>0.000000</td>\n",
       "    </tr>\n",
       "    <tr>\n",
       "      <th>marital-status_ Never-married</th>\n",
       "      <td>0.000000</td>\n",
       "    </tr>\n",
       "    <tr>\n",
       "      <th>marital-status_ Separated</th>\n",
       "      <td>0.000000</td>\n",
       "    </tr>\n",
       "    <tr>\n",
       "      <th>sex_ Male</th>\n",
       "      <td>0.000000</td>\n",
       "    </tr>\n",
       "  </tbody>\n",
       "</table>\n",
       "</div>"
      ],
      "text/plain": [
       "                                       Importance\n",
       "Features                                         \n",
       "marital-status_ Married-civ-spouse       0.592097\n",
       "capital-gain                             0.216772\n",
       "education-num                            0.191131\n",
       "job_ Transport-moving                    0.000000\n",
       "job_ Craft-repair                        0.000000\n",
       "job_ Exec-managerial                     0.000000\n",
       "job_ Farming-fishing                     0.000000\n",
       "job_ Handlers-cleaners                   0.000000\n",
       "job_ Machine-op-inspct                   0.000000\n",
       "job_ Other-service                       0.000000\n",
       "job_ Priv-house-serv                     0.000000\n",
       "job_ Prof-specialty                      0.000000\n",
       "job_ Protective-serv                     0.000000\n",
       "job_ Sales                               0.000000\n",
       "job_ Tech-support                        0.000000\n",
       "age                                      0.000000\n",
       "job_ Armed-Forces                        0.000000\n",
       "relationship_ Not-in-family              0.000000\n",
       "relationship_ Other-relative             0.000000\n",
       "relationship_ Own-child                  0.000000\n",
       "relationship_ Unmarried                  0.000000\n",
       "relationship_ Wife                       0.000000\n",
       "race_ Amer-Indian-Eskimo                 0.000000\n",
       "race_ Asian-Pac-Islander                 0.000000\n",
       "race_ Black                              0.000000\n",
       "race_ Other                              0.000000\n",
       "race_ White                              0.000000\n",
       "sex_ Female                              0.000000\n",
       "relationship_ Husband                    0.000000\n",
       "job_ ?                                   0.000000\n",
       "job_ Adm-clerical                        0.000000\n",
       "marital-status_ Widowed                  0.000000\n",
       "capital-loss                             0.000000\n",
       "hours-per-week                           0.000000\n",
       "education_ 10th                          0.000000\n",
       "education_ 11th                          0.000000\n",
       "education_ 12th                          0.000000\n",
       "education_ 1st-4th                       0.000000\n",
       "education_ 5th-6th                       0.000000\n",
       "education_ 7th-8th                       0.000000\n",
       "education_ 9th                           0.000000\n",
       "education_ Assoc-acdm                    0.000000\n",
       "education_ Assoc-voc                     0.000000\n",
       "education_ Bachelors                     0.000000\n",
       "education_ Doctorate                     0.000000\n",
       "education_ HS-grad                       0.000000\n",
       "education_ Masters                       0.000000\n",
       "education_ Preschool                     0.000000\n",
       "education_ Prof-school                   0.000000\n",
       "education_ Some-college                  0.000000\n",
       "marital-status_ Divorced                 0.000000\n",
       "marital-status_ Married-AF-spouse        0.000000\n",
       "marital-status_ Married-spouse-absent    0.000000\n",
       "marital-status_ Never-married            0.000000\n",
       "marital-status_ Separated                0.000000\n",
       "sex_ Male                                0.000000"
      ]
     },
     "execution_count": 64,
     "metadata": {},
     "output_type": "execute_result"
    }
   ],
   "source": [
    "pd.DataFrame(\n",
    "    dict(Features=X.columns, Importance=clf_data_3.feature_importances_),\n",
    "    index=range(len(clf_data_3.feature_importances_))\n",
    ").sort_values('Importance', ascending=False).set_index('Features')#.plot(kind='barh', figsize=(10,13));"
   ]
  },
  {
   "cell_type": "code",
   "execution_count": 45,
   "id": "d328cf9e-bd6d-4f89-97dc-b23c3f29b98d",
   "metadata": {},
   "outputs": [
    {
     "data": {
      "image/png": "[encoded data removed]",
      "text/plain": [
       "<Figure size 720x936 with 1 Axes>"
      ]
     },
     "metadata": {
      "needs_background": "light"
     },
     "output_type": "display_data"
    }
   ],
   "source": [
    "plot_df = pd.DataFrame(\n",
    "    dict(Features=X.columns, Importance=clf_data_3.feature_importances_),\n",
    "    index=range(len(clf_data_3.feature_importances_))\n",
    ").sort_values('Importance', ascending=True).set_index('Features')\n",
    "\n",
    "plot_df[plot_df.values > 0].plot(kind='barh', figsize=(10,13));"
   ]
  },
  {
   "cell_type": "code",
   "execution_count": null,
   "id": "c0c3182e-99ee-4fdc-aa9d-e64b3a03cf1c",
   "metadata": {},
   "outputs": [],
   "source": [
    "data_sets_to_try = {\n",
    "    'OG': X,\n",
    "    'Tree_based_ft_select': plot_df[plot_df.values > 0]\n",
    "}\n",
    "\n",
    "models_to_try = {\n",
    "    'Logistic_Reg': LogisticRe\n",
    "}"
   ]
  },
  {
   "cell_type": "code",
   "execution_count": null,
   "id": "c0a62b72-768b-4e9e-8a39-a7f8b9d7f26e",
   "metadata": {},
   "outputs": [],
   "source": [
    "Results = {}\n",
    "\n",
    "for DS in ddata_sets_to_try.keys():\n",
    "    for Model in models_to_try.keys():\n",
    "        model = models_to_try[Model]\n",
    "        tmp_X = data_sets_to_try[DS]\n",
    "        \n",
    "        # fit\n",
    "        # predict \n",
    "        # score \n",
    "        \n",
    "        Results[Model] = [DS, score]"
   ]
  },
  {
   "cell_type": "code",
   "execution_count": null,
   "id": "1a1e148d-79ec-4879-9d3e-627530f35f48",
   "metadata": {},
   "outputs": [],
   "source": []
  },
  {
   "cell_type": "code",
   "execution_count": null,
   "id": "a4343fe0-d524-45d5-9d49-03d3c951c5cd",
   "metadata": {},
   "outputs": [],
   "source": [
    "clf_data_3.feature_importances_"
   ]
  },
  {
   "cell_type": "markdown",
   "id": "d21fc22b-a1c7-4b4f-9304-938fa29a49cf",
   "metadata": {},
   "source": [
    "## using the nearest k-NN algorithm"
   ]
  },
  {
   "cell_type": "code",
   "execution_count": 87,
   "id": "b8c62241-c5ed-4094-8bfd-38d6c091bc65",
   "metadata": {},
   "outputs": [],
   "source": [
    "from sklearn.neighbors import KNeighborsClassifier"
   ]
  },
  {
   "cell_type": "code",
   "execution_count": 88,
   "id": "dae95ed7-972b-48ed-a663-a5084868398b",
   "metadata": {},
   "outputs": [
    {
     "data": {
      "text/plain": [
       "KNeighborsClassifier()"
      ]
     },
     "execution_count": 88,
     "metadata": {},
     "output_type": "execute_result"
    }
   ],
   "source": [
    "classifier = KNeighborsClassifier(n_neighbors=5)\n",
    "classifier.fit(X_train, Y_train)"
   ]
  },
  {
   "cell_type": "code",
   "execution_count": 89,
   "id": "99aee281-1cc3-4d37-85c0-fb765c367ac1",
   "metadata": {},
   "outputs": [],
   "source": [
    "y_pred = classifier.predict(X_test)"
   ]
  },
  {
   "cell_type": "code",
   "execution_count": 90,
   "id": "fe9b181e-70e3-42f3-b80d-edaac00e4d42",
   "metadata": {},
   "outputs": [
    {
     "name": "stdout",
     "output_type": "stream",
     "text": [
      "0.8484569322892677\n"
     ]
    }
   ],
   "source": [
    "print(accuracy_score(Y_test,y_pred))"
   ]
  },
  {
   "cell_type": "code",
   "execution_count": 91,
   "id": "b126e591-db2f-40e4-8883-6263a483863c",
   "metadata": {},
   "outputs": [
    {
     "name": "stdout",
     "output_type": "stream",
     "text": [
      "              precision    recall  f1-score   support\n",
      "\n",
      "           0       0.89      0.91      0.90      4942\n",
      "           1       0.70      0.65      0.68      1571\n",
      "\n",
      "    accuracy                           0.85      6513\n",
      "   macro avg       0.80      0.78      0.79      6513\n",
      "weighted avg       0.85      0.85      0.85      6513\n",
      "\n"
     ]
    }
   ],
   "source": [
    "print(classification_report(Y_test,y_pred))"
   ]
  },
  {
   "cell_type": "code",
   "execution_count": 51,
   "id": "7d39179b-7444-4698-93f8-58c2cc4fd64e",
   "metadata": {},
   "outputs": [
    {
     "data": {
      "text/plain": [
       "0    5041\n",
       "1    1472\n",
       "dtype: int64"
      ]
     },
     "execution_count": 51,
     "metadata": {},
     "output_type": "execute_result"
    }
   ],
   "source": [
    "pd.DataFrame(y_pred).value_counts()"
   ]
  },
  {
   "cell_type": "code",
   "execution_count": 52,
   "id": "3733f5cc-7674-48eb-86a7-3098a2051f52",
   "metadata": {},
   "outputs": [
    {
     "data": {
      "text/plain": [
       "the_label\n",
       "0            4942\n",
       "1            1571\n",
       "dtype: int64"
      ]
     },
     "execution_count": 52,
     "metadata": {},
     "output_type": "execute_result"
    }
   ],
   "source": [
    "pd.DataFrame(Y_test).value_counts()"
   ]
  },
  {
   "cell_type": "markdown",
   "id": "af57d60c-0782-4577-8b18-ad383e9d5e4a",
   "metadata": {},
   "source": [
    "## Using Logistic Regression"
   ]
  },
  {
   "cell_type": "code",
   "execution_count": 95,
   "id": "4ad874eb-f2b9-480d-b972-84077ed41015",
   "metadata": {},
   "outputs": [],
   "source": [
    "from sklearn.linear_model import LogisticRegression"
   ]
  },
  {
   "cell_type": "code",
   "execution_count": 96,
   "id": "b11a4705-38bc-4712-9a1e-34d668c82a91",
   "metadata": {},
   "outputs": [
    {
     "name": "stdout",
     "output_type": "stream",
     "text": [
      "0.8079226163058498\n"
     ]
    }
   ],
   "source": [
    "classifiers = LogisticRegression(random_state = 0, max_iter=2000, class_weight = 'balanced')\n",
    "classifiers.fit(X_train,Y_train)\n",
    "Y_prediction = classifiers.predict(X_test)\n",
    "print(accuracy_score(Y_test,Y_prediction))"
   ]
  },
  {
   "cell_type": "code",
   "execution_count": 97,
   "id": "5f92f3ba-0c07-4aac-9fe5-92bfd1b98500",
   "metadata": {},
   "outputs": [
    {
     "name": "stdout",
     "output_type": "stream",
     "text": [
      "              precision    recall  f1-score   support\n",
      "\n",
      "           0       0.94      0.80      0.86      4942\n",
      "           1       0.57      0.85      0.68      1571\n",
      "\n",
      "    accuracy                           0.81      6513\n",
      "   macro avg       0.76      0.82      0.77      6513\n",
      "weighted avg       0.85      0.81      0.82      6513\n",
      "\n"
     ]
    }
   ],
   "source": [
    "print(classification_report(Y_test, Y_prediction))"
   ]
  },
  {
   "cell_type": "code",
   "execution_count": 110,
   "id": "25d046fe-2280-419a-8435-6c7601c4817f",
   "metadata": {},
   "outputs": [
    {
     "data": {
      "text/html": [
       "<div>\n",
       "<style scoped>\n",
       "    .dataframe tbody tr th:only-of-type {\n",
       "        vertical-align: middle;\n",
       "    }\n",
       "\n",
       "    .dataframe tbody tr th {\n",
       "        vertical-align: top;\n",
       "    }\n",
       "\n",
       "    .dataframe thead th {\n",
       "        text-align: right;\n",
       "    }\n",
       "</style>\n",
       "<table border=\"1\" class=\"dataframe\">\n",
       "  <thead>\n",
       "    <tr style=\"text-align: right;\">\n",
       "      <th></th>\n",
       "      <th>Attribute</th>\n",
       "      <th>Importance</th>\n",
       "    </tr>\n",
       "  </thead>\n",
       "  <tbody>\n",
       "    <tr>\n",
       "      <th>48</th>\n",
       "      <td>relationship_ Wife</td>\n",
       "      <td>1.192409</td>\n",
       "    </tr>\n",
       "    <tr>\n",
       "      <th>23</th>\n",
       "      <td>marital-status_ Married-civ-spouse</td>\n",
       "      <td>0.716631</td>\n",
       "    </tr>\n",
       "    <tr>\n",
       "      <th>15</th>\n",
       "      <td>education_ Doctorate</td>\n",
       "      <td>0.659754</td>\n",
       "    </tr>\n",
       "    <tr>\n",
       "      <th>32</th>\n",
       "      <td>job_ Exec-managerial</td>\n",
       "      <td>0.633172</td>\n",
       "    </tr>\n",
       "    <tr>\n",
       "      <th>19</th>\n",
       "      <td>education_ Prof-school</td>\n",
       "      <td>0.621949</td>\n",
       "    </tr>\n",
       "    <tr>\n",
       "      <th>41</th>\n",
       "      <td>job_ Tech-support</td>\n",
       "      <td>0.581658</td>\n",
       "    </tr>\n",
       "    <tr>\n",
       "      <th>39</th>\n",
       "      <td>job_ Protective-serv</td>\n",
       "      <td>0.402578</td>\n",
       "    </tr>\n",
       "    <tr>\n",
       "      <th>38</th>\n",
       "      <td>job_ Prof-specialty</td>\n",
       "      <td>0.348189</td>\n",
       "    </tr>\n",
       "    <tr>\n",
       "      <th>17</th>\n",
       "      <td>education_ Masters</td>\n",
       "      <td>0.306687</td>\n",
       "    </tr>\n",
       "    <tr>\n",
       "      <th>40</th>\n",
       "      <td>job_ Sales</td>\n",
       "      <td>0.176702</td>\n",
       "    </tr>\n",
       "    <tr>\n",
       "      <th>1</th>\n",
       "      <td>education-num</td>\n",
       "      <td>0.169185</td>\n",
       "    </tr>\n",
       "    <tr>\n",
       "      <th>22</th>\n",
       "      <td>marital-status_ Married-AF-spouse</td>\n",
       "      <td>0.129699</td>\n",
       "    </tr>\n",
       "    <tr>\n",
       "      <th>14</th>\n",
       "      <td>education_ Bachelors</td>\n",
       "      <td>0.103810</td>\n",
       "    </tr>\n",
       "    <tr>\n",
       "      <th>4</th>\n",
       "      <td>hours-per-week</td>\n",
       "      <td>0.031262</td>\n",
       "    </tr>\n",
       "    <tr>\n",
       "      <th>0</th>\n",
       "      <td>age</td>\n",
       "      <td>0.026668</td>\n",
       "    </tr>\n",
       "    <tr>\n",
       "      <th>3</th>\n",
       "      <td>capital-loss</td>\n",
       "      <td>0.000588</td>\n",
       "    </tr>\n",
       "    <tr>\n",
       "      <th>2</th>\n",
       "      <td>capital-gain</td>\n",
       "      <td>0.000311</td>\n",
       "    </tr>\n",
       "    <tr>\n",
       "      <th>30</th>\n",
       "      <td>job_ Armed-Forces</td>\n",
       "      <td>-0.012986</td>\n",
       "    </tr>\n",
       "    <tr>\n",
       "      <th>31</th>\n",
       "      <td>job_ Craft-repair</td>\n",
       "      <td>-0.026100</td>\n",
       "    </tr>\n",
       "    <tr>\n",
       "      <th>13</th>\n",
       "      <td>education_ Assoc-voc</td>\n",
       "      <td>-0.041177</td>\n",
       "    </tr>\n",
       "    <tr>\n",
       "      <th>29</th>\n",
       "      <td>job_ Adm-clerical</td>\n",
       "      <td>-0.063749</td>\n",
       "    </tr>\n",
       "    <tr>\n",
       "      <th>20</th>\n",
       "      <td>education_ Some-college</td>\n",
       "      <td>-0.073767</td>\n",
       "    </tr>\n",
       "    <tr>\n",
       "      <th>18</th>\n",
       "      <td>education_ Preschool</td>\n",
       "      <td>-0.100302</td>\n",
       "    </tr>\n",
       "    <tr>\n",
       "      <th>37</th>\n",
       "      <td>job_ Priv-house-serv</td>\n",
       "      <td>-0.183373</td>\n",
       "    </tr>\n",
       "    <tr>\n",
       "      <th>42</th>\n",
       "      <td>job_ Transport-moving</td>\n",
       "      <td>-0.208447</td>\n",
       "    </tr>\n",
       "    <tr>\n",
       "      <th>12</th>\n",
       "      <td>education_ Assoc-acdm</td>\n",
       "      <td>-0.227182</td>\n",
       "    </tr>\n",
       "    <tr>\n",
       "      <th>8</th>\n",
       "      <td>education_ 1st-4th</td>\n",
       "      <td>-0.240618</td>\n",
       "    </tr>\n",
       "    <tr>\n",
       "      <th>16</th>\n",
       "      <td>education_ HS-grad</td>\n",
       "      <td>-0.308378</td>\n",
       "    </tr>\n",
       "    <tr>\n",
       "      <th>7</th>\n",
       "      <td>education_ 12th</td>\n",
       "      <td>-0.312780</td>\n",
       "    </tr>\n",
       "    <tr>\n",
       "      <th>43</th>\n",
       "      <td>relationship_ Husband</td>\n",
       "      <td>-0.324804</td>\n",
       "    </tr>\n",
       "    <tr>\n",
       "      <th>24</th>\n",
       "      <td>marital-status_ Married-spouse-absent</td>\n",
       "      <td>-0.375225</td>\n",
       "    </tr>\n",
       "    <tr>\n",
       "      <th>35</th>\n",
       "      <td>job_ Machine-op-inspct</td>\n",
       "      <td>-0.384679</td>\n",
       "    </tr>\n",
       "    <tr>\n",
       "      <th>53</th>\n",
       "      <td>race_ White</td>\n",
       "      <td>-0.426689</td>\n",
       "    </tr>\n",
       "    <tr>\n",
       "      <th>9</th>\n",
       "      <td>education_ 5th-6th</td>\n",
       "      <td>-0.443096</td>\n",
       "    </tr>\n",
       "    <tr>\n",
       "      <th>52</th>\n",
       "      <td>race_ Other</td>\n",
       "      <td>-0.454713</td>\n",
       "    </tr>\n",
       "    <tr>\n",
       "      <th>11</th>\n",
       "      <td>education_ 9th</td>\n",
       "      <td>-0.486726</td>\n",
       "    </tr>\n",
       "    <tr>\n",
       "      <th>27</th>\n",
       "      <td>marital-status_ Widowed</td>\n",
       "      <td>-0.488305</td>\n",
       "    </tr>\n",
       "    <tr>\n",
       "      <th>49</th>\n",
       "      <td>race_ Amer-Indian-Eskimo</td>\n",
       "      <td>-0.489438</td>\n",
       "    </tr>\n",
       "    <tr>\n",
       "      <th>44</th>\n",
       "      <td>relationship_ Not-in-family</td>\n",
       "      <td>-0.491384</td>\n",
       "    </tr>\n",
       "    <tr>\n",
       "      <th>50</th>\n",
       "      <td>race_ Asian-Pac-Islander</td>\n",
       "      <td>-0.608603</td>\n",
       "    </tr>\n",
       "    <tr>\n",
       "      <th>5</th>\n",
       "      <td>education_ 10th</td>\n",
       "      <td>-0.629458</td>\n",
       "    </tr>\n",
       "    <tr>\n",
       "      <th>51</th>\n",
       "      <td>race_ Black</td>\n",
       "      <td>-0.653323</td>\n",
       "    </tr>\n",
       "    <tr>\n",
       "      <th>47</th>\n",
       "      <td>relationship_ Unmarried</td>\n",
       "      <td>-0.657124</td>\n",
       "    </tr>\n",
       "    <tr>\n",
       "      <th>21</th>\n",
       "      <td>marital-status_ Divorced</td>\n",
       "      <td>-0.690027</td>\n",
       "    </tr>\n",
       "    <tr>\n",
       "      <th>34</th>\n",
       "      <td>job_ Handlers-cleaners</td>\n",
       "      <td>-0.712526</td>\n",
       "    </tr>\n",
       "    <tr>\n",
       "      <th>10</th>\n",
       "      <td>education_ 7th-8th</td>\n",
       "      <td>-0.728920</td>\n",
       "    </tr>\n",
       "    <tr>\n",
       "      <th>6</th>\n",
       "      <td>education_ 11th</td>\n",
       "      <td>-0.732564</td>\n",
       "    </tr>\n",
       "    <tr>\n",
       "      <th>26</th>\n",
       "      <td>marital-status_ Separated</td>\n",
       "      <td>-0.746571</td>\n",
       "    </tr>\n",
       "    <tr>\n",
       "      <th>45</th>\n",
       "      <td>relationship_ Other-relative</td>\n",
       "      <td>-0.749105</td>\n",
       "    </tr>\n",
       "    <tr>\n",
       "      <th>55</th>\n",
       "      <td>sex_ Male</td>\n",
       "      <td>-0.842918</td>\n",
       "    </tr>\n",
       "    <tr>\n",
       "      <th>28</th>\n",
       "      <td>job_ ?</td>\n",
       "      <td>-0.860304</td>\n",
       "    </tr>\n",
       "    <tr>\n",
       "      <th>36</th>\n",
       "      <td>job_ Other-service</td>\n",
       "      <td>-0.977199</td>\n",
       "    </tr>\n",
       "    <tr>\n",
       "      <th>25</th>\n",
       "      <td>marital-status_ Never-married</td>\n",
       "      <td>-1.178968</td>\n",
       "    </tr>\n",
       "    <tr>\n",
       "      <th>33</th>\n",
       "      <td>job_ Farming-fishing</td>\n",
       "      <td>-1.345705</td>\n",
       "    </tr>\n",
       "    <tr>\n",
       "      <th>46</th>\n",
       "      <td>relationship_ Own-child</td>\n",
       "      <td>-1.602758</td>\n",
       "    </tr>\n",
       "    <tr>\n",
       "      <th>54</th>\n",
       "      <td>sex_ Female</td>\n",
       "      <td>-1.789849</td>\n",
       "    </tr>\n",
       "  </tbody>\n",
       "</table>\n",
       "</div>"
      ],
      "text/plain": [
       "                                Attribute  Importance\n",
       "48                     relationship_ Wife    1.192409\n",
       "23     marital-status_ Married-civ-spouse    0.716631\n",
       "15                   education_ Doctorate    0.659754\n",
       "32                   job_ Exec-managerial    0.633172\n",
       "19                 education_ Prof-school    0.621949\n",
       "41                      job_ Tech-support    0.581658\n",
       "39                   job_ Protective-serv    0.402578\n",
       "38                    job_ Prof-specialty    0.348189\n",
       "17                     education_ Masters    0.306687\n",
       "40                             job_ Sales    0.176702\n",
       "1                           education-num    0.169185\n",
       "22      marital-status_ Married-AF-spouse    0.129699\n",
       "14                   education_ Bachelors    0.103810\n",
       "4                          hours-per-week    0.031262\n",
       "0                                     age    0.026668\n",
       "3                            capital-loss    0.000588\n",
       "2                            capital-gain    0.000311\n",
       "30                      job_ Armed-Forces   -0.012986\n",
       "31                      job_ Craft-repair   -0.026100\n",
       "13                   education_ Assoc-voc   -0.041177\n",
       "29                      job_ Adm-clerical   -0.063749\n",
       "20                education_ Some-college   -0.073767\n",
       "18                   education_ Preschool   -0.100302\n",
       "37                   job_ Priv-house-serv   -0.183373\n",
       "42                  job_ Transport-moving   -0.208447\n",
       "12                  education_ Assoc-acdm   -0.227182\n",
       "8                      education_ 1st-4th   -0.240618\n",
       "16                     education_ HS-grad   -0.308378\n",
       "7                         education_ 12th   -0.312780\n",
       "43                  relationship_ Husband   -0.324804\n",
       "24  marital-status_ Married-spouse-absent   -0.375225\n",
       "35                 job_ Machine-op-inspct   -0.384679\n",
       "53                            race_ White   -0.426689\n",
       "9                      education_ 5th-6th   -0.443096\n",
       "52                            race_ Other   -0.454713\n",
       "11                         education_ 9th   -0.486726\n",
       "27                marital-status_ Widowed   -0.488305\n",
       "49               race_ Amer-Indian-Eskimo   -0.489438\n",
       "44            relationship_ Not-in-family   -0.491384\n",
       "50               race_ Asian-Pac-Islander   -0.608603\n",
       "5                         education_ 10th   -0.629458\n",
       "51                            race_ Black   -0.653323\n",
       "47                relationship_ Unmarried   -0.657124\n",
       "21               marital-status_ Divorced   -0.690027\n",
       "34                 job_ Handlers-cleaners   -0.712526\n",
       "10                     education_ 7th-8th   -0.728920\n",
       "6                         education_ 11th   -0.732564\n",
       "26              marital-status_ Separated   -0.746571\n",
       "45           relationship_ Other-relative   -0.749105\n",
       "55                              sex_ Male   -0.842918\n",
       "28                                 job_ ?   -0.860304\n",
       "36                     job_ Other-service   -0.977199\n",
       "25          marital-status_ Never-married   -1.178968\n",
       "33                   job_ Farming-fishing   -1.345705\n",
       "46                relationship_ Own-child   -1.602758\n",
       "54                            sex_ Female   -1.789849"
      ]
     },
     "execution_count": 110,
     "metadata": {},
     "output_type": "execute_result"
    }
   ],
   "source": [
    "feat_imp=pd.DataFrame(data={\n",
    "    'Attribute': X_train.columns,\n",
    "    'Importance': classifiers.coef_[0]}).sort_values('Importance', ascending=False)\n",
    "feat_imp"
   ]
  },
  {
   "cell_type": "code",
   "execution_count": 130,
   "id": "cc1898c1-c865-46e9-9653-bcf05ec53b2d",
   "metadata": {},
   "outputs": [
    {
     "data": {
      "text/plain": [
       "<AxesSubplot:title={'center':'Feature Importance for Logistic Regression'}, ylabel='Attribute/Feature'>"
      ]
     },
     "execution_count": 130,
     "metadata": {},
     "output_type": "execute_result"
    },
    {
     "data": {
      "image/png": "[encoded data removed]",
      "text/plain": [
       "<Figure size 720x1080 with 1 Axes>"
      ]
     },
     "metadata": {
      "needs_background": "light"
     },
     "output_type": "display_data"
    }
   ],
   "source": [
    "feat_imp.plot(x='Attribute', y='Importance',kind='barh', figsize=(10,15),\n",
    "              title='Feature Importance for Logistic Regression', ylabel='Importance',\n",
    "              xlabel ='Attribute/Feature' )"
   ]
  },
  {
   "cell_type": "code",
   "execution_count": 125,
   "id": "aa907625-3ce7-42a0-8dd8-0c40dcc12c98",
   "metadata": {},
   "outputs": [
    {
     "data": {
      "text/html": [
       "<div>\n",
       "<style scoped>\n",
       "    .dataframe tbody tr th:only-of-type {\n",
       "        vertical-align: middle;\n",
       "    }\n",
       "\n",
       "    .dataframe tbody tr th {\n",
       "        vertical-align: top;\n",
       "    }\n",
       "\n",
       "    .dataframe thead th {\n",
       "        text-align: right;\n",
       "    }\n",
       "</style>\n",
       "<table border=\"1\" class=\"dataframe\">\n",
       "  <thead>\n",
       "    <tr style=\"text-align: right;\">\n",
       "      <th></th>\n",
       "      <th>Attribute</th>\n",
       "      <th>Importance</th>\n",
       "    </tr>\n",
       "  </thead>\n",
       "  <tbody>\n",
       "    <tr>\n",
       "      <th>48</th>\n",
       "      <td>relationship_ Wife</td>\n",
       "      <td>1.192409</td>\n",
       "    </tr>\n",
       "    <tr>\n",
       "      <th>23</th>\n",
       "      <td>marital-status_ Married-civ-spouse</td>\n",
       "      <td>0.716631</td>\n",
       "    </tr>\n",
       "    <tr>\n",
       "      <th>15</th>\n",
       "      <td>education_ Doctorate</td>\n",
       "      <td>0.659754</td>\n",
       "    </tr>\n",
       "    <tr>\n",
       "      <th>32</th>\n",
       "      <td>job_ Exec-managerial</td>\n",
       "      <td>0.633172</td>\n",
       "    </tr>\n",
       "    <tr>\n",
       "      <th>19</th>\n",
       "      <td>education_ Prof-school</td>\n",
       "      <td>0.621949</td>\n",
       "    </tr>\n",
       "    <tr>\n",
       "      <th>41</th>\n",
       "      <td>job_ Tech-support</td>\n",
       "      <td>0.581658</td>\n",
       "    </tr>\n",
       "    <tr>\n",
       "      <th>39</th>\n",
       "      <td>job_ Protective-serv</td>\n",
       "      <td>0.402578</td>\n",
       "    </tr>\n",
       "    <tr>\n",
       "      <th>38</th>\n",
       "      <td>job_ Prof-specialty</td>\n",
       "      <td>0.348189</td>\n",
       "    </tr>\n",
       "    <tr>\n",
       "      <th>17</th>\n",
       "      <td>education_ Masters</td>\n",
       "      <td>0.306687</td>\n",
       "    </tr>\n",
       "    <tr>\n",
       "      <th>40</th>\n",
       "      <td>job_ Sales</td>\n",
       "      <td>0.176702</td>\n",
       "    </tr>\n",
       "    <tr>\n",
       "      <th>1</th>\n",
       "      <td>education-num</td>\n",
       "      <td>0.169185</td>\n",
       "    </tr>\n",
       "    <tr>\n",
       "      <th>22</th>\n",
       "      <td>marital-status_ Married-AF-spouse</td>\n",
       "      <td>0.129699</td>\n",
       "    </tr>\n",
       "    <tr>\n",
       "      <th>14</th>\n",
       "      <td>education_ Bachelors</td>\n",
       "      <td>0.103810</td>\n",
       "    </tr>\n",
       "    <tr>\n",
       "      <th>4</th>\n",
       "      <td>hours-per-week</td>\n",
       "      <td>0.031262</td>\n",
       "    </tr>\n",
       "    <tr>\n",
       "      <th>0</th>\n",
       "      <td>age</td>\n",
       "      <td>0.026668</td>\n",
       "    </tr>\n",
       "  </tbody>\n",
       "</table>\n",
       "</div>"
      ],
      "text/plain": [
       "                             Attribute  Importance\n",
       "48                  relationship_ Wife    1.192409\n",
       "23  marital-status_ Married-civ-spouse    0.716631\n",
       "15                education_ Doctorate    0.659754\n",
       "32                job_ Exec-managerial    0.633172\n",
       "19              education_ Prof-school    0.621949\n",
       "41                   job_ Tech-support    0.581658\n",
       "39                job_ Protective-serv    0.402578\n",
       "38                 job_ Prof-specialty    0.348189\n",
       "17                  education_ Masters    0.306687\n",
       "40                          job_ Sales    0.176702\n",
       "1                        education-num    0.169185\n",
       "22   marital-status_ Married-AF-spouse    0.129699\n",
       "14                education_ Bachelors    0.103810\n",
       "4                       hours-per-week    0.031262\n",
       "0                                  age    0.026668"
      ]
     },
     "execution_count": 125,
     "metadata": {},
     "output_type": "execute_result"
    }
   ],
   "source": [
    "feat_imp_15 = feat_imp.head(15)\n",
    "feat_imp_15"
   ]
  },
  {
   "cell_type": "code",
   "execution_count": 131,
   "id": "50519837-1a2e-446f-9224-635971dae0f2",
   "metadata": {},
   "outputs": [
    {
     "data": {
      "text/plain": [
       "<AxesSubplot:title={'center':'Top 15 Feature Importance using Logistic Regression'}, ylabel='Attribute/Feature'>"
      ]
     },
     "execution_count": 131,
     "metadata": {},
     "output_type": "execute_result"
    },
    {
     "data": {
      "image/png": "[encoded data removed]",
      "text/plain": [
       "<Figure size 720x936 with 1 Axes>"
      ]
     },
     "metadata": {
      "needs_background": "light"
     },
     "output_type": "display_data"
    }
   ],
   "source": [
    "feat_imp_15.plot(x='Attribute', y='Importance',kind='barh', figsize=(10,13),\n",
    "                title='Top 15 Feature Importance using Logistic Regression', ylabel='Importance',\n",
    "                xlabel ='Attribute/Feature')"
   ]
  },
  {
   "cell_type": "code",
   "execution_count": null,
   "id": "61a04a97-4a1b-4689-9898-9d07b64e0c83",
   "metadata": {},
   "outputs": [],
   "source": []
  }
 ],
 "metadata": {
  "kernelspec": {
   "display_name": "Python 3",
   "language": "python",
   "name": "python3"
  },
  "language_info": {
   "codemirror_mode": {
    "name": "ipython",
    "version": 3
   },
   "file_extension": ".py",
   "mimetype": "text/x-python",
   "name": "python",
   "nbconvert_exporter": "python",
   "pygments_lexer": "ipython3",
   "version": "3.8.8"
  }
 },
 "nbformat": 4,
 "nbformat_minor": 5
}
