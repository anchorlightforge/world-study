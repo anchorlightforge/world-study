{
 "cells": [
  {
   "cell_type": "code",
   "execution_count": 1,
   "id": "162dfc42",
   "metadata": {},
   "outputs": [],
   "source": [
    "import pandas as pd\n",
    "import os"
   ]
  },
  {
   "cell_type": "code",
   "execution_count": 2,
   "id": "af3cf39d",
   "metadata": {},
   "outputs": [],
   "source": [
    "pathToManufacturer = os.path.join(\"..\",\"Resources\",\"country_vaccinations_by_manufacturer.csv\")\n",
    "pathToTotal = os.path.join(\"..\",\"Resources\",\"country_vaccinations.csv\")\n",
    "total_vacc_df = pd.read_csv(pathToTotal)\n",
    "manufacturer_vacc_df = pd.read_csv(pathToManufacturer) "
   ]
  },
  {
   "cell_type": "code",
   "execution_count": null,
   "id": "b99053e9",
   "metadata": {},
   "outputs": [],
   "source": []
  }
 ],
 "metadata": {
  "kernelspec": {
   "display_name": "Python 3",
   "language": "python",
   "name": "python3"
  },
  "language_info": {
   "codemirror_mode": {
    "name": "ipython",
    "version": 3
   },
   "file_extension": ".py",
   "mimetype": "text/x-python",
   "name": "python",
   "nbconvert_exporter": "python",
   "pygments_lexer": "ipython3",
   "version": "3.8.8"
  }
 },
 "nbformat": 4,
 "nbformat_minor": 5
}
