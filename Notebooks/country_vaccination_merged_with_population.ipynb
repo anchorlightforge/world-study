{
 "cells": [
  {
   "cell_type": "code",
   "execution_count": 1,
   "id": "5479876b-a5e3-491d-9e62-5eeed1d8a2ab",
   "metadata": {},
   "outputs": [],
   "source": [
    "import pandas as pd\n",
    "import numpy as np\n",
    "import os\n",
    "import matplotlib.pyplot as plt\n",
    "import plotly.express as px"
   ]
  },
  {
   "cell_type": "code",
   "execution_count": 2,
   "id": "c40e2ffb-7c62-4244-9adf-e3892ffb1fc3",
   "metadata": {},
   "outputs": [
    {
     "data": {
      "text/plain": [
       "222"
      ]
     },
     "execution_count": 2,
     "metadata": {},
     "output_type": "execute_result"
    }
   ],
   "source": [
    "country_vaccination = pd.read_csv('../Resources/country_vaccinations.csv')\n",
    "#number of countries in the dataset\n",
    "len(country_vaccination.country.unique())"
   ]
  },
  {
   "cell_type": "code",
   "execution_count": 3,
   "id": "df98b693-b12e-461f-adef-c87869bf6552",
   "metadata": {},
   "outputs": [
    {
     "data": {
      "text/html": [
       "<div>\n",
       "<style scoped>\n",
       "    .dataframe tbody tr th:only-of-type {\n",
       "        vertical-align: middle;\n",
       "    }\n",
       "\n",
       "    .dataframe tbody tr th {\n",
       "        vertical-align: top;\n",
       "    }\n",
       "\n",
       "    .dataframe thead th {\n",
       "        text-align: right;\n",
       "    }\n",
       "</style>\n",
       "<table border=\"1\" class=\"dataframe\">\n",
       "  <thead>\n",
       "    <tr style=\"text-align: right;\">\n",
       "      <th></th>\n",
       "      <th>total_vaccinations</th>\n",
       "      <th>people_vaccinated</th>\n",
       "      <th>people_fully_vaccinated</th>\n",
       "      <th>daily_vaccinations_raw</th>\n",
       "      <th>daily_vaccinations</th>\n",
       "      <th>total_vaccinations_per_hundred</th>\n",
       "      <th>people_vaccinated_per_hundred</th>\n",
       "      <th>people_fully_vaccinated_per_hundred</th>\n",
       "      <th>daily_vaccinations_per_million</th>\n",
       "    </tr>\n",
       "    <tr>\n",
       "      <th>country</th>\n",
       "      <th></th>\n",
       "      <th></th>\n",
       "      <th></th>\n",
       "      <th></th>\n",
       "      <th></th>\n",
       "      <th></th>\n",
       "      <th></th>\n",
       "      <th></th>\n",
       "      <th></th>\n",
       "    </tr>\n",
       "  </thead>\n",
       "  <tbody>\n",
       "    <tr>\n",
       "      <th>Afghanistan</th>\n",
       "      <td>21296011.0</td>\n",
       "      <td>10866939.0</td>\n",
       "      <td>2799706.0</td>\n",
       "      <td>6874.0</td>\n",
       "      <td>2921017.0</td>\n",
       "      <td>53.49</td>\n",
       "      <td>27.29</td>\n",
       "      <td>7.02</td>\n",
       "      <td>73316.0</td>\n",
       "    </tr>\n",
       "    <tr>\n",
       "      <th>Albania</th>\n",
       "      <td>135862014.0</td>\n",
       "      <td>70210242.0</td>\n",
       "      <td>51405555.0</td>\n",
       "      <td>1157611.0</td>\n",
       "      <td>1708421.0</td>\n",
       "      <td>4729.01</td>\n",
       "      <td>2443.85</td>\n",
       "      <td>1789.34</td>\n",
       "      <td>594650.0</td>\n",
       "    </tr>\n",
       "    <tr>\n",
       "      <th>Algeria</th>\n",
       "      <td>36293703.0</td>\n",
       "      <td>20328384.0</td>\n",
       "      <td>7757754.0</td>\n",
       "      <td>30.0</td>\n",
       "      <td>13143703.0</td>\n",
       "      <td>81.34</td>\n",
       "      <td>45.57</td>\n",
       "      <td>17.38</td>\n",
       "      <td>294530.0</td>\n",
       "    </tr>\n",
       "    <tr>\n",
       "      <th>Andorra</th>\n",
       "      <td>935725.0</td>\n",
       "      <td>575636.0</td>\n",
       "      <td>298631.0</td>\n",
       "      <td>4802.0</td>\n",
       "      <td>94622.0</td>\n",
       "      <td>1209.68</td>\n",
       "      <td>744.18</td>\n",
       "      <td>386.06</td>\n",
       "      <td>1223230.0</td>\n",
       "    </tr>\n",
       "    <tr>\n",
       "      <th>Angola</th>\n",
       "      <td>37213552.0</td>\n",
       "      <td>24362153.0</td>\n",
       "      <td>12851399.0</td>\n",
       "      <td>0.0</td>\n",
       "      <td>3002212.0</td>\n",
       "      <td>109.68</td>\n",
       "      <td>71.78</td>\n",
       "      <td>37.87</td>\n",
       "      <td>88469.0</td>\n",
       "    </tr>\n",
       "    <tr>\n",
       "      <th>...</th>\n",
       "      <td>...</td>\n",
       "      <td>...</td>\n",
       "      <td>...</td>\n",
       "      <td>...</td>\n",
       "      <td>...</td>\n",
       "      <td>...</td>\n",
       "      <td>...</td>\n",
       "      <td>...</td>\n",
       "      <td>...</td>\n",
       "    </tr>\n",
       "    <tr>\n",
       "      <th>Wales</th>\n",
       "      <td>698563767.0</td>\n",
       "      <td>430451824.0</td>\n",
       "      <td>268111943.0</td>\n",
       "      <td>4466667.0</td>\n",
       "      <td>4593411.0</td>\n",
       "      <td>22036.72</td>\n",
       "      <td>13578.87</td>\n",
       "      <td>8457.81</td>\n",
       "      <td>1449020.0</td>\n",
       "    </tr>\n",
       "    <tr>\n",
       "      <th>Wallis and Futuna</th>\n",
       "      <td>198955.0</td>\n",
       "      <td>113641.0</td>\n",
       "      <td>85314.0</td>\n",
       "      <td>0.0</td>\n",
       "      <td>9875.0</td>\n",
       "      <td>1793.35</td>\n",
       "      <td>1024.35</td>\n",
       "      <td>769.00</td>\n",
       "      <td>890123.0</td>\n",
       "    </tr>\n",
       "    <tr>\n",
       "      <th>Yemen</th>\n",
       "      <td>2584227.0</td>\n",
       "      <td>2499271.0</td>\n",
       "      <td>84956.0</td>\n",
       "      <td>0.0</td>\n",
       "      <td>343815.0</td>\n",
       "      <td>8.47</td>\n",
       "      <td>8.19</td>\n",
       "      <td>0.28</td>\n",
       "      <td>11278.0</td>\n",
       "    </tr>\n",
       "    <tr>\n",
       "      <th>Zambia</th>\n",
       "      <td>29172871.0</td>\n",
       "      <td>16817256.0</td>\n",
       "      <td>9492820.0</td>\n",
       "      <td>433901.0</td>\n",
       "      <td>696952.0</td>\n",
       "      <td>154.22</td>\n",
       "      <td>88.89</td>\n",
       "      <td>50.18</td>\n",
       "      <td>36831.0</td>\n",
       "    </tr>\n",
       "    <tr>\n",
       "      <th>Zimbabwe</th>\n",
       "      <td>334594250.0</td>\n",
       "      <td>210305845.0</td>\n",
       "      <td>124288405.0</td>\n",
       "      <td>4634137.0</td>\n",
       "      <td>5270299.0</td>\n",
       "      <td>2217.05</td>\n",
       "      <td>1393.51</td>\n",
       "      <td>823.47</td>\n",
       "      <td>349202.0</td>\n",
       "    </tr>\n",
       "  </tbody>\n",
       "</table>\n",
       "<p>222 rows × 9 columns</p>\n",
       "</div>"
      ],
      "text/plain": [
       "                   total_vaccinations  people_vaccinated  \\\n",
       "country                                                    \n",
       "Afghanistan                21296011.0         10866939.0   \n",
       "Albania                   135862014.0         70210242.0   \n",
       "Algeria                    36293703.0         20328384.0   \n",
       "Andorra                      935725.0           575636.0   \n",
       "Angola                     37213552.0         24362153.0   \n",
       "...                               ...                ...   \n",
       "Wales                     698563767.0        430451824.0   \n",
       "Wallis and Futuna            198955.0           113641.0   \n",
       "Yemen                       2584227.0          2499271.0   \n",
       "Zambia                     29172871.0         16817256.0   \n",
       "Zimbabwe                  334594250.0        210305845.0   \n",
       "\n",
       "                   people_fully_vaccinated  daily_vaccinations_raw  \\\n",
       "country                                                              \n",
       "Afghanistan                      2799706.0                  6874.0   \n",
       "Albania                         51405555.0               1157611.0   \n",
       "Algeria                          7757754.0                    30.0   \n",
       "Andorra                           298631.0                  4802.0   \n",
       "Angola                          12851399.0                     0.0   \n",
       "...                                    ...                     ...   \n",
       "Wales                          268111943.0               4466667.0   \n",
       "Wallis and Futuna                  85314.0                     0.0   \n",
       "Yemen                              84956.0                     0.0   \n",
       "Zambia                           9492820.0                433901.0   \n",
       "Zimbabwe                       124288405.0               4634137.0   \n",
       "\n",
       "                   daily_vaccinations  total_vaccinations_per_hundred  \\\n",
       "country                                                                 \n",
       "Afghanistan                 2921017.0                           53.49   \n",
       "Albania                     1708421.0                         4729.01   \n",
       "Algeria                    13143703.0                           81.34   \n",
       "Andorra                       94622.0                         1209.68   \n",
       "Angola                      3002212.0                          109.68   \n",
       "...                               ...                             ...   \n",
       "Wales                       4593411.0                        22036.72   \n",
       "Wallis and Futuna              9875.0                         1793.35   \n",
       "Yemen                        343815.0                            8.47   \n",
       "Zambia                       696952.0                          154.22   \n",
       "Zimbabwe                    5270299.0                         2217.05   \n",
       "\n",
       "                   people_vaccinated_per_hundred  \\\n",
       "country                                            \n",
       "Afghanistan                                27.29   \n",
       "Albania                                  2443.85   \n",
       "Algeria                                    45.57   \n",
       "Andorra                                   744.18   \n",
       "Angola                                     71.78   \n",
       "...                                          ...   \n",
       "Wales                                   13578.87   \n",
       "Wallis and Futuna                        1024.35   \n",
       "Yemen                                       8.19   \n",
       "Zambia                                     88.89   \n",
       "Zimbabwe                                 1393.51   \n",
       "\n",
       "                   people_fully_vaccinated_per_hundred  \\\n",
       "country                                                  \n",
       "Afghanistan                                       7.02   \n",
       "Albania                                        1789.34   \n",
       "Algeria                                          17.38   \n",
       "Andorra                                         386.06   \n",
       "Angola                                           37.87   \n",
       "...                                                ...   \n",
       "Wales                                          8457.81   \n",
       "Wallis and Futuna                               769.00   \n",
       "Yemen                                             0.28   \n",
       "Zambia                                           50.18   \n",
       "Zimbabwe                                        823.47   \n",
       "\n",
       "                   daily_vaccinations_per_million  \n",
       "country                                            \n",
       "Afghanistan                               73316.0  \n",
       "Albania                                  594650.0  \n",
       "Algeria                                  294530.0  \n",
       "Andorra                                 1223230.0  \n",
       "Angola                                    88469.0  \n",
       "...                                           ...  \n",
       "Wales                                   1449020.0  \n",
       "Wallis and Futuna                        890123.0  \n",
       "Yemen                                     11278.0  \n",
       "Zambia                                    36831.0  \n",
       "Zimbabwe                                 349202.0  \n",
       "\n",
       "[222 rows x 9 columns]"
      ]
     },
     "execution_count": 3,
     "metadata": {},
     "output_type": "execute_result"
    }
   ],
   "source": [
    "#total vaccinations grouped by country from beginning of recording to current record\n",
    "country_vaccination_df = country_vaccination.groupby('country').sum()\n",
    "country_vaccination_df"
   ]
  },
  {
   "cell_type": "code",
   "execution_count": 4,
   "id": "40a7242a-4b03-4d67-892f-d2b9d24de591",
   "metadata": {},
   "outputs": [
    {
     "data": {
      "text/plain": [
       "38"
      ]
     },
     "execution_count": 4,
     "metadata": {},
     "output_type": "execute_result"
    }
   ],
   "source": [
    "# number of countries in the country_vaccinations_by_manufacturer.csv dataset\n",
    "country_vaccination = pd.read_csv('../Resources/country_vaccinations_by_manufacturer.csv')\n",
    "len(country_vaccination.location.unique())"
   ]
  },
  {
   "cell_type": "code",
   "execution_count": 5,
   "id": "c76988f2-b85a-4ad7-bd6b-33d7795404ea",
   "metadata": {},
   "outputs": [
    {
     "name": "stdout",
     "output_type": "stream",
     "text": [
      "<class 'pandas.core.frame.DataFrame'>\n",
      "RangeIndex: 4967 entries, 0 to 4966\n",
      "Data columns (total 11 columns):\n",
      " #   Column              Non-Null Count  Dtype  \n",
      "---  ------              --------------  -----  \n",
      " 0   Unnamed: 0          4967 non-null   int64  \n",
      " 1   location            4967 non-null   object \n",
      " 2   date                4967 non-null   object \n",
      " 3   CanSino             179 non-null    float64\n",
      " 4   Johnson&Johnson     2730 non-null   float64\n",
      " 5   Moderna             3787 non-null   float64\n",
      " 6   Oxford/AstraZeneca  3612 non-null   float64\n",
      " 7   Pfizer/BioNTech     4966 non-null   float64\n",
      " 8   Sinopharm/Beijing   311 non-null    float64\n",
      " 9   Sinovac             919 non-null    float64\n",
      " 10  Sputnik V           327 non-null    float64\n",
      "dtypes: float64(8), int64(1), object(2)\n",
      "memory usage: 427.0+ KB\n"
     ]
    }
   ],
   "source": [
    "\n",
    "vacc_count_df = pd.read_csv('../Resources/manufacturer_breakdown.csv')\n",
    "vacc_count_df.info()"
   ]
  },
  {
   "cell_type": "code",
   "execution_count": 6,
   "id": "3dff2d38-5e03-485b-9ec0-07dae29d2813",
   "metadata": {},
   "outputs": [
    {
     "data": {
      "text/plain": [
       "Unnamed: 0               0\n",
       "location                 0\n",
       "date                     0\n",
       "CanSino               4788\n",
       "Johnson&Johnson       2237\n",
       "Moderna               1180\n",
       "Oxford/AstraZeneca    1355\n",
       "Pfizer/BioNTech          1\n",
       "Sinopharm/Beijing     4656\n",
       "Sinovac               4048\n",
       "Sputnik V             4640\n",
       "dtype: int64"
      ]
     },
     "execution_count": 6,
     "metadata": {},
     "output_type": "execute_result"
    }
   ],
   "source": [
    "vacc_count_df.isnull().sum()"
   ]
  },
  {
   "cell_type": "code",
   "execution_count": 7,
   "id": "0a79be1a-592e-4898-bc3d-5a88abce2567",
   "metadata": {},
   "outputs": [
    {
     "data": {
      "text/html": [
       "<div>\n",
       "<style scoped>\n",
       "    .dataframe tbody tr th:only-of-type {\n",
       "        vertical-align: middle;\n",
       "    }\n",
       "\n",
       "    .dataframe tbody tr th {\n",
       "        vertical-align: top;\n",
       "    }\n",
       "\n",
       "    .dataframe thead th {\n",
       "        text-align: right;\n",
       "    }\n",
       "</style>\n",
       "<table border=\"1\" class=\"dataframe\">\n",
       "  <thead>\n",
       "    <tr style=\"text-align: right;\">\n",
       "      <th></th>\n",
       "      <th>iso_code</th>\n",
       "      <th>country</th>\n",
       "      <th>2021_last_updated</th>\n",
       "      <th>2020_population</th>\n",
       "      <th>area</th>\n",
       "      <th>density_sq_km</th>\n",
       "      <th>growth_rate</th>\n",
       "      <th>world_%</th>\n",
       "      <th>rank</th>\n",
       "    </tr>\n",
       "  </thead>\n",
       "  <tbody>\n",
       "    <tr>\n",
       "      <th>0</th>\n",
       "      <td>CHN</td>\n",
       "      <td>China</td>\n",
       "      <td>1,445,558,229</td>\n",
       "      <td>1,439,323,776</td>\n",
       "      <td>9,706,961 sq_km</td>\n",
       "      <td>149/sq_km</td>\n",
       "      <td>0.34%</td>\n",
       "      <td>18.34%</td>\n",
       "      <td>1</td>\n",
       "    </tr>\n",
       "    <tr>\n",
       "      <th>1</th>\n",
       "      <td>IND</td>\n",
       "      <td>India</td>\n",
       "      <td>1,397,131,040</td>\n",
       "      <td>1,380,004,385</td>\n",
       "      <td>3,287,590 sq_km</td>\n",
       "      <td>424/sq_km</td>\n",
       "      <td>0.97%</td>\n",
       "      <td>17.69%</td>\n",
       "      <td>2</td>\n",
       "    </tr>\n",
       "    <tr>\n",
       "      <th>2</th>\n",
       "      <td>USA</td>\n",
       "      <td>United States</td>\n",
       "      <td>333,453,648</td>\n",
       "      <td>331,002,651</td>\n",
       "      <td>9,372,610 sq_km</td>\n",
       "      <td>36/sq_km</td>\n",
       "      <td>0.58%</td>\n",
       "      <td>4.23%</td>\n",
       "      <td>3</td>\n",
       "    </tr>\n",
       "    <tr>\n",
       "      <th>3</th>\n",
       "      <td>IDN</td>\n",
       "      <td>Indonesia</td>\n",
       "      <td>277,151,016</td>\n",
       "      <td>273,523,615</td>\n",
       "      <td>1,904,569 sq_km</td>\n",
       "      <td>145/sq_km</td>\n",
       "      <td>1.04%</td>\n",
       "      <td>3.51%</td>\n",
       "      <td>4</td>\n",
       "    </tr>\n",
       "    <tr>\n",
       "      <th>4</th>\n",
       "      <td>PAK</td>\n",
       "      <td>Pakistan</td>\n",
       "      <td>226,389,268</td>\n",
       "      <td>220,892,340</td>\n",
       "      <td>881,912 sq_km</td>\n",
       "      <td>255/sq_km</td>\n",
       "      <td>1.95%</td>\n",
       "      <td>2.86%</td>\n",
       "      <td>5</td>\n",
       "    </tr>\n",
       "  </tbody>\n",
       "</table>\n",
       "</div>"
      ],
      "text/plain": [
       "  iso_code        country 2021_last_updated 2020_population             area  \\\n",
       "0      CHN          China     1,445,558,229   1,439,323,776  9,706,961 sq_km   \n",
       "1      IND          India     1,397,131,040   1,380,004,385  3,287,590 sq_km   \n",
       "2      USA  United States       333,453,648     331,002,651  9,372,610 sq_km   \n",
       "3      IDN      Indonesia       277,151,016     273,523,615  1,904,569 sq_km   \n",
       "4      PAK       Pakistan       226,389,268     220,892,340    881,912 sq_km   \n",
       "\n",
       "  density_sq_km growth_rate world_%  rank  \n",
       "0     149/sq_km       0.34%  18.34%     1  \n",
       "1     424/sq_km       0.97%  17.69%     2  \n",
       "2      36/sq_km       0.58%   4.23%     3  \n",
       "3     145/sq_km       1.04%   3.51%     4  \n",
       "4     255/sq_km       1.95%   2.86%     5  "
      ]
     },
     "execution_count": 7,
     "metadata": {},
     "output_type": "execute_result"
    }
   ],
   "source": [
    "pop_df = pd.read_csv('../Resources/2021_population.csv')\n",
    "pop_df.head()"
   ]
  },
  {
   "cell_type": "code",
   "execution_count": 8,
   "id": "e7575793-ba39-4ee2-a7b9-2fb5edbe77fd",
   "metadata": {},
   "outputs": [],
   "source": [
    "\"\"\"def convert_to_integer(data_value):\n",
    "    value = []\n",
    "    for i in data_value:\n",
    "        value.append(i.replace(\",\",\"\"))\n",
    "        i.strip()\n",
    "        i.astype('int')\n",
    "    value\n",
    "    data_value[]\n",
    "    return \"\"\"\n",
    "# function to take out comma and white space and to convert string to integer\n",
    "# yet to look at generalizing it for taking out other unwanted units and strings sufch as /sq_km\n",
    "def convert_to_integer(data_value):\n",
    "    data_value = data_value.replace(\",\",\"\")#,'sq_km':'','%':''})\n",
    "    data_value = data_value.strip()\n",
    "    data_value = int(data_value)\n",
    "    \n",
    "    return data_value \n"
   ]
  },
  {
   "cell_type": "code",
   "execution_count": 9,
   "id": "07e22689-f933-42e3-8af5-503106bff6f7",
   "metadata": {},
   "outputs": [
    {
     "data": {
      "text/html": [
       "<div>\n",
       "<style scoped>\n",
       "    .dataframe tbody tr th:only-of-type {\n",
       "        vertical-align: middle;\n",
       "    }\n",
       "\n",
       "    .dataframe tbody tr th {\n",
       "        vertical-align: top;\n",
       "    }\n",
       "\n",
       "    .dataframe thead th {\n",
       "        text-align: right;\n",
       "    }\n",
       "</style>\n",
       "<table border=\"1\" class=\"dataframe\">\n",
       "  <thead>\n",
       "    <tr style=\"text-align: right;\">\n",
       "      <th></th>\n",
       "      <th>iso_code</th>\n",
       "      <th>country</th>\n",
       "      <th>2021_last_updated</th>\n",
       "      <th>2020_population</th>\n",
       "      <th>area</th>\n",
       "      <th>density_sq_km</th>\n",
       "      <th>growth_rate</th>\n",
       "      <th>world_%</th>\n",
       "      <th>rank</th>\n",
       "    </tr>\n",
       "  </thead>\n",
       "  <tbody>\n",
       "    <tr>\n",
       "      <th>0</th>\n",
       "      <td>CHN</td>\n",
       "      <td>China</td>\n",
       "      <td>1445558229</td>\n",
       "      <td>1,439,323,776</td>\n",
       "      <td>9,706,961 sq_km</td>\n",
       "      <td>149/sq_km</td>\n",
       "      <td>0.34%</td>\n",
       "      <td>18.34%</td>\n",
       "      <td>1</td>\n",
       "    </tr>\n",
       "    <tr>\n",
       "      <th>1</th>\n",
       "      <td>IND</td>\n",
       "      <td>India</td>\n",
       "      <td>1397131040</td>\n",
       "      <td>1,380,004,385</td>\n",
       "      <td>3,287,590 sq_km</td>\n",
       "      <td>424/sq_km</td>\n",
       "      <td>0.97%</td>\n",
       "      <td>17.69%</td>\n",
       "      <td>2</td>\n",
       "    </tr>\n",
       "    <tr>\n",
       "      <th>2</th>\n",
       "      <td>USA</td>\n",
       "      <td>United States</td>\n",
       "      <td>333453648</td>\n",
       "      <td>331,002,651</td>\n",
       "      <td>9,372,610 sq_km</td>\n",
       "      <td>36/sq_km</td>\n",
       "      <td>0.58%</td>\n",
       "      <td>4.23%</td>\n",
       "      <td>3</td>\n",
       "    </tr>\n",
       "    <tr>\n",
       "      <th>3</th>\n",
       "      <td>IDN</td>\n",
       "      <td>Indonesia</td>\n",
       "      <td>277151016</td>\n",
       "      <td>273,523,615</td>\n",
       "      <td>1,904,569 sq_km</td>\n",
       "      <td>145/sq_km</td>\n",
       "      <td>1.04%</td>\n",
       "      <td>3.51%</td>\n",
       "      <td>4</td>\n",
       "    </tr>\n",
       "    <tr>\n",
       "      <th>4</th>\n",
       "      <td>PAK</td>\n",
       "      <td>Pakistan</td>\n",
       "      <td>226389268</td>\n",
       "      <td>220,892,340</td>\n",
       "      <td>881,912 sq_km</td>\n",
       "      <td>255/sq_km</td>\n",
       "      <td>1.95%</td>\n",
       "      <td>2.86%</td>\n",
       "      <td>5</td>\n",
       "    </tr>\n",
       "    <tr>\n",
       "      <th>...</th>\n",
       "      <td>...</td>\n",
       "      <td>...</td>\n",
       "      <td>...</td>\n",
       "      <td>...</td>\n",
       "      <td>...</td>\n",
       "      <td>...</td>\n",
       "      <td>...</td>\n",
       "      <td>...</td>\n",
       "      <td>...</td>\n",
       "    </tr>\n",
       "    <tr>\n",
       "      <th>223</th>\n",
       "      <td>MSR</td>\n",
       "      <td>Montserrat</td>\n",
       "      <td>4977</td>\n",
       "      <td>4,992</td>\n",
       "      <td>102 sq_km</td>\n",
       "      <td>49/sq_km</td>\n",
       "      <td>-0.30%</td>\n",
       "      <td>0.00%</td>\n",
       "      <td>228</td>\n",
       "    </tr>\n",
       "    <tr>\n",
       "      <th>224</th>\n",
       "      <td>FLK</td>\n",
       "      <td>Falkland Islands</td>\n",
       "      <td>3533</td>\n",
       "      <td>3,480</td>\n",
       "      <td>12,173 sq_km</td>\n",
       "      <td>0/sq_km</td>\n",
       "      <td>1.52%</td>\n",
       "      <td>0.00%</td>\n",
       "      <td>229</td>\n",
       "    </tr>\n",
       "    <tr>\n",
       "      <th>225</th>\n",
       "      <td>NIU</td>\n",
       "      <td>Niue</td>\n",
       "      <td>1619</td>\n",
       "      <td>1,626</td>\n",
       "      <td>260 sq_km</td>\n",
       "      <td>6/sq_km</td>\n",
       "      <td>-0.43%</td>\n",
       "      <td>0.00%</td>\n",
       "      <td>230</td>\n",
       "    </tr>\n",
       "    <tr>\n",
       "      <th>226</th>\n",
       "      <td>TKL</td>\n",
       "      <td>Tokelau</td>\n",
       "      <td>1373</td>\n",
       "      <td>1,357</td>\n",
       "      <td>12 sq_km</td>\n",
       "      <td>114/sq_km</td>\n",
       "      <td>1.18%</td>\n",
       "      <td>0.00%</td>\n",
       "      <td>231</td>\n",
       "    </tr>\n",
       "    <tr>\n",
       "      <th>227</th>\n",
       "      <td>VAT</td>\n",
       "      <td>Vatican City</td>\n",
       "      <td>800</td>\n",
       "      <td>801</td>\n",
       "      <td>1 sq_km</td>\n",
       "      <td>800/sq_km</td>\n",
       "      <td>-0.12%</td>\n",
       "      <td>0.00%</td>\n",
       "      <td>232</td>\n",
       "    </tr>\n",
       "  </tbody>\n",
       "</table>\n",
       "<p>228 rows × 9 columns</p>\n",
       "</div>"
      ],
      "text/plain": [
       "    iso_code           country  2021_last_updated 2020_population  \\\n",
       "0        CHN             China         1445558229   1,439,323,776   \n",
       "1        IND             India         1397131040   1,380,004,385   \n",
       "2        USA     United States          333453648     331,002,651   \n",
       "3        IDN         Indonesia          277151016     273,523,615   \n",
       "4        PAK          Pakistan          226389268     220,892,340   \n",
       "..       ...               ...                ...             ...   \n",
       "223      MSR        Montserrat               4977           4,992   \n",
       "224      FLK  Falkland Islands               3533           3,480   \n",
       "225      NIU              Niue               1619           1,626   \n",
       "226      TKL           Tokelau               1373           1,357   \n",
       "227      VAT      Vatican City                800             801   \n",
       "\n",
       "                area density_sq_km growth_rate world_%  rank  \n",
       "0    9,706,961 sq_km     149/sq_km       0.34%  18.34%     1  \n",
       "1    3,287,590 sq_km     424/sq_km       0.97%  17.69%     2  \n",
       "2    9,372,610 sq_km      36/sq_km       0.58%   4.23%     3  \n",
       "3    1,904,569 sq_km     145/sq_km       1.04%   3.51%     4  \n",
       "4      881,912 sq_km     255/sq_km       1.95%   2.86%     5  \n",
       "..               ...           ...         ...     ...   ...  \n",
       "223        102 sq_km      49/sq_km      -0.30%   0.00%   228  \n",
       "224     12,173 sq_km       0/sq_km       1.52%   0.00%   229  \n",
       "225        260 sq_km       6/sq_km      -0.43%   0.00%   230  \n",
       "226         12 sq_km     114/sq_km       1.18%   0.00%   231  \n",
       "227          1 sq_km     800/sq_km      -0.12%   0.00%   232  \n",
       "\n",
       "[228 rows x 9 columns]"
      ]
     },
     "execution_count": 9,
     "metadata": {},
     "output_type": "execute_result"
    }
   ],
   "source": [
    "#applying function to 2021_last_updated column\n",
    "pop_df[\"2021_last_updated\"] = pop_df[\"2021_last_updated\"].apply(convert_to_integer)\n",
    "pop_df"
   ]
  },
  {
   "cell_type": "code",
   "execution_count": 29,
   "id": "e1535e36-e740-4141-9f51-add8e01a20fd",
   "metadata": {},
   "outputs": [
    {
     "data": {
      "text/html": [
       "<div>\n",
       "<style scoped>\n",
       "    .dataframe tbody tr th:only-of-type {\n",
       "        vertical-align: middle;\n",
       "    }\n",
       "\n",
       "    .dataframe tbody tr th {\n",
       "        vertical-align: top;\n",
       "    }\n",
       "\n",
       "    .dataframe thead th {\n",
       "        text-align: right;\n",
       "    }\n",
       "</style>\n",
       "<table border=\"1\" class=\"dataframe\">\n",
       "  <thead>\n",
       "    <tr style=\"text-align: right;\">\n",
       "      <th></th>\n",
       "      <th>country</th>\n",
       "      <th>total_vaccinations</th>\n",
       "      <th>people_vaccinated</th>\n",
       "      <th>people_fully_vaccinated</th>\n",
       "      <th>daily_vaccinations_raw</th>\n",
       "      <th>daily_vaccinations</th>\n",
       "      <th>total_vaccinations_per_hundred</th>\n",
       "      <th>people_vaccinated_per_hundred</th>\n",
       "      <th>people_fully_vaccinated_per_hundred</th>\n",
       "      <th>daily_vaccinations_per_million</th>\n",
       "      <th>iso_code</th>\n",
       "      <th>2021_last_updated</th>\n",
       "      <th>2020_population</th>\n",
       "      <th>area</th>\n",
       "      <th>density_sq_km</th>\n",
       "      <th>growth_rate</th>\n",
       "      <th>world_%</th>\n",
       "      <th>rank</th>\n",
       "    </tr>\n",
       "  </thead>\n",
       "  <tbody>\n",
       "    <tr>\n",
       "      <th>0</th>\n",
       "      <td>Afghanistan</td>\n",
       "      <td>21296011.0</td>\n",
       "      <td>10866939.0</td>\n",
       "      <td>2799706.0</td>\n",
       "      <td>6874.0</td>\n",
       "      <td>2921017.0</td>\n",
       "      <td>53.49</td>\n",
       "      <td>27.29</td>\n",
       "      <td>7.02</td>\n",
       "      <td>73316.0</td>\n",
       "      <td>AFG</td>\n",
       "      <td>40089436.0</td>\n",
       "      <td>38,928,346</td>\n",
       "      <td>652,230 sq_km</td>\n",
       "      <td>61/sq_km</td>\n",
       "      <td>2.33%</td>\n",
       "      <td>0.51%</td>\n",
       "      <td>37.0</td>\n",
       "    </tr>\n",
       "    <tr>\n",
       "      <th>1</th>\n",
       "      <td>Albania</td>\n",
       "      <td>135862014.0</td>\n",
       "      <td>70210242.0</td>\n",
       "      <td>51405555.0</td>\n",
       "      <td>1157611.0</td>\n",
       "      <td>1708421.0</td>\n",
       "      <td>4729.01</td>\n",
       "      <td>2443.85</td>\n",
       "      <td>1789.34</td>\n",
       "      <td>594650.0</td>\n",
       "      <td>ALB</td>\n",
       "      <td>2871410.0</td>\n",
       "      <td>2,877,797</td>\n",
       "      <td>28,748 sq_km</td>\n",
       "      <td>100/sq_km</td>\n",
       "      <td>-0.17%</td>\n",
       "      <td>0.04%</td>\n",
       "      <td>140.0</td>\n",
       "    </tr>\n",
       "    <tr>\n",
       "      <th>2</th>\n",
       "      <td>Algeria</td>\n",
       "      <td>36293703.0</td>\n",
       "      <td>20328384.0</td>\n",
       "      <td>7757754.0</td>\n",
       "      <td>30.0</td>\n",
       "      <td>13143703.0</td>\n",
       "      <td>81.34</td>\n",
       "      <td>45.57</td>\n",
       "      <td>17.38</td>\n",
       "      <td>294530.0</td>\n",
       "      <td>DZA</td>\n",
       "      <td>44826369.0</td>\n",
       "      <td>43,851,044</td>\n",
       "      <td>2,381,741 sq_km</td>\n",
       "      <td>19/sq_km</td>\n",
       "      <td>1.75%</td>\n",
       "      <td>0.57%</td>\n",
       "      <td>34.0</td>\n",
       "    </tr>\n",
       "    <tr>\n",
       "      <th>3</th>\n",
       "      <td>Andorra</td>\n",
       "      <td>935725.0</td>\n",
       "      <td>575636.0</td>\n",
       "      <td>298631.0</td>\n",
       "      <td>4802.0</td>\n",
       "      <td>94622.0</td>\n",
       "      <td>1209.68</td>\n",
       "      <td>744.18</td>\n",
       "      <td>386.06</td>\n",
       "      <td>1223230.0</td>\n",
       "      <td>AND</td>\n",
       "      <td>77355.0</td>\n",
       "      <td>77,265</td>\n",
       "      <td>468 sq_km</td>\n",
       "      <td>165/sq_km</td>\n",
       "      <td>0.12%</td>\n",
       "      <td>0.00%</td>\n",
       "      <td>202.0</td>\n",
       "    </tr>\n",
       "    <tr>\n",
       "      <th>4</th>\n",
       "      <td>Angola</td>\n",
       "      <td>37213552.0</td>\n",
       "      <td>24362153.0</td>\n",
       "      <td>12851399.0</td>\n",
       "      <td>0.0</td>\n",
       "      <td>3002212.0</td>\n",
       "      <td>109.68</td>\n",
       "      <td>71.78</td>\n",
       "      <td>37.87</td>\n",
       "      <td>88469.0</td>\n",
       "      <td>AGO</td>\n",
       "      <td>34231577.0</td>\n",
       "      <td>32,866,272</td>\n",
       "      <td>1,246,700 sq_km</td>\n",
       "      <td>27/sq_km</td>\n",
       "      <td>3.25%</td>\n",
       "      <td>0.43%</td>\n",
       "      <td>43.0</td>\n",
       "    </tr>\n",
       "  </tbody>\n",
       "</table>\n",
       "</div>"
      ],
      "text/plain": [
       "       country  total_vaccinations  people_vaccinated  \\\n",
       "0  Afghanistan          21296011.0         10866939.0   \n",
       "1      Albania         135862014.0         70210242.0   \n",
       "2      Algeria          36293703.0         20328384.0   \n",
       "3      Andorra            935725.0           575636.0   \n",
       "4       Angola          37213552.0         24362153.0   \n",
       "\n",
       "   people_fully_vaccinated  daily_vaccinations_raw  daily_vaccinations  \\\n",
       "0                2799706.0                  6874.0           2921017.0   \n",
       "1               51405555.0               1157611.0           1708421.0   \n",
       "2                7757754.0                    30.0          13143703.0   \n",
       "3                 298631.0                  4802.0             94622.0   \n",
       "4               12851399.0                     0.0           3002212.0   \n",
       "\n",
       "   total_vaccinations_per_hundred  people_vaccinated_per_hundred  \\\n",
       "0                           53.49                          27.29   \n",
       "1                         4729.01                        2443.85   \n",
       "2                           81.34                          45.57   \n",
       "3                         1209.68                         744.18   \n",
       "4                          109.68                          71.78   \n",
       "\n",
       "   people_fully_vaccinated_per_hundred  daily_vaccinations_per_million  \\\n",
       "0                                 7.02                         73316.0   \n",
       "1                              1789.34                        594650.0   \n",
       "2                                17.38                        294530.0   \n",
       "3                               386.06                       1223230.0   \n",
       "4                                37.87                         88469.0   \n",
       "\n",
       "  iso_code  2021_last_updated 2020_population             area density_sq_km  \\\n",
       "0      AFG         40089436.0      38,928,346    652,230 sq_km      61/sq_km   \n",
       "1      ALB          2871410.0       2,877,797     28,748 sq_km     100/sq_km   \n",
       "2      DZA         44826369.0      43,851,044  2,381,741 sq_km      19/sq_km   \n",
       "3      AND            77355.0          77,265        468 sq_km     165/sq_km   \n",
       "4      AGO         34231577.0      32,866,272  1,246,700 sq_km      27/sq_km   \n",
       "\n",
       "  growth_rate world_%   rank  \n",
       "0       2.33%   0.51%   37.0  \n",
       "1      -0.17%   0.04%  140.0  \n",
       "2       1.75%   0.57%   34.0  \n",
       "3       0.12%   0.00%  202.0  \n",
       "4       3.25%   0.43%   43.0  "
      ]
     },
     "execution_count": 29,
     "metadata": {},
     "output_type": "execute_result"
    }
   ],
   "source": [
    "# merging the country vaccination dataset and population dataset\n",
    "merged_data_df = pd.merge(country_vaccination_df, pop_df, how = 'outer', on ='country')\n",
    "merged_data_df.head()"
   ]
  },
  {
   "cell_type": "code",
   "execution_count": 11,
   "id": "ba18e5d4-44ca-4c9a-abe3-620654e558ff",
   "metadata": {},
   "outputs": [
    {
     "data": {
      "text/plain": [
       "37"
      ]
     },
     "execution_count": 11,
     "metadata": {},
     "output_type": "execute_result"
    }
   ],
   "source": [
    "# number of countries in the merged data with no value or information on vaccinations\n",
    "len(merged_data_df[merged_data_df['total_vaccinations'].isna()])"
   ]
  },
  {
   "cell_type": "code",
   "execution_count": 12,
   "id": "937b6ef1-29a8-4b16-9291-c972c603ff0d",
   "metadata": {},
   "outputs": [
    {
     "data": {
      "text/html": [
       "<div>\n",
       "<style scoped>\n",
       "    .dataframe tbody tr th:only-of-type {\n",
       "        vertical-align: middle;\n",
       "    }\n",
       "\n",
       "    .dataframe tbody tr th {\n",
       "        vertical-align: top;\n",
       "    }\n",
       "\n",
       "    .dataframe thead th {\n",
       "        text-align: right;\n",
       "    }\n",
       "</style>\n",
       "<table border=\"1\" class=\"dataframe\">\n",
       "  <thead>\n",
       "    <tr style=\"text-align: right;\">\n",
       "      <th></th>\n",
       "      <th>total_vaccinations</th>\n",
       "      <th>people_vaccinated</th>\n",
       "      <th>people_fully_vaccinated</th>\n",
       "      <th>daily_vaccinations_raw</th>\n",
       "      <th>daily_vaccinations</th>\n",
       "      <th>total_vaccinations_per_hundred</th>\n",
       "      <th>people_vaccinated_per_hundred</th>\n",
       "      <th>people_fully_vaccinated_per_hundred</th>\n",
       "      <th>daily_vaccinations_per_million</th>\n",
       "      <th>2021_last_updated</th>\n",
       "      <th>rank</th>\n",
       "    </tr>\n",
       "  </thead>\n",
       "  <tbody>\n",
       "    <tr>\n",
       "      <th>count</th>\n",
       "      <td>2.220000e+02</td>\n",
       "      <td>2.220000e+02</td>\n",
       "      <td>2.220000e+02</td>\n",
       "      <td>2.220000e+02</td>\n",
       "      <td>2.220000e+02</td>\n",
       "      <td>222.000000</td>\n",
       "      <td>222.000000</td>\n",
       "      <td>222.000000</td>\n",
       "      <td>2.220000e+02</td>\n",
       "      <td>2.280000e+02</td>\n",
       "      <td>228.000000</td>\n",
       "    </tr>\n",
       "    <tr>\n",
       "      <th>mean</th>\n",
       "      <td>2.576448e+09</td>\n",
       "      <td>1.039612e+09</td>\n",
       "      <td>5.960992e+08</td>\n",
       "      <td>2.520421e+07</td>\n",
       "      <td>2.826302e+07</td>\n",
       "      <td>5434.401847</td>\n",
       "      <td>3110.853514</td>\n",
       "      <td>2065.351667</td>\n",
       "      <td>7.624702e+05</td>\n",
       "      <td>3.462749e+07</td>\n",
       "      <td>115.311404</td>\n",
       "    </tr>\n",
       "    <tr>\n",
       "      <th>std</th>\n",
       "      <td>1.582131e+10</td>\n",
       "      <td>4.495060e+09</td>\n",
       "      <td>2.272285e+09</td>\n",
       "      <td>1.559296e+08</td>\n",
       "      <td>1.619545e+08</td>\n",
       "      <td>6560.687853</td>\n",
       "      <td>3705.401779</td>\n",
       "      <td>2683.154051</td>\n",
       "      <td>5.412499e+05</td>\n",
       "      <td>1.382759e+08</td>\n",
       "      <td>67.032535</td>\n",
       "    </tr>\n",
       "    <tr>\n",
       "      <th>min</th>\n",
       "      <td>3.480000e+02</td>\n",
       "      <td>2.350000e+02</td>\n",
       "      <td>0.000000e+00</td>\n",
       "      <td>0.000000e+00</td>\n",
       "      <td>0.000000e+00</td>\n",
       "      <td>0.690000</td>\n",
       "      <td>0.530000</td>\n",
       "      <td>0.000000</td>\n",
       "      <td>0.000000e+00</td>\n",
       "      <td>8.000000e+02</td>\n",
       "      <td>1.000000</td>\n",
       "    </tr>\n",
       "    <tr>\n",
       "      <th>25%</th>\n",
       "      <td>3.135452e+06</td>\n",
       "      <td>2.136644e+06</td>\n",
       "      <td>9.878110e+05</td>\n",
       "      <td>1.437250e+03</td>\n",
       "      <td>2.174278e+05</td>\n",
       "      <td>323.070000</td>\n",
       "      <td>219.035000</td>\n",
       "      <td>73.630000</td>\n",
       "      <td>2.625888e+05</td>\n",
       "      <td>5.588502e+05</td>\n",
       "      <td>57.750000</td>\n",
       "    </tr>\n",
       "    <tr>\n",
       "      <th>50%</th>\n",
       "      <td>5.215333e+07</td>\n",
       "      <td>3.294672e+07</td>\n",
       "      <td>1.323486e+07</td>\n",
       "      <td>3.863980e+05</td>\n",
       "      <td>1.670514e+06</td>\n",
       "      <td>2281.155000</td>\n",
       "      <td>1322.620000</td>\n",
       "      <td>739.925000</td>\n",
       "      <td>7.292245e+05</td>\n",
       "      <td>5.864636e+06</td>\n",
       "      <td>114.500000</td>\n",
       "    </tr>\n",
       "    <tr>\n",
       "      <th>75%</th>\n",
       "      <td>6.914217e+08</td>\n",
       "      <td>4.453091e+08</td>\n",
       "      <td>2.651020e+08</td>\n",
       "      <td>7.508512e+06</td>\n",
       "      <td>1.069698e+07</td>\n",
       "      <td>9294.157500</td>\n",
       "      <td>5089.707500</td>\n",
       "      <td>3338.837500</td>\n",
       "      <td>1.245093e+06</td>\n",
       "      <td>2.221322e+07</td>\n",
       "      <td>172.250000</td>\n",
       "    </tr>\n",
       "    <tr>\n",
       "      <th>max</th>\n",
       "      <td>2.164707e+11</td>\n",
       "      <td>5.301997e+10</td>\n",
       "      <td>2.693359e+10</td>\n",
       "      <td>2.130992e+09</td>\n",
       "      <td>2.202201e+09</td>\n",
       "      <td>30518.550000</td>\n",
       "      <td>15657.830000</td>\n",
       "      <td>13469.800000</td>\n",
       "      <td>2.435515e+06</td>\n",
       "      <td>1.445558e+09</td>\n",
       "      <td>232.000000</td>\n",
       "    </tr>\n",
       "  </tbody>\n",
       "</table>\n",
       "</div>"
      ],
      "text/plain": [
       "       total_vaccinations  people_vaccinated  people_fully_vaccinated  \\\n",
       "count        2.220000e+02       2.220000e+02             2.220000e+02   \n",
       "mean         2.576448e+09       1.039612e+09             5.960992e+08   \n",
       "std          1.582131e+10       4.495060e+09             2.272285e+09   \n",
       "min          3.480000e+02       2.350000e+02             0.000000e+00   \n",
       "25%          3.135452e+06       2.136644e+06             9.878110e+05   \n",
       "50%          5.215333e+07       3.294672e+07             1.323486e+07   \n",
       "75%          6.914217e+08       4.453091e+08             2.651020e+08   \n",
       "max          2.164707e+11       5.301997e+10             2.693359e+10   \n",
       "\n",
       "       daily_vaccinations_raw  daily_vaccinations  \\\n",
       "count            2.220000e+02        2.220000e+02   \n",
       "mean             2.520421e+07        2.826302e+07   \n",
       "std              1.559296e+08        1.619545e+08   \n",
       "min              0.000000e+00        0.000000e+00   \n",
       "25%              1.437250e+03        2.174278e+05   \n",
       "50%              3.863980e+05        1.670514e+06   \n",
       "75%              7.508512e+06        1.069698e+07   \n",
       "max              2.130992e+09        2.202201e+09   \n",
       "\n",
       "       total_vaccinations_per_hundred  people_vaccinated_per_hundred  \\\n",
       "count                      222.000000                     222.000000   \n",
       "mean                      5434.401847                    3110.853514   \n",
       "std                       6560.687853                    3705.401779   \n",
       "min                          0.690000                       0.530000   \n",
       "25%                        323.070000                     219.035000   \n",
       "50%                       2281.155000                    1322.620000   \n",
       "75%                       9294.157500                    5089.707500   \n",
       "max                      30518.550000                   15657.830000   \n",
       "\n",
       "       people_fully_vaccinated_per_hundred  daily_vaccinations_per_million  \\\n",
       "count                           222.000000                    2.220000e+02   \n",
       "mean                           2065.351667                    7.624702e+05   \n",
       "std                            2683.154051                    5.412499e+05   \n",
       "min                               0.000000                    0.000000e+00   \n",
       "25%                              73.630000                    2.625888e+05   \n",
       "50%                             739.925000                    7.292245e+05   \n",
       "75%                            3338.837500                    1.245093e+06   \n",
       "max                           13469.800000                    2.435515e+06   \n",
       "\n",
       "       2021_last_updated        rank  \n",
       "count       2.280000e+02  228.000000  \n",
       "mean        3.462749e+07  115.311404  \n",
       "std         1.382759e+08   67.032535  \n",
       "min         8.000000e+02    1.000000  \n",
       "25%         5.588502e+05   57.750000  \n",
       "50%         5.864636e+06  114.500000  \n",
       "75%         2.221322e+07  172.250000  \n",
       "max         1.445558e+09  232.000000  "
      ]
     },
     "execution_count": 12,
     "metadata": {},
     "output_type": "execute_result"
    }
   ],
   "source": [
    "merged_data_df.describe()"
   ]
  },
  {
   "cell_type": "code",
   "execution_count": 28,
   "id": "570131bf-5214-4a86-80f5-0b83f7ea25f8",
   "metadata": {},
   "outputs": [
    {
     "data": {
      "text/html": [
       "<div>\n",
       "<style scoped>\n",
       "    .dataframe tbody tr th:only-of-type {\n",
       "        vertical-align: middle;\n",
       "    }\n",
       "\n",
       "    .dataframe tbody tr th {\n",
       "        vertical-align: top;\n",
       "    }\n",
       "\n",
       "    .dataframe thead th {\n",
       "        text-align: right;\n",
       "    }\n",
       "</style>\n",
       "<table border=\"1\" class=\"dataframe\">\n",
       "  <thead>\n",
       "    <tr style=\"text-align: right;\">\n",
       "      <th></th>\n",
       "      <th>Unnamed: 0</th>\n",
       "      <th>CanSino</th>\n",
       "      <th>Johnson&amp;Johnson</th>\n",
       "      <th>Moderna</th>\n",
       "      <th>Oxford/AstraZeneca</th>\n",
       "      <th>Pfizer/BioNTech</th>\n",
       "      <th>Sinopharm/Beijing</th>\n",
       "      <th>Sinovac</th>\n",
       "      <th>Sputnik V</th>\n",
       "    </tr>\n",
       "    <tr>\n",
       "      <th>location</th>\n",
       "      <th></th>\n",
       "      <th></th>\n",
       "      <th></th>\n",
       "      <th></th>\n",
       "      <th></th>\n",
       "      <th></th>\n",
       "      <th></th>\n",
       "      <th></th>\n",
       "      <th></th>\n",
       "    </tr>\n",
       "  </thead>\n",
       "  <tbody>\n",
       "    <tr>\n",
       "      <th>Austria</th>\n",
       "      <td>741</td>\n",
       "      <td>0.0</td>\n",
       "      <td>3648375.0</td>\n",
       "      <td>19341794.0</td>\n",
       "      <td>34052660.0</td>\n",
       "      <td>143507156.0</td>\n",
       "      <td>0.0</td>\n",
       "      <td>0.000000e+00</td>\n",
       "      <td>0.0</td>\n",
       "    </tr>\n",
       "    <tr>\n",
       "      <th>Belgium</th>\n",
       "      <td>2262</td>\n",
       "      <td>0.0</td>\n",
       "      <td>5546947.0</td>\n",
       "      <td>24025655.0</td>\n",
       "      <td>54251279.0</td>\n",
       "      <td>201107673.0</td>\n",
       "      <td>0.0</td>\n",
       "      <td>0.000000e+00</td>\n",
       "      <td>0.0</td>\n",
       "    </tr>\n",
       "    <tr>\n",
       "      <th>Bulgaria</th>\n",
       "      <td>3900</td>\n",
       "      <td>0.0</td>\n",
       "      <td>1701150.0</td>\n",
       "      <td>5732847.0</td>\n",
       "      <td>12036132.0</td>\n",
       "      <td>27324102.0</td>\n",
       "      <td>0.0</td>\n",
       "      <td>0.000000e+00</td>\n",
       "      <td>0.0</td>\n",
       "    </tr>\n",
       "    <tr>\n",
       "      <th>Chile</th>\n",
       "      <td>71307</td>\n",
       "      <td>52626023.0</td>\n",
       "      <td>0.0</td>\n",
       "      <td>0.0</td>\n",
       "      <td>56258092.0</td>\n",
       "      <td>863254517.0</td>\n",
       "      <td>0.0</td>\n",
       "      <td>3.198671e+09</td>\n",
       "      <td>0.0</td>\n",
       "    </tr>\n",
       "    <tr>\n",
       "      <th>Croatia</th>\n",
       "      <td>16620</td>\n",
       "      <td>0.0</td>\n",
       "      <td>972927.0</td>\n",
       "      <td>6766788.0</td>\n",
       "      <td>12570048.0</td>\n",
       "      <td>45299200.0</td>\n",
       "      <td>0.0</td>\n",
       "      <td>0.000000e+00</td>\n",
       "      <td>0.0</td>\n",
       "    </tr>\n",
       "  </tbody>\n",
       "</table>\n",
       "</div>"
      ],
      "text/plain": [
       "          Unnamed: 0     CanSino  Johnson&Johnson     Moderna  \\\n",
       "location                                                        \n",
       "Austria          741         0.0        3648375.0  19341794.0   \n",
       "Belgium         2262         0.0        5546947.0  24025655.0   \n",
       "Bulgaria        3900         0.0        1701150.0   5732847.0   \n",
       "Chile          71307  52626023.0              0.0         0.0   \n",
       "Croatia        16620         0.0         972927.0   6766788.0   \n",
       "\n",
       "          Oxford/AstraZeneca  Pfizer/BioNTech  Sinopharm/Beijing  \\\n",
       "location                                                           \n",
       "Austria           34052660.0      143507156.0                0.0   \n",
       "Belgium           54251279.0      201107673.0                0.0   \n",
       "Bulgaria          12036132.0       27324102.0                0.0   \n",
       "Chile             56258092.0      863254517.0                0.0   \n",
       "Croatia           12570048.0       45299200.0                0.0   \n",
       "\n",
       "               Sinovac  Sputnik V  \n",
       "location                           \n",
       "Austria   0.000000e+00        0.0  \n",
       "Belgium   0.000000e+00        0.0  \n",
       "Bulgaria  0.000000e+00        0.0  \n",
       "Chile     3.198671e+09        0.0  \n",
       "Croatia   0.000000e+00        0.0  "
      ]
     },
     "execution_count": 28,
     "metadata": {},
     "output_type": "execute_result"
    }
   ],
   "source": [
    "# a look at the total number of vaccination breakdown by country (information obtained for 38 countries)\n",
    "count_group_df = vacc_count_df.groupby('location').sum()\n",
    "count_group_df.head()"
   ]
  },
  {
   "cell_type": "code",
   "execution_count": 14,
   "id": "61c9f9e9-7dcf-4396-8afb-8c08399d550e",
   "metadata": {},
   "outputs": [
    {
     "name": "stdout",
     "output_type": "stream",
     "text": [
      "<class 'pandas.core.frame.DataFrame'>\n",
      "Index: 38 entries, Austria to Uruguay\n",
      "Data columns (total 9 columns):\n",
      " #   Column              Non-Null Count  Dtype  \n",
      "---  ------              --------------  -----  \n",
      " 0   Unnamed: 0          38 non-null     int64  \n",
      " 1   CanSino             38 non-null     float64\n",
      " 2   Johnson&Johnson     38 non-null     float64\n",
      " 3   Moderna             38 non-null     float64\n",
      " 4   Oxford/AstraZeneca  38 non-null     float64\n",
      " 5   Pfizer/BioNTech     38 non-null     float64\n",
      " 6   Sinopharm/Beijing   38 non-null     float64\n",
      " 7   Sinovac             38 non-null     float64\n",
      " 8   Sputnik V           38 non-null     float64\n",
      "dtypes: float64(8), int64(1)\n",
      "memory usage: 3.0+ KB\n"
     ]
    }
   ],
   "source": [
    "count_group_df.info()"
   ]
  },
  {
   "cell_type": "code",
   "execution_count": 27,
   "id": "5b4122f9-0d28-4215-b53e-bb239639a765",
   "metadata": {},
   "outputs": [
    {
     "data": {
      "text/html": [
       "<div>\n",
       "<style scoped>\n",
       "    .dataframe tbody tr th:only-of-type {\n",
       "        vertical-align: middle;\n",
       "    }\n",
       "\n",
       "    .dataframe tbody tr th {\n",
       "        vertical-align: top;\n",
       "    }\n",
       "\n",
       "    .dataframe thead th {\n",
       "        text-align: right;\n",
       "    }\n",
       "</style>\n",
       "<table border=\"1\" class=\"dataframe\">\n",
       "  <thead>\n",
       "    <tr style=\"text-align: right;\">\n",
       "      <th></th>\n",
       "      <th>Unnamed: 0</th>\n",
       "      <th>CanSino</th>\n",
       "      <th>Johnson&amp;Johnson</th>\n",
       "      <th>Moderna</th>\n",
       "      <th>Oxford/AstraZeneca</th>\n",
       "      <th>Pfizer/BioNTech</th>\n",
       "      <th>Sinopharm/Beijing</th>\n",
       "      <th>Sinovac</th>\n",
       "      <th>Sputnik V</th>\n",
       "    </tr>\n",
       "    <tr>\n",
       "      <th>location</th>\n",
       "      <th></th>\n",
       "      <th></th>\n",
       "      <th></th>\n",
       "      <th></th>\n",
       "      <th></th>\n",
       "      <th></th>\n",
       "      <th></th>\n",
       "      <th></th>\n",
       "      <th></th>\n",
       "    </tr>\n",
       "  </thead>\n",
       "  <tbody>\n",
       "    <tr>\n",
       "      <th>Austria</th>\n",
       "      <td>741</td>\n",
       "      <td>0.0</td>\n",
       "      <td>3648375.0</td>\n",
       "      <td>19341794.0</td>\n",
       "      <td>34052660.0</td>\n",
       "      <td>143507156.0</td>\n",
       "      <td>0.0</td>\n",
       "      <td>0.000000e+00</td>\n",
       "      <td>0.0</td>\n",
       "    </tr>\n",
       "    <tr>\n",
       "      <th>Belgium</th>\n",
       "      <td>2262</td>\n",
       "      <td>0.0</td>\n",
       "      <td>5546947.0</td>\n",
       "      <td>24025655.0</td>\n",
       "      <td>54251279.0</td>\n",
       "      <td>201107673.0</td>\n",
       "      <td>0.0</td>\n",
       "      <td>0.000000e+00</td>\n",
       "      <td>0.0</td>\n",
       "    </tr>\n",
       "    <tr>\n",
       "      <th>Bulgaria</th>\n",
       "      <td>3900</td>\n",
       "      <td>0.0</td>\n",
       "      <td>1701150.0</td>\n",
       "      <td>5732847.0</td>\n",
       "      <td>12036132.0</td>\n",
       "      <td>27324102.0</td>\n",
       "      <td>0.0</td>\n",
       "      <td>0.000000e+00</td>\n",
       "      <td>0.0</td>\n",
       "    </tr>\n",
       "    <tr>\n",
       "      <th>Chile</th>\n",
       "      <td>71307</td>\n",
       "      <td>52626023.0</td>\n",
       "      <td>0.0</td>\n",
       "      <td>0.0</td>\n",
       "      <td>56258092.0</td>\n",
       "      <td>863254517.0</td>\n",
       "      <td>0.0</td>\n",
       "      <td>3.198671e+09</td>\n",
       "      <td>0.0</td>\n",
       "    </tr>\n",
       "    <tr>\n",
       "      <th>Croatia</th>\n",
       "      <td>16620</td>\n",
       "      <td>0.0</td>\n",
       "      <td>972927.0</td>\n",
       "      <td>6766788.0</td>\n",
       "      <td>12570048.0</td>\n",
       "      <td>45299200.0</td>\n",
       "      <td>0.0</td>\n",
       "      <td>0.000000e+00</td>\n",
       "      <td>0.0</td>\n",
       "    </tr>\n",
       "  </tbody>\n",
       "</table>\n",
       "</div>"
      ],
      "text/plain": [
       "          Unnamed: 0     CanSino  Johnson&Johnson     Moderna  \\\n",
       "location                                                        \n",
       "Austria          741         0.0        3648375.0  19341794.0   \n",
       "Belgium         2262         0.0        5546947.0  24025655.0   \n",
       "Bulgaria        3900         0.0        1701150.0   5732847.0   \n",
       "Chile          71307  52626023.0              0.0         0.0   \n",
       "Croatia        16620         0.0         972927.0   6766788.0   \n",
       "\n",
       "          Oxford/AstraZeneca  Pfizer/BioNTech  Sinopharm/Beijing  \\\n",
       "location                                                           \n",
       "Austria           34052660.0      143507156.0                0.0   \n",
       "Belgium           54251279.0      201107673.0                0.0   \n",
       "Bulgaria          12036132.0       27324102.0                0.0   \n",
       "Chile             56258092.0      863254517.0                0.0   \n",
       "Croatia           12570048.0       45299200.0                0.0   \n",
       "\n",
       "               Sinovac  Sputnik V  \n",
       "location                           \n",
       "Austria   0.000000e+00        0.0  \n",
       "Belgium   0.000000e+00        0.0  \n",
       "Bulgaria  0.000000e+00        0.0  \n",
       "Chile     3.198671e+09        0.0  \n",
       "Croatia   0.000000e+00        0.0  "
      ]
     },
     "execution_count": 27,
     "metadata": {},
     "output_type": "execute_result"
    }
   ],
   "source": [
    "count_group_df.dropna().head()"
   ]
  },
  {
   "cell_type": "code",
   "execution_count": 16,
   "id": "4fe52d8c",
   "metadata": {},
   "outputs": [
    {
     "data": {
      "text/html": [
       "<div>\n",
       "<style scoped>\n",
       "    .dataframe tbody tr th:only-of-type {\n",
       "        vertical-align: middle;\n",
       "    }\n",
       "\n",
       "    .dataframe tbody tr th {\n",
       "        vertical-align: top;\n",
       "    }\n",
       "\n",
       "    .dataframe thead th {\n",
       "        text-align: right;\n",
       "    }\n",
       "</style>\n",
       "<table border=\"1\" class=\"dataframe\">\n",
       "  <thead>\n",
       "    <tr style=\"text-align: right;\">\n",
       "      <th></th>\n",
       "      <th>Unnamed: 0</th>\n",
       "      <th>CanSino</th>\n",
       "      <th>Johnson&amp;Johnson</th>\n",
       "      <th>Moderna</th>\n",
       "      <th>Oxford/AstraZeneca</th>\n",
       "      <th>Pfizer/BioNTech</th>\n",
       "      <th>Sinopharm/Beijing</th>\n",
       "      <th>Sinovac</th>\n",
       "      <th>Sputnik V</th>\n",
       "    </tr>\n",
       "  </thead>\n",
       "  <tbody>\n",
       "    <tr>\n",
       "      <th>Unnamed: 0</th>\n",
       "      <td>1.000000</td>\n",
       "      <td>-0.122808</td>\n",
       "      <td>0.376916</td>\n",
       "      <td>0.408653</td>\n",
       "      <td>0.105390</td>\n",
       "      <td>0.288096</td>\n",
       "      <td>-0.008968</td>\n",
       "      <td>-0.070952</td>\n",
       "      <td>-0.008890</td>\n",
       "    </tr>\n",
       "    <tr>\n",
       "      <th>CanSino</th>\n",
       "      <td>-0.122808</td>\n",
       "      <td>1.000000</td>\n",
       "      <td>-0.056252</td>\n",
       "      <td>-0.044928</td>\n",
       "      <td>-0.046466</td>\n",
       "      <td>-0.049127</td>\n",
       "      <td>-0.036334</td>\n",
       "      <td>0.983779</td>\n",
       "      <td>-0.036329</td>\n",
       "    </tr>\n",
       "    <tr>\n",
       "      <th>Johnson&amp;Johnson</th>\n",
       "      <td>0.376916</td>\n",
       "      <td>-0.056252</td>\n",
       "      <td>1.000000</td>\n",
       "      <td>0.938195</td>\n",
       "      <td>0.513298</td>\n",
       "      <td>0.911127</td>\n",
       "      <td>0.504901</td>\n",
       "      <td>-0.069758</td>\n",
       "      <td>0.505032</td>\n",
       "    </tr>\n",
       "    <tr>\n",
       "      <th>Moderna</th>\n",
       "      <td>0.408653</td>\n",
       "      <td>-0.044928</td>\n",
       "      <td>0.938195</td>\n",
       "      <td>1.000000</td>\n",
       "      <td>0.189584</td>\n",
       "      <td>0.722786</td>\n",
       "      <td>0.197472</td>\n",
       "      <td>-0.055715</td>\n",
       "      <td>0.197531</td>\n",
       "    </tr>\n",
       "    <tr>\n",
       "      <th>Oxford/AstraZeneca</th>\n",
       "      <td>0.105390</td>\n",
       "      <td>-0.046466</td>\n",
       "      <td>0.513298</td>\n",
       "      <td>0.189584</td>\n",
       "      <td>1.000000</td>\n",
       "      <td>0.802769</td>\n",
       "      <td>0.934914</td>\n",
       "      <td>-0.058544</td>\n",
       "      <td>0.935141</td>\n",
       "    </tr>\n",
       "    <tr>\n",
       "      <th>Pfizer/BioNTech</th>\n",
       "      <td>0.288096</td>\n",
       "      <td>-0.049127</td>\n",
       "      <td>0.911127</td>\n",
       "      <td>0.722786</td>\n",
       "      <td>0.802769</td>\n",
       "      <td>1.000000</td>\n",
       "      <td>0.778932</td>\n",
       "      <td>-0.063402</td>\n",
       "      <td>0.779128</td>\n",
       "    </tr>\n",
       "    <tr>\n",
       "      <th>Sinopharm/Beijing</th>\n",
       "      <td>-0.008968</td>\n",
       "      <td>-0.036334</td>\n",
       "      <td>0.504901</td>\n",
       "      <td>0.197472</td>\n",
       "      <td>0.934914</td>\n",
       "      <td>0.778932</td>\n",
       "      <td>1.000000</td>\n",
       "      <td>-0.045057</td>\n",
       "      <td>0.999998</td>\n",
       "    </tr>\n",
       "    <tr>\n",
       "      <th>Sinovac</th>\n",
       "      <td>-0.070952</td>\n",
       "      <td>0.983779</td>\n",
       "      <td>-0.069758</td>\n",
       "      <td>-0.055715</td>\n",
       "      <td>-0.058544</td>\n",
       "      <td>-0.063402</td>\n",
       "      <td>-0.045057</td>\n",
       "      <td>1.000000</td>\n",
       "      <td>-0.045051</td>\n",
       "    </tr>\n",
       "    <tr>\n",
       "      <th>Sputnik V</th>\n",
       "      <td>-0.008890</td>\n",
       "      <td>-0.036329</td>\n",
       "      <td>0.505032</td>\n",
       "      <td>0.197531</td>\n",
       "      <td>0.935141</td>\n",
       "      <td>0.779128</td>\n",
       "      <td>0.999998</td>\n",
       "      <td>-0.045051</td>\n",
       "      <td>1.000000</td>\n",
       "    </tr>\n",
       "  </tbody>\n",
       "</table>\n",
       "</div>"
      ],
      "text/plain": [
       "                    Unnamed: 0   CanSino  Johnson&Johnson   Moderna  \\\n",
       "Unnamed: 0            1.000000 -0.122808         0.376916  0.408653   \n",
       "CanSino              -0.122808  1.000000        -0.056252 -0.044928   \n",
       "Johnson&Johnson       0.376916 -0.056252         1.000000  0.938195   \n",
       "Moderna               0.408653 -0.044928         0.938195  1.000000   \n",
       "Oxford/AstraZeneca    0.105390 -0.046466         0.513298  0.189584   \n",
       "Pfizer/BioNTech       0.288096 -0.049127         0.911127  0.722786   \n",
       "Sinopharm/Beijing    -0.008968 -0.036334         0.504901  0.197472   \n",
       "Sinovac              -0.070952  0.983779        -0.069758 -0.055715   \n",
       "Sputnik V            -0.008890 -0.036329         0.505032  0.197531   \n",
       "\n",
       "                    Oxford/AstraZeneca  Pfizer/BioNTech  Sinopharm/Beijing  \\\n",
       "Unnamed: 0                    0.105390         0.288096          -0.008968   \n",
       "CanSino                      -0.046466        -0.049127          -0.036334   \n",
       "Johnson&Johnson               0.513298         0.911127           0.504901   \n",
       "Moderna                       0.189584         0.722786           0.197472   \n",
       "Oxford/AstraZeneca            1.000000         0.802769           0.934914   \n",
       "Pfizer/BioNTech               0.802769         1.000000           0.778932   \n",
       "Sinopharm/Beijing             0.934914         0.778932           1.000000   \n",
       "Sinovac                      -0.058544        -0.063402          -0.045057   \n",
       "Sputnik V                     0.935141         0.779128           0.999998   \n",
       "\n",
       "                     Sinovac  Sputnik V  \n",
       "Unnamed: 0         -0.070952  -0.008890  \n",
       "CanSino             0.983779  -0.036329  \n",
       "Johnson&Johnson    -0.069758   0.505032  \n",
       "Moderna            -0.055715   0.197531  \n",
       "Oxford/AstraZeneca -0.058544   0.935141  \n",
       "Pfizer/BioNTech    -0.063402   0.779128  \n",
       "Sinopharm/Beijing  -0.045057   0.999998  \n",
       "Sinovac             1.000000  -0.045051  \n",
       "Sputnik V          -0.045051   1.000000  "
      ]
     },
     "execution_count": 16,
     "metadata": {},
     "output_type": "execute_result"
    }
   ],
   "source": [
    "count_group_df.corr()"
   ]
  },
  {
   "cell_type": "code",
   "execution_count": 26,
   "id": "749cf46d",
   "metadata": {},
   "outputs": [
    {
     "data": {
      "text/html": [
       "<div>\n",
       "<style scoped>\n",
       "    .dataframe tbody tr th:only-of-type {\n",
       "        vertical-align: middle;\n",
       "    }\n",
       "\n",
       "    .dataframe tbody tr th {\n",
       "        vertical-align: top;\n",
       "    }\n",
       "\n",
       "    .dataframe thead th {\n",
       "        text-align: right;\n",
       "    }\n",
       "</style>\n",
       "<table border=\"1\" class=\"dataframe\">\n",
       "  <thead>\n",
       "    <tr style=\"text-align: right;\">\n",
       "      <th></th>\n",
       "      <th>Unnamed: 0</th>\n",
       "      <th>CanSino</th>\n",
       "      <th>Johnson&amp;Johnson</th>\n",
       "      <th>Moderna</th>\n",
       "      <th>Oxford/AstraZeneca</th>\n",
       "      <th>Pfizer/BioNTech</th>\n",
       "      <th>Sinopharm/Beijing</th>\n",
       "      <th>Sinovac</th>\n",
       "      <th>Sputnik V</th>\n",
       "    </tr>\n",
       "    <tr>\n",
       "      <th>location</th>\n",
       "      <th></th>\n",
       "      <th></th>\n",
       "      <th></th>\n",
       "      <th></th>\n",
       "      <th></th>\n",
       "      <th></th>\n",
       "      <th></th>\n",
       "      <th></th>\n",
       "      <th></th>\n",
       "    </tr>\n",
       "  </thead>\n",
       "  <tbody>\n",
       "    <tr>\n",
       "      <th>Austria</th>\n",
       "      <td>741</td>\n",
       "      <td>0.0</td>\n",
       "      <td>3648375.0</td>\n",
       "      <td>19341794.0</td>\n",
       "      <td>34052660.0</td>\n",
       "      <td>143507156.0</td>\n",
       "      <td>0.0</td>\n",
       "      <td>0.000000e+00</td>\n",
       "      <td>0.0</td>\n",
       "    </tr>\n",
       "    <tr>\n",
       "      <th>Belgium</th>\n",
       "      <td>2262</td>\n",
       "      <td>0.0</td>\n",
       "      <td>5546947.0</td>\n",
       "      <td>24025655.0</td>\n",
       "      <td>54251279.0</td>\n",
       "      <td>201107673.0</td>\n",
       "      <td>0.0</td>\n",
       "      <td>0.000000e+00</td>\n",
       "      <td>0.0</td>\n",
       "    </tr>\n",
       "    <tr>\n",
       "      <th>Bulgaria</th>\n",
       "      <td>3900</td>\n",
       "      <td>0.0</td>\n",
       "      <td>1701150.0</td>\n",
       "      <td>5732847.0</td>\n",
       "      <td>12036132.0</td>\n",
       "      <td>27324102.0</td>\n",
       "      <td>0.0</td>\n",
       "      <td>0.000000e+00</td>\n",
       "      <td>0.0</td>\n",
       "    </tr>\n",
       "    <tr>\n",
       "      <th>Chile</th>\n",
       "      <td>71307</td>\n",
       "      <td>52626023.0</td>\n",
       "      <td>0.0</td>\n",
       "      <td>0.0</td>\n",
       "      <td>56258092.0</td>\n",
       "      <td>863254517.0</td>\n",
       "      <td>0.0</td>\n",
       "      <td>3.198671e+09</td>\n",
       "      <td>0.0</td>\n",
       "    </tr>\n",
       "    <tr>\n",
       "      <th>Croatia</th>\n",
       "      <td>16620</td>\n",
       "      <td>0.0</td>\n",
       "      <td>972927.0</td>\n",
       "      <td>6766788.0</td>\n",
       "      <td>12570048.0</td>\n",
       "      <td>45299200.0</td>\n",
       "      <td>0.0</td>\n",
       "      <td>0.000000e+00</td>\n",
       "      <td>0.0</td>\n",
       "    </tr>\n",
       "  </tbody>\n",
       "</table>\n",
       "</div>"
      ],
      "text/plain": [
       "          Unnamed: 0     CanSino  Johnson&Johnson     Moderna  \\\n",
       "location                                                        \n",
       "Austria          741         0.0        3648375.0  19341794.0   \n",
       "Belgium         2262         0.0        5546947.0  24025655.0   \n",
       "Bulgaria        3900         0.0        1701150.0   5732847.0   \n",
       "Chile          71307  52626023.0              0.0         0.0   \n",
       "Croatia        16620         0.0         972927.0   6766788.0   \n",
       "\n",
       "          Oxford/AstraZeneca  Pfizer/BioNTech  Sinopharm/Beijing  \\\n",
       "location                                                           \n",
       "Austria           34052660.0      143507156.0                0.0   \n",
       "Belgium           54251279.0      201107673.0                0.0   \n",
       "Bulgaria          12036132.0       27324102.0                0.0   \n",
       "Chile             56258092.0      863254517.0                0.0   \n",
       "Croatia           12570048.0       45299200.0                0.0   \n",
       "\n",
       "               Sinovac  Sputnik V  \n",
       "location                           \n",
       "Austria   0.000000e+00        0.0  \n",
       "Belgium   0.000000e+00        0.0  \n",
       "Bulgaria  0.000000e+00        0.0  \n",
       "Chile     3.198671e+09        0.0  \n",
       "Croatia   0.000000e+00        0.0  "
      ]
     },
     "execution_count": 26,
     "metadata": {},
     "output_type": "execute_result"
    }
   ],
   "source": [
    "data=pd.DataFrame(count_group_df)\n",
    "data.head()"
   ]
  },
  {
   "cell_type": "code",
   "execution_count": 33,
   "id": "420a3e28",
   "metadata": {},
   "outputs": [
    {
     "ename": "KeyError",
     "evalue": "\"None of ['location'] are in the columns\"",
     "output_type": "error",
     "traceback": [
      "\u001b[0;31m---------------------------------------------------------------------------\u001b[0m",
      "\u001b[0;31mKeyError\u001b[0m                                  Traceback (most recent call last)",
      "\u001b[0;32m<ipython-input-33-4548e7bbff44>\u001b[0m in \u001b[0;36m<module>\u001b[0;34m\u001b[0m\n\u001b[0;32m----> 1\u001b[0;31m \u001b[0mdata\u001b[0m\u001b[0;34m.\u001b[0m\u001b[0mset_index\u001b[0m\u001b[0;34m(\u001b[0m\u001b[0;34m\"location\"\u001b[0m\u001b[0;34m)\u001b[0m\u001b[0;34m\u001b[0m\u001b[0;34m\u001b[0m\u001b[0m\n\u001b[0m\u001b[1;32m      2\u001b[0m \u001b[0;34m\u001b[0m\u001b[0m\n",
      "\u001b[0;32m~/opt/anaconda3/lib/python3.8/site-packages/pandas/core/frame.py\u001b[0m in \u001b[0;36mset_index\u001b[0;34m(self, keys, drop, append, inplace, verify_integrity)\u001b[0m\n\u001b[1;32m   4725\u001b[0m \u001b[0;34m\u001b[0m\u001b[0m\n\u001b[1;32m   4726\u001b[0m         \u001b[0;32mif\u001b[0m \u001b[0mmissing\u001b[0m\u001b[0;34m:\u001b[0m\u001b[0;34m\u001b[0m\u001b[0;34m\u001b[0m\u001b[0m\n\u001b[0;32m-> 4727\u001b[0;31m             \u001b[0;32mraise\u001b[0m \u001b[0mKeyError\u001b[0m\u001b[0;34m(\u001b[0m\u001b[0;34mf\"None of {missing} are in the columns\"\u001b[0m\u001b[0;34m)\u001b[0m\u001b[0;34m\u001b[0m\u001b[0;34m\u001b[0m\u001b[0m\n\u001b[0m\u001b[1;32m   4728\u001b[0m \u001b[0;34m\u001b[0m\u001b[0m\n\u001b[1;32m   4729\u001b[0m         \u001b[0;32mif\u001b[0m \u001b[0minplace\u001b[0m\u001b[0;34m:\u001b[0m\u001b[0;34m\u001b[0m\u001b[0;34m\u001b[0m\u001b[0m\n",
      "\u001b[0;31mKeyError\u001b[0m: \"None of ['location'] are in the columns\""
     ]
    }
   ],
   "source": [
    "data.set_index(\"location\")\n",
    "\n"
   ]
  },
  {
   "cell_type": "code",
   "execution_count": null,
   "id": "6589c1d8",
   "metadata": {},
   "outputs": [],
   "source": [
    "fig = px.pie(data, values='location', names='Johnson&Johnson', title='Vaccines Occupancy' )\n",
    "fig.show()"
   ]
  },
  {
   "cell_type": "code",
   "execution_count": 18,
   "id": "191b753c",
   "metadata": {},
   "outputs": [
    {
     "data": {
      "text/plain": [
       "Unnamed: 0              int64\n",
       "CanSino               float64\n",
       "Johnson&Johnson       float64\n",
       "Moderna               float64\n",
       "Oxford/AstraZeneca    float64\n",
       "Pfizer/BioNTech       float64\n",
       "Sinopharm/Beijing     float64\n",
       "Sinovac               float64\n",
       "Sputnik V             float64\n",
       "dtype: object"
      ]
     },
     "execution_count": 18,
     "metadata": {},
     "output_type": "execute_result"
    }
   ],
   "source": [
    "data.dtypes"
   ]
  },
  {
   "cell_type": "code",
   "execution_count": 23,
   "id": "876a6072",
   "metadata": {},
   "outputs": [
    {
     "data": {
      "application/vnd.plotly.v1+json": {
       "config": {
        "plotlyServerURL": "https://plot.ly"
       },
       "data": [
        {
         "alignmentgroup": "True",
         "bingroup": "x",
         "histfunc": "sum",
         "hovertemplate": "Country=%{x}<br>sum of Total Vaccinations=%{y}<extra></extra>",
         "legendgroup": "",
         "marker": {
          "color": "#636efa",
          "pattern": {
           "shape": ""
          }
         },
         "name": "",
         "offsetgroup": "",
         "orientation": "v",
         "showlegend": false,
         "type": "histogram",
         "x": [
          "Afghanistan",
          "Albania",
          "Algeria",
          "Andorra",
          "Angola",
          "Anguilla",
          "Antigua and Barbuda",
          "Argentina",
          "Armenia",
          "Aruba",
          "Australia",
          "Austria",
          "Azerbaijan",
          "Bahamas",
          "Bahrain",
          "Bangladesh",
          "Barbados",
          "Belarus",
          "Belgium",
          "Belize",
          "Benin",
          "Bermuda",
          "Bhutan",
          "Bolivia",
          "Bonaire Sint Eustatius and Saba",
          "Bosnia and Herzegovina",
          "Botswana",
          "Brazil",
          "British Virgin Islands",
          "Brunei",
          "Bulgaria",
          "Burkina Faso",
          "Cambodia",
          "Cameroon",
          "Canada",
          "Cape Verde",
          "Cayman Islands",
          "Central African Republic",
          "Chad",
          "Chile",
          "China",
          "Colombia",
          "Comoros",
          "Congo",
          "Cook Islands",
          "Costa Rica",
          "Cote d'Ivoire",
          "Croatia",
          "Cuba",
          "Curacao",
          "Cyprus",
          "Czechia",
          "Democratic Republic of Congo",
          "Denmark",
          "Djibouti",
          "Dominica",
          "Dominican Republic",
          "Ecuador",
          "Egypt",
          "El Salvador",
          "England",
          "Equatorial Guinea",
          "Estonia",
          "Eswatini",
          "Ethiopia",
          "Faeroe Islands",
          "Falkland Islands",
          "Fiji",
          "Finland",
          "France",
          "French Polynesia",
          "Gabon",
          "Gambia",
          "Georgia",
          "Germany",
          "Ghana",
          "Gibraltar",
          "Greece",
          "Greenland",
          "Grenada",
          "Guatemala",
          "Guernsey",
          "Guinea",
          "Guinea-Bissau",
          "Guyana",
          "Haiti",
          "Honduras",
          "Hong Kong",
          "Hungary",
          "Iceland",
          "India",
          "Indonesia",
          "Iran",
          "Iraq",
          "Ireland",
          "Isle of Man",
          "Israel",
          "Italy",
          "Jamaica",
          "Japan",
          "Jersey",
          "Jordan",
          "Kazakhstan",
          "Kenya",
          "Kiribati",
          "Kosovo",
          "Kuwait",
          "Kyrgyzstan",
          "Laos",
          "Latvia",
          "Lebanon",
          "Lesotho",
          "Liberia",
          "Libya",
          "Liechtenstein",
          "Lithuania",
          "Luxembourg",
          "Macao",
          "Madagascar",
          "Malawi",
          "Malaysia",
          "Maldives",
          "Mali",
          "Malta",
          "Mauritania",
          "Mauritius",
          "Mexico",
          "Moldova",
          "Monaco",
          "Mongolia",
          "Montenegro",
          "Montserrat",
          "Morocco",
          "Mozambique",
          "Myanmar",
          "Namibia",
          "Nauru",
          "Nepal",
          "Netherlands",
          "New Caledonia",
          "New Zealand",
          "Nicaragua",
          "Niger",
          "Nigeria",
          "Niue",
          "North Macedonia",
          "Northern Cyprus",
          "Northern Ireland",
          "Norway",
          "Oman",
          "Pakistan",
          "Palestine",
          "Panama",
          "Papua New Guinea",
          "Paraguay",
          "Peru",
          "Philippines",
          "Pitcairn",
          "Poland",
          "Portugal",
          "Qatar",
          "Romania",
          "Russia",
          "Rwanda",
          "Saint Helena",
          "Saint Kitts and Nevis",
          "Saint Lucia",
          "Saint Vincent and the Grenadines",
          "Samoa",
          "San Marino",
          "Sao Tome and Principe",
          "Saudi Arabia",
          "Scotland",
          "Senegal",
          "Serbia",
          "Seychelles",
          "Sierra Leone",
          "Singapore",
          "Sint Maarten (Dutch part)",
          "Slovakia",
          "Slovenia",
          "Solomon Islands",
          "Somalia",
          "South Africa",
          "South Korea",
          "South Sudan",
          "Spain",
          "Sri Lanka",
          "Sudan",
          "Suriname",
          "Sweden",
          "Switzerland",
          "Syria",
          "Taiwan",
          "Tajikistan",
          "Tanzania",
          "Thailand",
          "Timor",
          "Togo",
          "Tokelau",
          "Tonga",
          "Trinidad and Tobago",
          "Tunisia",
          "Turkey",
          "Turkmenistan",
          "Turks and Caicos Islands",
          "Tuvalu",
          "Uganda",
          "Ukraine",
          "United Arab Emirates",
          "United Kingdom",
          "United States",
          "Uruguay",
          "Uzbekistan",
          "Vanuatu",
          "Venezuela",
          "Vietnam",
          "Wales",
          "Wallis and Futuna",
          "Yemen",
          "Zambia",
          "Zimbabwe",
          "Dr Congo",
          "Ivory Coast",
          "North Korea",
          "Burundi",
          "Czech Republic",
          "Republic Of The Congo",
          "Eritrea",
          "Bosnia And Herzegovina",
          "Puerto Rico",
          "Guinea Bissau",
          "Trinidad And Tobago",
          "Timor Leste",
          "Reunion",
          "Macau",
          "Western Sahara",
          "Martinique",
          "Mayotte",
          "Sao Tome And Principe",
          "Guam",
          "Micronesia",
          "Saint Vincent And The Grenadines",
          "United States Virgin Islands",
          "Antigua And Barbuda",
          "Isle Of Man",
          "Marshall Islands",
          "Northern Mariana Islands",
          "American Samoa",
          "Saint Kitts And Nevis",
          "Faroe Islands",
          "Sint Maarten",
          "Saint Martin",
          "Turks And Caicos Islands",
          "Palau",
          "Wallis And Futuna",
          "Saint Barthelemy",
          "Saint Pierre And Miquelon",
          "Vatican City"
         ],
         "xaxis": "x",
         "y": [
          21296011,
          135862014,
          36293703,
          935725,
          37213552,
          322400,
          3433488,
          4446422016,
          3239283,
          17273892,
          1777630722,
          1368383910,
          668226747,
          2449327,
          371532698,
          2136061955,
          27184780,
          31794530,
          1972756487,
          11134573,
          1205694,
          2171913,
          52864089,
          304387270,
          43236,
          8591644,
          9999953,
          16743823786,
          397963,
          13020414,
          287658160,
          823738,
          1725494328,
          7096611,
          6541779798,
          4335765,
          6320281,
          1117635,
          985060,
          4318543004,
          216470670700,
          2734880689,
          2380970,
          3100842,
          113935,
          67873945,
          127199650,
          373014214,
          1178828447,
          21773020,
          77163419,
          1450141617,
          1626817,
          910012374,
          652629,
          1187324,
          1247825120,
          1348354448,
          220234147,
          360056128,
          12211942749,
          11641798,
          172953958,
          3011288,
          296904306,
          4619474,
          14163,
          10796175,
          671067397,
          10381014075,
          3769910,
          2004697,
          1898853,
          61531393,
          13123945506,
          15971788,
          7647844,
          1432053821,
          4273507,
          943758,
          331583909,
          6266670,
          58642657,
          312273,
          18535256,
          693703,
          53937493,
          788191481,
          463858449,
          24378140,
          67718878640,
          9728431634,
          423842207,
          50836991,
          591544372,
          11379442,
          2682509615,
          9615941550,
          15313300,
          8591068571,
          5537726,
          494715944,
          1132368896,
          233617818,
          102507,
          51478449,
          10577816,
          67524357,
          119660669,
          187769390,
          252430571,
          857193,
          1153672,
          20841510,
          5544633,
          392901442,
          84562808,
          40760453,
          1803569,
          63778672,
          2776646483,
          92761109,
          4694815,
          113757823,
          5738823,
          20227732,
          8943573608,
          58530722,
          802164,
          482972291,
          44727208,
          48675,
          2814889319,
          18423673,
          50005896,
          16150066,
          87178,
          732671944,
          1660169381,
          2931086,
          309825068,
          5747667,
          2893684,
          154317527,
          4266,
          71938639,
          2186492,
          370627078,
          809329863,
          44590920,
          2670539604,
          135371085,
          352778240,
          1165817,
          232596132,
          1816950414,
          1625462127,
          348,
          4203887813,
          1460877538,
          512644664,
          1493254803,
          8586294523,
          51383449,
          24233,
          1549922,
          5000021,
          939527,
          1659173,
          2937345,
          847791,
          4019468156,
          1221589424,
          43503477,
          558950054,
          5250374,
          1583288,
          609851365,
          893009,
          630896746,
          258755462,
          471813,
          7510234,
          653314758,
          4018547167,
          886292,
          5622938717,
          1484513180,
          13164191,
          29987735,
          273678088,
          1271769046,
          2019020,
          734735698,
          31450770,
          978969,
          2299294464,
          7847737,
          5309592,
          1921,
          350279,
          74727133,
          355590473,
          10555930350,
          41993,
          497526,
          39414,
          52828215,
          783510867,
          2722272824,
          14510776708,
          60254042114,
          698206443,
          367464694,
          302320,
          65588683,
          1428219190,
          698563767,
          198955,
          2584227,
          29172871,
          334594250,
          null,
          null,
          null,
          null,
          null,
          null,
          null,
          null,
          null,
          null,
          null,
          null,
          null,
          null,
          null,
          null,
          null,
          null,
          null,
          null,
          null,
          null,
          null,
          null,
          null,
          null,
          null,
          null,
          null,
          null,
          null,
          null,
          null,
          null,
          null,
          null,
          null
         ],
         "yaxis": "y"
        }
       ],
       "layout": {
        "barmode": "relative",
        "legend": {
         "tracegroupgap": 0
        },
        "template": {
         "data": {
          "bar": [
           {
            "error_x": {
             "color": "#2a3f5f"
            },
            "error_y": {
             "color": "#2a3f5f"
            },
            "marker": {
             "line": {
              "color": "#E5ECF6",
              "width": 0.5
             },
             "pattern": {
              "fillmode": "overlay",
              "size": 10,
              "solidity": 0.2
             }
            },
            "type": "bar"
           }
          ],
          "barpolar": [
           {
            "marker": {
             "line": {
              "color": "#E5ECF6",
              "width": 0.5
             },
             "pattern": {
              "fillmode": "overlay",
              "size": 10,
              "solidity": 0.2
             }
            },
            "type": "barpolar"
           }
          ],
          "carpet": [
           {
            "aaxis": {
             "endlinecolor": "#2a3f5f",
             "gridcolor": "white",
             "linecolor": "white",
             "minorgridcolor": "white",
             "startlinecolor": "#2a3f5f"
            },
            "baxis": {
             "endlinecolor": "#2a3f5f",
             "gridcolor": "white",
             "linecolor": "white",
             "minorgridcolor": "white",
             "startlinecolor": "#2a3f5f"
            },
            "type": "carpet"
           }
          ],
          "choropleth": [
           {
            "colorbar": {
             "outlinewidth": 0,
             "ticks": ""
            },
            "type": "choropleth"
           }
          ],
          "contour": [
           {
            "colorbar": {
             "outlinewidth": 0,
             "ticks": ""
            },
            "colorscale": [
             [
              0,
              "#0d0887"
             ],
             [
              0.1111111111111111,
              "#46039f"
             ],
             [
              0.2222222222222222,
              "#7201a8"
             ],
             [
              0.3333333333333333,
              "#9c179e"
             ],
             [
              0.4444444444444444,
              "#bd3786"
             ],
             [
              0.5555555555555556,
              "#d8576b"
             ],
             [
              0.6666666666666666,
              "#ed7953"
             ],
             [
              0.7777777777777778,
              "#fb9f3a"
             ],
             [
              0.8888888888888888,
              "#fdca26"
             ],
             [
              1,
              "#f0f921"
             ]
            ],
            "type": "contour"
           }
          ],
          "contourcarpet": [
           {
            "colorbar": {
             "outlinewidth": 0,
             "ticks": ""
            },
            "type": "contourcarpet"
           }
          ],
          "heatmap": [
           {
            "colorbar": {
             "outlinewidth": 0,
             "ticks": ""
            },
            "colorscale": [
             [
              0,
              "#0d0887"
             ],
             [
              0.1111111111111111,
              "#46039f"
             ],
             [
              0.2222222222222222,
              "#7201a8"
             ],
             [
              0.3333333333333333,
              "#9c179e"
             ],
             [
              0.4444444444444444,
              "#bd3786"
             ],
             [
              0.5555555555555556,
              "#d8576b"
             ],
             [
              0.6666666666666666,
              "#ed7953"
             ],
             [
              0.7777777777777778,
              "#fb9f3a"
             ],
             [
              0.8888888888888888,
              "#fdca26"
             ],
             [
              1,
              "#f0f921"
             ]
            ],
            "type": "heatmap"
           }
          ],
          "heatmapgl": [
           {
            "colorbar": {
             "outlinewidth": 0,
             "ticks": ""
            },
            "colorscale": [
             [
              0,
              "#0d0887"
             ],
             [
              0.1111111111111111,
              "#46039f"
             ],
             [
              0.2222222222222222,
              "#7201a8"
             ],
             [
              0.3333333333333333,
              "#9c179e"
             ],
             [
              0.4444444444444444,
              "#bd3786"
             ],
             [
              0.5555555555555556,
              "#d8576b"
             ],
             [
              0.6666666666666666,
              "#ed7953"
             ],
             [
              0.7777777777777778,
              "#fb9f3a"
             ],
             [
              0.8888888888888888,
              "#fdca26"
             ],
             [
              1,
              "#f0f921"
             ]
            ],
            "type": "heatmapgl"
           }
          ],
          "histogram": [
           {
            "marker": {
             "pattern": {
              "fillmode": "overlay",
              "size": 10,
              "solidity": 0.2
             }
            },
            "type": "histogram"
           }
          ],
          "histogram2d": [
           {
            "colorbar": {
             "outlinewidth": 0,
             "ticks": ""
            },
            "colorscale": [
             [
              0,
              "#0d0887"
             ],
             [
              0.1111111111111111,
              "#46039f"
             ],
             [
              0.2222222222222222,
              "#7201a8"
             ],
             [
              0.3333333333333333,
              "#9c179e"
             ],
             [
              0.4444444444444444,
              "#bd3786"
             ],
             [
              0.5555555555555556,
              "#d8576b"
             ],
             [
              0.6666666666666666,
              "#ed7953"
             ],
             [
              0.7777777777777778,
              "#fb9f3a"
             ],
             [
              0.8888888888888888,
              "#fdca26"
             ],
             [
              1,
              "#f0f921"
             ]
            ],
            "type": "histogram2d"
           }
          ],
          "histogram2dcontour": [
           {
            "colorbar": {
             "outlinewidth": 0,
             "ticks": ""
            },
            "colorscale": [
             [
              0,
              "#0d0887"
             ],
             [
              0.1111111111111111,
              "#46039f"
             ],
             [
              0.2222222222222222,
              "#7201a8"
             ],
             [
              0.3333333333333333,
              "#9c179e"
             ],
             [
              0.4444444444444444,
              "#bd3786"
             ],
             [
              0.5555555555555556,
              "#d8576b"
             ],
             [
              0.6666666666666666,
              "#ed7953"
             ],
             [
              0.7777777777777778,
              "#fb9f3a"
             ],
             [
              0.8888888888888888,
              "#fdca26"
             ],
             [
              1,
              "#f0f921"
             ]
            ],
            "type": "histogram2dcontour"
           }
          ],
          "mesh3d": [
           {
            "colorbar": {
             "outlinewidth": 0,
             "ticks": ""
            },
            "type": "mesh3d"
           }
          ],
          "parcoords": [
           {
            "line": {
             "colorbar": {
              "outlinewidth": 0,
              "ticks": ""
             }
            },
            "type": "parcoords"
           }
          ],
          "pie": [
           {
            "automargin": true,
            "type": "pie"
           }
          ],
          "scatter": [
           {
            "marker": {
             "colorbar": {
              "outlinewidth": 0,
              "ticks": ""
             }
            },
            "type": "scatter"
           }
          ],
          "scatter3d": [
           {
            "line": {
             "colorbar": {
              "outlinewidth": 0,
              "ticks": ""
             }
            },
            "marker": {
             "colorbar": {
              "outlinewidth": 0,
              "ticks": ""
             }
            },
            "type": "scatter3d"
           }
          ],
          "scattercarpet": [
           {
            "marker": {
             "colorbar": {
              "outlinewidth": 0,
              "ticks": ""
             }
            },
            "type": "scattercarpet"
           }
          ],
          "scattergeo": [
           {
            "marker": {
             "colorbar": {
              "outlinewidth": 0,
              "ticks": ""
             }
            },
            "type": "scattergeo"
           }
          ],
          "scattergl": [
           {
            "marker": {
             "colorbar": {
              "outlinewidth": 0,
              "ticks": ""
             }
            },
            "type": "scattergl"
           }
          ],
          "scattermapbox": [
           {
            "marker": {
             "colorbar": {
              "outlinewidth": 0,
              "ticks": ""
             }
            },
            "type": "scattermapbox"
           }
          ],
          "scatterpolar": [
           {
            "marker": {
             "colorbar": {
              "outlinewidth": 0,
              "ticks": ""
             }
            },
            "type": "scatterpolar"
           }
          ],
          "scatterpolargl": [
           {
            "marker": {
             "colorbar": {
              "outlinewidth": 0,
              "ticks": ""
             }
            },
            "type": "scatterpolargl"
           }
          ],
          "scatterternary": [
           {
            "marker": {
             "colorbar": {
              "outlinewidth": 0,
              "ticks": ""
             }
            },
            "type": "scatterternary"
           }
          ],
          "surface": [
           {
            "colorbar": {
             "outlinewidth": 0,
             "ticks": ""
            },
            "colorscale": [
             [
              0,
              "#0d0887"
             ],
             [
              0.1111111111111111,
              "#46039f"
             ],
             [
              0.2222222222222222,
              "#7201a8"
             ],
             [
              0.3333333333333333,
              "#9c179e"
             ],
             [
              0.4444444444444444,
              "#bd3786"
             ],
             [
              0.5555555555555556,
              "#d8576b"
             ],
             [
              0.6666666666666666,
              "#ed7953"
             ],
             [
              0.7777777777777778,
              "#fb9f3a"
             ],
             [
              0.8888888888888888,
              "#fdca26"
             ],
             [
              1,
              "#f0f921"
             ]
            ],
            "type": "surface"
           }
          ],
          "table": [
           {
            "cells": {
             "fill": {
              "color": "#EBF0F8"
             },
             "line": {
              "color": "white"
             }
            },
            "header": {
             "fill": {
              "color": "#C8D4E3"
             },
             "line": {
              "color": "white"
             }
            },
            "type": "table"
           }
          ]
         },
         "layout": {
          "annotationdefaults": {
           "arrowcolor": "#2a3f5f",
           "arrowhead": 0,
           "arrowwidth": 1
          },
          "autotypenumbers": "strict",
          "coloraxis": {
           "colorbar": {
            "outlinewidth": 0,
            "ticks": ""
           }
          },
          "colorscale": {
           "diverging": [
            [
             0,
             "#8e0152"
            ],
            [
             0.1,
             "#c51b7d"
            ],
            [
             0.2,
             "#de77ae"
            ],
            [
             0.3,
             "#f1b6da"
            ],
            [
             0.4,
             "#fde0ef"
            ],
            [
             0.5,
             "#f7f7f7"
            ],
            [
             0.6,
             "#e6f5d0"
            ],
            [
             0.7,
             "#b8e186"
            ],
            [
             0.8,
             "#7fbc41"
            ],
            [
             0.9,
             "#4d9221"
            ],
            [
             1,
             "#276419"
            ]
           ],
           "sequential": [
            [
             0,
             "#0d0887"
            ],
            [
             0.1111111111111111,
             "#46039f"
            ],
            [
             0.2222222222222222,
             "#7201a8"
            ],
            [
             0.3333333333333333,
             "#9c179e"
            ],
            [
             0.4444444444444444,
             "#bd3786"
            ],
            [
             0.5555555555555556,
             "#d8576b"
            ],
            [
             0.6666666666666666,
             "#ed7953"
            ],
            [
             0.7777777777777778,
             "#fb9f3a"
            ],
            [
             0.8888888888888888,
             "#fdca26"
            ],
            [
             1,
             "#f0f921"
            ]
           ],
           "sequentialminus": [
            [
             0,
             "#0d0887"
            ],
            [
             0.1111111111111111,
             "#46039f"
            ],
            [
             0.2222222222222222,
             "#7201a8"
            ],
            [
             0.3333333333333333,
             "#9c179e"
            ],
            [
             0.4444444444444444,
             "#bd3786"
            ],
            [
             0.5555555555555556,
             "#d8576b"
            ],
            [
             0.6666666666666666,
             "#ed7953"
            ],
            [
             0.7777777777777778,
             "#fb9f3a"
            ],
            [
             0.8888888888888888,
             "#fdca26"
            ],
            [
             1,
             "#f0f921"
            ]
           ]
          },
          "colorway": [
           "#636efa",
           "#EF553B",
           "#00cc96",
           "#ab63fa",
           "#FFA15A",
           "#19d3f3",
           "#FF6692",
           "#B6E880",
           "#FF97FF",
           "#FECB52"
          ],
          "font": {
           "color": "#2a3f5f"
          },
          "geo": {
           "bgcolor": "white",
           "lakecolor": "white",
           "landcolor": "#E5ECF6",
           "showlakes": true,
           "showland": true,
           "subunitcolor": "white"
          },
          "hoverlabel": {
           "align": "left"
          },
          "hovermode": "closest",
          "mapbox": {
           "style": "light"
          },
          "paper_bgcolor": "white",
          "plot_bgcolor": "#E5ECF6",
          "polar": {
           "angularaxis": {
            "gridcolor": "white",
            "linecolor": "white",
            "ticks": ""
           },
           "bgcolor": "#E5ECF6",
           "radialaxis": {
            "gridcolor": "white",
            "linecolor": "white",
            "ticks": ""
           }
          },
          "scene": {
           "xaxis": {
            "backgroundcolor": "#E5ECF6",
            "gridcolor": "white",
            "gridwidth": 2,
            "linecolor": "white",
            "showbackground": true,
            "ticks": "",
            "zerolinecolor": "white"
           },
           "yaxis": {
            "backgroundcolor": "#E5ECF6",
            "gridcolor": "white",
            "gridwidth": 2,
            "linecolor": "white",
            "showbackground": true,
            "ticks": "",
            "zerolinecolor": "white"
           },
           "zaxis": {
            "backgroundcolor": "#E5ECF6",
            "gridcolor": "white",
            "gridwidth": 2,
            "linecolor": "white",
            "showbackground": true,
            "ticks": "",
            "zerolinecolor": "white"
           }
          },
          "shapedefaults": {
           "line": {
            "color": "#2a3f5f"
           }
          },
          "ternary": {
           "aaxis": {
            "gridcolor": "white",
            "linecolor": "white",
            "ticks": ""
           },
           "baxis": {
            "gridcolor": "white",
            "linecolor": "white",
            "ticks": ""
           },
           "bgcolor": "#E5ECF6",
           "caxis": {
            "gridcolor": "white",
            "linecolor": "white",
            "ticks": ""
           }
          },
          "title": {
           "x": 0.05
          },
          "xaxis": {
           "automargin": true,
           "gridcolor": "white",
           "linecolor": "white",
           "ticks": "",
           "title": {
            "standoff": 15
           },
           "zerolinecolor": "white",
           "zerolinewidth": 2
          },
          "yaxis": {
           "automargin": true,
           "gridcolor": "white",
           "linecolor": "white",
           "ticks": "",
           "title": {
            "standoff": 15
           },
           "zerolinecolor": "white",
           "zerolinewidth": 2
          }
         }
        },
        "title": {
         "text": "Top 5 Countries With Biggest Vaccinations Progress"
        },
        "xaxis": {
         "anchor": "y",
         "domain": [
          0,
          1
         ],
         "title": {
          "text": "Country"
         }
        },
        "yaxis": {
         "anchor": "x",
         "domain": [
          0,
          1
         ],
         "title": {
          "text": "sum of Total Vaccinations"
         }
        }
       }
      },
      "text/html": [
       "<div>                            <div id=\"e8b262f6-e2f5-4d00-9d7a-0c073270e4c3\" class=\"plotly-graph-div\" style=\"height:525px; width:100%;\"></div>            <script type=\"text/javascript\">                require([\"plotly\"], function(Plotly) {                    window.PLOTLYENV=window.PLOTLYENV || {};                                    if (document.getElementById(\"e8b262f6-e2f5-4d00-9d7a-0c073270e4c3\")) {                    Plotly.newPlot(                        \"e8b262f6-e2f5-4d00-9d7a-0c073270e4c3\",                        [{\"alignmentgroup\":\"True\",\"bingroup\":\"x\",\"histfunc\":\"sum\",\"hovertemplate\":\"Country=%{x}<br>sum of Total Vaccinations=%{y}<extra></extra>\",\"legendgroup\":\"\",\"marker\":{\"color\":\"#636efa\",\"pattern\":{\"shape\":\"\"}},\"name\":\"\",\"offsetgroup\":\"\",\"orientation\":\"v\",\"showlegend\":false,\"type\":\"histogram\",\"x\":[\"Afghanistan\",\"Albania\",\"Algeria\",\"Andorra\",\"Angola\",\"Anguilla\",\"Antigua and Barbuda\",\"Argentina\",\"Armenia\",\"Aruba\",\"Australia\",\"Austria\",\"Azerbaijan\",\"Bahamas\",\"Bahrain\",\"Bangladesh\",\"Barbados\",\"Belarus\",\"Belgium\",\"Belize\",\"Benin\",\"Bermuda\",\"Bhutan\",\"Bolivia\",\"Bonaire Sint Eustatius and Saba\",\"Bosnia and Herzegovina\",\"Botswana\",\"Brazil\",\"British Virgin Islands\",\"Brunei\",\"Bulgaria\",\"Burkina Faso\",\"Cambodia\",\"Cameroon\",\"Canada\",\"Cape Verde\",\"Cayman Islands\",\"Central African Republic\",\"Chad\",\"Chile\",\"China\",\"Colombia\",\"Comoros\",\"Congo\",\"Cook Islands\",\"Costa Rica\",\"Cote d'Ivoire\",\"Croatia\",\"Cuba\",\"Curacao\",\"Cyprus\",\"Czechia\",\"Democratic Republic of Congo\",\"Denmark\",\"Djibouti\",\"Dominica\",\"Dominican Republic\",\"Ecuador\",\"Egypt\",\"El Salvador\",\"England\",\"Equatorial Guinea\",\"Estonia\",\"Eswatini\",\"Ethiopia\",\"Faeroe Islands\",\"Falkland Islands\",\"Fiji\",\"Finland\",\"France\",\"French Polynesia\",\"Gabon\",\"Gambia\",\"Georgia\",\"Germany\",\"Ghana\",\"Gibraltar\",\"Greece\",\"Greenland\",\"Grenada\",\"Guatemala\",\"Guernsey\",\"Guinea\",\"Guinea-Bissau\",\"Guyana\",\"Haiti\",\"Honduras\",\"Hong Kong\",\"Hungary\",\"Iceland\",\"India\",\"Indonesia\",\"Iran\",\"Iraq\",\"Ireland\",\"Isle of Man\",\"Israel\",\"Italy\",\"Jamaica\",\"Japan\",\"Jersey\",\"Jordan\",\"Kazakhstan\",\"Kenya\",\"Kiribati\",\"Kosovo\",\"Kuwait\",\"Kyrgyzstan\",\"Laos\",\"Latvia\",\"Lebanon\",\"Lesotho\",\"Liberia\",\"Libya\",\"Liechtenstein\",\"Lithuania\",\"Luxembourg\",\"Macao\",\"Madagascar\",\"Malawi\",\"Malaysia\",\"Maldives\",\"Mali\",\"Malta\",\"Mauritania\",\"Mauritius\",\"Mexico\",\"Moldova\",\"Monaco\",\"Mongolia\",\"Montenegro\",\"Montserrat\",\"Morocco\",\"Mozambique\",\"Myanmar\",\"Namibia\",\"Nauru\",\"Nepal\",\"Netherlands\",\"New Caledonia\",\"New Zealand\",\"Nicaragua\",\"Niger\",\"Nigeria\",\"Niue\",\"North Macedonia\",\"Northern Cyprus\",\"Northern Ireland\",\"Norway\",\"Oman\",\"Pakistan\",\"Palestine\",\"Panama\",\"Papua New Guinea\",\"Paraguay\",\"Peru\",\"Philippines\",\"Pitcairn\",\"Poland\",\"Portugal\",\"Qatar\",\"Romania\",\"Russia\",\"Rwanda\",\"Saint Helena\",\"Saint Kitts and Nevis\",\"Saint Lucia\",\"Saint Vincent and the Grenadines\",\"Samoa\",\"San Marino\",\"Sao Tome and Principe\",\"Saudi Arabia\",\"Scotland\",\"Senegal\",\"Serbia\",\"Seychelles\",\"Sierra Leone\",\"Singapore\",\"Sint Maarten (Dutch part)\",\"Slovakia\",\"Slovenia\",\"Solomon Islands\",\"Somalia\",\"South Africa\",\"South Korea\",\"South Sudan\",\"Spain\",\"Sri Lanka\",\"Sudan\",\"Suriname\",\"Sweden\",\"Switzerland\",\"Syria\",\"Taiwan\",\"Tajikistan\",\"Tanzania\",\"Thailand\",\"Timor\",\"Togo\",\"Tokelau\",\"Tonga\",\"Trinidad and Tobago\",\"Tunisia\",\"Turkey\",\"Turkmenistan\",\"Turks and Caicos Islands\",\"Tuvalu\",\"Uganda\",\"Ukraine\",\"United Arab Emirates\",\"United Kingdom\",\"United States\",\"Uruguay\",\"Uzbekistan\",\"Vanuatu\",\"Venezuela\",\"Vietnam\",\"Wales\",\"Wallis and Futuna\",\"Yemen\",\"Zambia\",\"Zimbabwe\",\"Dr Congo\",\"Ivory Coast\",\"North Korea\",\"Burundi\",\"Czech Republic\",\"Republic Of The Congo\",\"Eritrea\",\"Bosnia And Herzegovina\",\"Puerto Rico\",\"Guinea Bissau\",\"Trinidad And Tobago\",\"Timor Leste\",\"Reunion\",\"Macau\",\"Western Sahara\",\"Martinique\",\"Mayotte\",\"Sao Tome And Principe\",\"Guam\",\"Micronesia\",\"Saint Vincent And The Grenadines\",\"United States Virgin Islands\",\"Antigua And Barbuda\",\"Isle Of Man\",\"Marshall Islands\",\"Northern Mariana Islands\",\"American Samoa\",\"Saint Kitts And Nevis\",\"Faroe Islands\",\"Sint Maarten\",\"Saint Martin\",\"Turks And Caicos Islands\",\"Palau\",\"Wallis And Futuna\",\"Saint Barthelemy\",\"Saint Pierre And Miquelon\",\"Vatican City\"],\"xaxis\":\"x\",\"y\":[21296011.0,135862014.0,36293703.0,935725.0,37213552.0,322400.0,3433488.0,4446422016.0,3239283.0,17273892.0,1777630722.0,1368383910.0,668226747.0,2449327.0,371532698.0,2136061955.0,27184780.0,31794530.0,1972756487.0,11134573.0,1205694.0,2171913.0,52864089.0,304387270.0,43236.0,8591644.0,9999953.0,16743823786.0,397963.0,13020414.0,287658160.0,823738.0,1725494328.0,7096611.0,6541779798.0,4335765.0,6320281.0,1117635.0,985060.0,4318543004.0,216470670700.0,2734880689.0,2380970.0,3100842.0,113935.0,67873945.0,127199650.0,373014214.0,1178828447.0,21773020.0,77163419.0,1450141617.0,1626817.0,910012374.0,652629.0,1187324.0,1247825120.0,1348354448.0,220234147.0,360056128.0,12211942749.0,11641798.0,172953958.0,3011288.0,296904306.0,4619474.0,14163.0,10796175.0,671067397.0,10381014075.0,3769910.0,2004697.0,1898853.0,61531393.0,13123945506.0,15971788.0,7647844.0,1432053821.0,4273507.0,943758.0,331583909.0,6266670.0,58642657.0,312273.0,18535256.0,693703.0,53937493.0,788191481.0,463858449.0,24378140.0,67718878640.0,9728431634.0,423842207.0,50836991.0,591544372.0,11379442.0,2682509615.0,9615941550.0,15313300.0,8591068571.0,5537726.0,494715944.0,1132368896.0,233617818.0,102507.0,51478449.0,10577816.0,67524357.0,119660669.0,187769390.0,252430571.0,857193.0,1153672.0,20841510.0,5544633.0,392901442.0,84562808.0,40760453.0,1803569.0,63778672.0,2776646483.0,92761109.0,4694815.0,113757823.0,5738823.0,20227732.0,8943573608.0,58530722.0,802164.0,482972291.0,44727208.0,48675.0,2814889319.0,18423673.0,50005896.0,16150066.0,87178.0,732671944.0,1660169381.0,2931086.0,309825068.0,5747667.0,2893684.0,154317527.0,4266.0,71938639.0,2186492.0,370627078.0,809329863.0,44590920.0,2670539604.0,135371085.0,352778240.0,1165817.0,232596132.0,1816950414.0,1625462127.0,348.0,4203887813.0,1460877538.0,512644664.0,1493254803.0,8586294523.0,51383449.0,24233.0,1549922.0,5000021.0,939527.0,1659173.0,2937345.0,847791.0,4019468156.0,1221589424.0,43503477.0,558950054.0,5250374.0,1583288.0,609851365.0,893009.0,630896746.0,258755462.0,471813.0,7510234.0,653314758.0,4018547167.0,886292.0,5622938717.0,1484513180.0,13164191.0,29987735.0,273678088.0,1271769046.0,2019020.0,734735698.0,31450770.0,978969.0,2299294464.0,7847737.0,5309592.0,1921.0,350279.0,74727133.0,355590473.0,10555930350.0,41993.0,497526.0,39414.0,52828215.0,783510867.0,2722272824.0,14510776708.0,60254042114.0,698206443.0,367464694.0,302320.0,65588683.0,1428219190.0,698563767.0,198955.0,2584227.0,29172871.0,334594250.0,null,null,null,null,null,null,null,null,null,null,null,null,null,null,null,null,null,null,null,null,null,null,null,null,null,null,null,null,null,null,null,null,null,null,null,null,null],\"yaxis\":\"y\"}],                        {\"barmode\":\"relative\",\"legend\":{\"tracegroupgap\":0},\"template\":{\"data\":{\"bar\":[{\"error_x\":{\"color\":\"#2a3f5f\"},\"error_y\":{\"color\":\"#2a3f5f\"},\"marker\":{\"line\":{\"color\":\"#E5ECF6\",\"width\":0.5},\"pattern\":{\"fillmode\":\"overlay\",\"size\":10,\"solidity\":0.2}},\"type\":\"bar\"}],\"barpolar\":[{\"marker\":{\"line\":{\"color\":\"#E5ECF6\",\"width\":0.5},\"pattern\":{\"fillmode\":\"overlay\",\"size\":10,\"solidity\":0.2}},\"type\":\"barpolar\"}],\"carpet\":[{\"aaxis\":{\"endlinecolor\":\"#2a3f5f\",\"gridcolor\":\"white\",\"linecolor\":\"white\",\"minorgridcolor\":\"white\",\"startlinecolor\":\"#2a3f5f\"},\"baxis\":{\"endlinecolor\":\"#2a3f5f\",\"gridcolor\":\"white\",\"linecolor\":\"white\",\"minorgridcolor\":\"white\",\"startlinecolor\":\"#2a3f5f\"},\"type\":\"carpet\"}],\"choropleth\":[{\"colorbar\":{\"outlinewidth\":0,\"ticks\":\"\"},\"type\":\"choropleth\"}],\"contour\":[{\"colorbar\":{\"outlinewidth\":0,\"ticks\":\"\"},\"colorscale\":[[0.0,\"#0d0887\"],[0.1111111111111111,\"#46039f\"],[0.2222222222222222,\"#7201a8\"],[0.3333333333333333,\"#9c179e\"],[0.4444444444444444,\"#bd3786\"],[0.5555555555555556,\"#d8576b\"],[0.6666666666666666,\"#ed7953\"],[0.7777777777777778,\"#fb9f3a\"],[0.8888888888888888,\"#fdca26\"],[1.0,\"#f0f921\"]],\"type\":\"contour\"}],\"contourcarpet\":[{\"colorbar\":{\"outlinewidth\":0,\"ticks\":\"\"},\"type\":\"contourcarpet\"}],\"heatmap\":[{\"colorbar\":{\"outlinewidth\":0,\"ticks\":\"\"},\"colorscale\":[[0.0,\"#0d0887\"],[0.1111111111111111,\"#46039f\"],[0.2222222222222222,\"#7201a8\"],[0.3333333333333333,\"#9c179e\"],[0.4444444444444444,\"#bd3786\"],[0.5555555555555556,\"#d8576b\"],[0.6666666666666666,\"#ed7953\"],[0.7777777777777778,\"#fb9f3a\"],[0.8888888888888888,\"#fdca26\"],[1.0,\"#f0f921\"]],\"type\":\"heatmap\"}],\"heatmapgl\":[{\"colorbar\":{\"outlinewidth\":0,\"ticks\":\"\"},\"colorscale\":[[0.0,\"#0d0887\"],[0.1111111111111111,\"#46039f\"],[0.2222222222222222,\"#7201a8\"],[0.3333333333333333,\"#9c179e\"],[0.4444444444444444,\"#bd3786\"],[0.5555555555555556,\"#d8576b\"],[0.6666666666666666,\"#ed7953\"],[0.7777777777777778,\"#fb9f3a\"],[0.8888888888888888,\"#fdca26\"],[1.0,\"#f0f921\"]],\"type\":\"heatmapgl\"}],\"histogram\":[{\"marker\":{\"pattern\":{\"fillmode\":\"overlay\",\"size\":10,\"solidity\":0.2}},\"type\":\"histogram\"}],\"histogram2d\":[{\"colorbar\":{\"outlinewidth\":0,\"ticks\":\"\"},\"colorscale\":[[0.0,\"#0d0887\"],[0.1111111111111111,\"#46039f\"],[0.2222222222222222,\"#7201a8\"],[0.3333333333333333,\"#9c179e\"],[0.4444444444444444,\"#bd3786\"],[0.5555555555555556,\"#d8576b\"],[0.6666666666666666,\"#ed7953\"],[0.7777777777777778,\"#fb9f3a\"],[0.8888888888888888,\"#fdca26\"],[1.0,\"#f0f921\"]],\"type\":\"histogram2d\"}],\"histogram2dcontour\":[{\"colorbar\":{\"outlinewidth\":0,\"ticks\":\"\"},\"colorscale\":[[0.0,\"#0d0887\"],[0.1111111111111111,\"#46039f\"],[0.2222222222222222,\"#7201a8\"],[0.3333333333333333,\"#9c179e\"],[0.4444444444444444,\"#bd3786\"],[0.5555555555555556,\"#d8576b\"],[0.6666666666666666,\"#ed7953\"],[0.7777777777777778,\"#fb9f3a\"],[0.8888888888888888,\"#fdca26\"],[1.0,\"#f0f921\"]],\"type\":\"histogram2dcontour\"}],\"mesh3d\":[{\"colorbar\":{\"outlinewidth\":0,\"ticks\":\"\"},\"type\":\"mesh3d\"}],\"parcoords\":[{\"line\":{\"colorbar\":{\"outlinewidth\":0,\"ticks\":\"\"}},\"type\":\"parcoords\"}],\"pie\":[{\"automargin\":true,\"type\":\"pie\"}],\"scatter\":[{\"marker\":{\"colorbar\":{\"outlinewidth\":0,\"ticks\":\"\"}},\"type\":\"scatter\"}],\"scatter3d\":[{\"line\":{\"colorbar\":{\"outlinewidth\":0,\"ticks\":\"\"}},\"marker\":{\"colorbar\":{\"outlinewidth\":0,\"ticks\":\"\"}},\"type\":\"scatter3d\"}],\"scattercarpet\":[{\"marker\":{\"colorbar\":{\"outlinewidth\":0,\"ticks\":\"\"}},\"type\":\"scattercarpet\"}],\"scattergeo\":[{\"marker\":{\"colorbar\":{\"outlinewidth\":0,\"ticks\":\"\"}},\"type\":\"scattergeo\"}],\"scattergl\":[{\"marker\":{\"colorbar\":{\"outlinewidth\":0,\"ticks\":\"\"}},\"type\":\"scattergl\"}],\"scattermapbox\":[{\"marker\":{\"colorbar\":{\"outlinewidth\":0,\"ticks\":\"\"}},\"type\":\"scattermapbox\"}],\"scatterpolar\":[{\"marker\":{\"colorbar\":{\"outlinewidth\":0,\"ticks\":\"\"}},\"type\":\"scatterpolar\"}],\"scatterpolargl\":[{\"marker\":{\"colorbar\":{\"outlinewidth\":0,\"ticks\":\"\"}},\"type\":\"scatterpolargl\"}],\"scatterternary\":[{\"marker\":{\"colorbar\":{\"outlinewidth\":0,\"ticks\":\"\"}},\"type\":\"scatterternary\"}],\"surface\":[{\"colorbar\":{\"outlinewidth\":0,\"ticks\":\"\"},\"colorscale\":[[0.0,\"#0d0887\"],[0.1111111111111111,\"#46039f\"],[0.2222222222222222,\"#7201a8\"],[0.3333333333333333,\"#9c179e\"],[0.4444444444444444,\"#bd3786\"],[0.5555555555555556,\"#d8576b\"],[0.6666666666666666,\"#ed7953\"],[0.7777777777777778,\"#fb9f3a\"],[0.8888888888888888,\"#fdca26\"],[1.0,\"#f0f921\"]],\"type\":\"surface\"}],\"table\":[{\"cells\":{\"fill\":{\"color\":\"#EBF0F8\"},\"line\":{\"color\":\"white\"}},\"header\":{\"fill\":{\"color\":\"#C8D4E3\"},\"line\":{\"color\":\"white\"}},\"type\":\"table\"}]},\"layout\":{\"annotationdefaults\":{\"arrowcolor\":\"#2a3f5f\",\"arrowhead\":0,\"arrowwidth\":1},\"autotypenumbers\":\"strict\",\"coloraxis\":{\"colorbar\":{\"outlinewidth\":0,\"ticks\":\"\"}},\"colorscale\":{\"diverging\":[[0,\"#8e0152\"],[0.1,\"#c51b7d\"],[0.2,\"#de77ae\"],[0.3,\"#f1b6da\"],[0.4,\"#fde0ef\"],[0.5,\"#f7f7f7\"],[0.6,\"#e6f5d0\"],[0.7,\"#b8e186\"],[0.8,\"#7fbc41\"],[0.9,\"#4d9221\"],[1,\"#276419\"]],\"sequential\":[[0.0,\"#0d0887\"],[0.1111111111111111,\"#46039f\"],[0.2222222222222222,\"#7201a8\"],[0.3333333333333333,\"#9c179e\"],[0.4444444444444444,\"#bd3786\"],[0.5555555555555556,\"#d8576b\"],[0.6666666666666666,\"#ed7953\"],[0.7777777777777778,\"#fb9f3a\"],[0.8888888888888888,\"#fdca26\"],[1.0,\"#f0f921\"]],\"sequentialminus\":[[0.0,\"#0d0887\"],[0.1111111111111111,\"#46039f\"],[0.2222222222222222,\"#7201a8\"],[0.3333333333333333,\"#9c179e\"],[0.4444444444444444,\"#bd3786\"],[0.5555555555555556,\"#d8576b\"],[0.6666666666666666,\"#ed7953\"],[0.7777777777777778,\"#fb9f3a\"],[0.8888888888888888,\"#fdca26\"],[1.0,\"#f0f921\"]]},\"colorway\":[\"#636efa\",\"#EF553B\",\"#00cc96\",\"#ab63fa\",\"#FFA15A\",\"#19d3f3\",\"#FF6692\",\"#B6E880\",\"#FF97FF\",\"#FECB52\"],\"font\":{\"color\":\"#2a3f5f\"},\"geo\":{\"bgcolor\":\"white\",\"lakecolor\":\"white\",\"landcolor\":\"#E5ECF6\",\"showlakes\":true,\"showland\":true,\"subunitcolor\":\"white\"},\"hoverlabel\":{\"align\":\"left\"},\"hovermode\":\"closest\",\"mapbox\":{\"style\":\"light\"},\"paper_bgcolor\":\"white\",\"plot_bgcolor\":\"#E5ECF6\",\"polar\":{\"angularaxis\":{\"gridcolor\":\"white\",\"linecolor\":\"white\",\"ticks\":\"\"},\"bgcolor\":\"#E5ECF6\",\"radialaxis\":{\"gridcolor\":\"white\",\"linecolor\":\"white\",\"ticks\":\"\"}},\"scene\":{\"xaxis\":{\"backgroundcolor\":\"#E5ECF6\",\"gridcolor\":\"white\",\"gridwidth\":2,\"linecolor\":\"white\",\"showbackground\":true,\"ticks\":\"\",\"zerolinecolor\":\"white\"},\"yaxis\":{\"backgroundcolor\":\"#E5ECF6\",\"gridcolor\":\"white\",\"gridwidth\":2,\"linecolor\":\"white\",\"showbackground\":true,\"ticks\":\"\",\"zerolinecolor\":\"white\"},\"zaxis\":{\"backgroundcolor\":\"#E5ECF6\",\"gridcolor\":\"white\",\"gridwidth\":2,\"linecolor\":\"white\",\"showbackground\":true,\"ticks\":\"\",\"zerolinecolor\":\"white\"}},\"shapedefaults\":{\"line\":{\"color\":\"#2a3f5f\"}},\"ternary\":{\"aaxis\":{\"gridcolor\":\"white\",\"linecolor\":\"white\",\"ticks\":\"\"},\"baxis\":{\"gridcolor\":\"white\",\"linecolor\":\"white\",\"ticks\":\"\"},\"bgcolor\":\"#E5ECF6\",\"caxis\":{\"gridcolor\":\"white\",\"linecolor\":\"white\",\"ticks\":\"\"}},\"title\":{\"x\":0.05},\"xaxis\":{\"automargin\":true,\"gridcolor\":\"white\",\"linecolor\":\"white\",\"ticks\":\"\",\"title\":{\"standoff\":15},\"zerolinecolor\":\"white\",\"zerolinewidth\":2},\"yaxis\":{\"automargin\":true,\"gridcolor\":\"white\",\"linecolor\":\"white\",\"ticks\":\"\",\"title\":{\"standoff\":15},\"zerolinecolor\":\"white\",\"zerolinewidth\":2}}},\"title\":{\"text\":\"Top 5 Countries With Biggest Vaccinations Progress\"},\"xaxis\":{\"anchor\":\"y\",\"domain\":[0.0,1.0],\"title\":{\"text\":\"Country\"}},\"yaxis\":{\"anchor\":\"x\",\"domain\":[0.0,1.0],\"title\":{\"text\":\"sum of Total Vaccinations\"}}},                        {\"responsive\": true}                    ).then(function(){\n",
       "                            \n",
       "var gd = document.getElementById('e8b262f6-e2f5-4d00-9d7a-0c073270e4c3');\n",
       "var x = new MutationObserver(function (mutations, observer) {{\n",
       "        var display = window.getComputedStyle(gd).display;\n",
       "        if (!display || display === 'none') {{\n",
       "            console.log([gd, 'removed!']);\n",
       "            Plotly.purge(gd);\n",
       "            observer.disconnect();\n",
       "        }}\n",
       "}});\n",
       "\n",
       "// Listen for the removal of the full notebook cells\n",
       "var notebookContainer = gd.closest('#notebook-container');\n",
       "if (notebookContainer) {{\n",
       "    x.observe(notebookContainer, {childList: true});\n",
       "}}\n",
       "\n",
       "// Listen for the clearing of the current output cell\n",
       "var outputEl = gd.closest('.output');\n",
       "if (outputEl) {{\n",
       "    x.observe(outputEl, {childList: true});\n",
       "}}\n",
       "\n",
       "                        })                };                });            </script>        </div>"
      ]
     },
     "metadata": {},
     "output_type": "display_data"
    }
   ],
   "source": [
    "fig = px.histogram(merged_data_df, \n",
    "             x='country', \n",
    "             y='total_vaccinations',\n",
    "             labels = {'country' : 'Country', 'total_vaccinations' : 'Total Vaccinations'},\n",
    "             title = \"Top 5 Countries With Biggest Vaccinations Progress\"\n",
    "            )\n",
    "fig.show()\n"
   ]
  },
  {
   "cell_type": "code",
   "execution_count": 24,
   "id": "e1a7509a",
   "metadata": {},
   "outputs": [
    {
     "ename": "ValueError",
     "evalue": "Value of 'x' is not the name of a column in 'data_frame'. Expected one of ['Unnamed: 0', 'CanSino', 'Johnson&Johnson', 'Moderna', 'Oxford/AstraZeneca', 'Pfizer/BioNTech', 'Sinopharm/Beijing', 'Sinovac', 'Sputnik V'] but received: location",
     "output_type": "error",
     "traceback": [
      "\u001b[0;31m---------------------------------------------------------------------------\u001b[0m",
      "\u001b[0;31mValueError\u001b[0m                                Traceback (most recent call last)",
      "\u001b[0;32m<ipython-input-24-4132394b7ec4>\u001b[0m in \u001b[0;36m<module>\u001b[0;34m\u001b[0m\n\u001b[0;32m----> 1\u001b[0;31m fig = px.histogram(data, \n\u001b[0m\u001b[1;32m      2\u001b[0m              \u001b[0mx\u001b[0m\u001b[0;34m=\u001b[0m\u001b[0;34m'location'\u001b[0m\u001b[0;34m,\u001b[0m\u001b[0;34m\u001b[0m\u001b[0;34m\u001b[0m\u001b[0m\n\u001b[1;32m      3\u001b[0m              \u001b[0my\u001b[0m\u001b[0;34m=\u001b[0m\u001b[0;34m'Vaccine type'\u001b[0m\u001b[0;34m,\u001b[0m\u001b[0;34m\u001b[0m\u001b[0;34m\u001b[0m\u001b[0m\n\u001b[1;32m      4\u001b[0m              \u001b[0mlabels\u001b[0m \u001b[0;34m=\u001b[0m \u001b[0;34m{\u001b[0m\u001b[0;34m'country'\u001b[0m \u001b[0;34m:\u001b[0m \u001b[0;34m'Country'\u001b[0m\u001b[0;34m,\u001b[0m \u001b[0;34m'total_vaccinations'\u001b[0m \u001b[0;34m:\u001b[0m \u001b[0;34m'Total Vaccinations'\u001b[0m\u001b[0;34m}\u001b[0m\u001b[0;34m,\u001b[0m\u001b[0;34m\u001b[0m\u001b[0;34m\u001b[0m\u001b[0m\n\u001b[1;32m      5\u001b[0m              \u001b[0mtitle\u001b[0m \u001b[0;34m=\u001b[0m \u001b[0;34m\"Top 5 Countries With Biggest Vaccinations Progress\"\u001b[0m\u001b[0;34m\u001b[0m\u001b[0;34m\u001b[0m\u001b[0m\n",
      "\u001b[0;32m~/opt/anaconda3/lib/python3.8/site-packages/plotly/express/_chart_types.py\u001b[0m in \u001b[0;36mhistogram\u001b[0;34m(data_frame, x, y, color, pattern_shape, facet_row, facet_col, facet_col_wrap, facet_row_spacing, facet_col_spacing, hover_name, hover_data, animation_frame, animation_group, category_orders, labels, color_discrete_sequence, color_discrete_map, pattern_shape_sequence, pattern_shape_map, marginal, opacity, orientation, barmode, barnorm, histnorm, log_x, log_y, range_x, range_y, histfunc, cumulative, nbins, title, template, width, height)\u001b[0m\n\u001b[1;32m    466\u001b[0m     `orientation` is `'h'`).\n\u001b[1;32m    467\u001b[0m     \"\"\"\n\u001b[0;32m--> 468\u001b[0;31m     return make_figure(\n\u001b[0m\u001b[1;32m    469\u001b[0m         \u001b[0margs\u001b[0m\u001b[0;34m=\u001b[0m\u001b[0mlocals\u001b[0m\u001b[0;34m(\u001b[0m\u001b[0;34m)\u001b[0m\u001b[0;34m,\u001b[0m\u001b[0;34m\u001b[0m\u001b[0;34m\u001b[0m\u001b[0m\n\u001b[1;32m    470\u001b[0m         \u001b[0mconstructor\u001b[0m\u001b[0;34m=\u001b[0m\u001b[0mgo\u001b[0m\u001b[0;34m.\u001b[0m\u001b[0mHistogram\u001b[0m\u001b[0;34m,\u001b[0m\u001b[0;34m\u001b[0m\u001b[0;34m\u001b[0m\u001b[0m\n",
      "\u001b[0;32m~/opt/anaconda3/lib/python3.8/site-packages/plotly/express/_core.py\u001b[0m in \u001b[0;36mmake_figure\u001b[0;34m(args, constructor, trace_patch, layout_patch)\u001b[0m\n\u001b[1;32m   1931\u001b[0m     \u001b[0mapply_default_cascade\u001b[0m\u001b[0;34m(\u001b[0m\u001b[0margs\u001b[0m\u001b[0;34m)\u001b[0m\u001b[0;34m\u001b[0m\u001b[0;34m\u001b[0m\u001b[0m\n\u001b[1;32m   1932\u001b[0m \u001b[0;34m\u001b[0m\u001b[0m\n\u001b[0;32m-> 1933\u001b[0;31m     \u001b[0margs\u001b[0m \u001b[0;34m=\u001b[0m \u001b[0mbuild_dataframe\u001b[0m\u001b[0;34m(\u001b[0m\u001b[0margs\u001b[0m\u001b[0;34m,\u001b[0m \u001b[0mconstructor\u001b[0m\u001b[0;34m)\u001b[0m\u001b[0;34m\u001b[0m\u001b[0;34m\u001b[0m\u001b[0m\n\u001b[0m\u001b[1;32m   1934\u001b[0m     \u001b[0;32mif\u001b[0m \u001b[0mconstructor\u001b[0m \u001b[0;32min\u001b[0m \u001b[0;34m[\u001b[0m\u001b[0mgo\u001b[0m\u001b[0;34m.\u001b[0m\u001b[0mTreemap\u001b[0m\u001b[0;34m,\u001b[0m \u001b[0mgo\u001b[0m\u001b[0;34m.\u001b[0m\u001b[0mSunburst\u001b[0m\u001b[0;34m,\u001b[0m \u001b[0mgo\u001b[0m\u001b[0;34m.\u001b[0m\u001b[0mIcicle\u001b[0m\u001b[0;34m]\u001b[0m \u001b[0;32mand\u001b[0m \u001b[0margs\u001b[0m\u001b[0;34m[\u001b[0m\u001b[0;34m\"path\"\u001b[0m\u001b[0;34m]\u001b[0m \u001b[0;32mis\u001b[0m \u001b[0;32mnot\u001b[0m \u001b[0;32mNone\u001b[0m\u001b[0;34m:\u001b[0m\u001b[0;34m\u001b[0m\u001b[0;34m\u001b[0m\u001b[0m\n\u001b[1;32m   1935\u001b[0m         \u001b[0margs\u001b[0m \u001b[0;34m=\u001b[0m \u001b[0mprocess_dataframe_hierarchy\u001b[0m\u001b[0;34m(\u001b[0m\u001b[0margs\u001b[0m\u001b[0;34m)\u001b[0m\u001b[0;34m\u001b[0m\u001b[0;34m\u001b[0m\u001b[0m\n",
      "\u001b[0;32m~/opt/anaconda3/lib/python3.8/site-packages/plotly/express/_core.py\u001b[0m in \u001b[0;36mbuild_dataframe\u001b[0;34m(args, constructor)\u001b[0m\n\u001b[1;32m   1403\u001b[0m     \u001b[0;31m# now that things have been prepped, we do the systematic rewriting of `args`\u001b[0m\u001b[0;34m\u001b[0m\u001b[0;34m\u001b[0m\u001b[0;34m\u001b[0m\u001b[0m\n\u001b[1;32m   1404\u001b[0m \u001b[0;34m\u001b[0m\u001b[0m\n\u001b[0;32m-> 1405\u001b[0;31m     df_output, wide_id_vars = process_args_into_dataframe(\n\u001b[0m\u001b[1;32m   1406\u001b[0m         \u001b[0margs\u001b[0m\u001b[0;34m,\u001b[0m \u001b[0mwide_mode\u001b[0m\u001b[0;34m,\u001b[0m \u001b[0mvar_name\u001b[0m\u001b[0;34m,\u001b[0m \u001b[0mvalue_name\u001b[0m\u001b[0;34m\u001b[0m\u001b[0;34m\u001b[0m\u001b[0m\n\u001b[1;32m   1407\u001b[0m     )\n",
      "\u001b[0;32m~/opt/anaconda3/lib/python3.8/site-packages/plotly/express/_core.py\u001b[0m in \u001b[0;36mprocess_args_into_dataframe\u001b[0;34m(args, wide_mode, var_name, value_name)\u001b[0m\n\u001b[1;32m   1205\u001b[0m                         \u001b[0;32mif\u001b[0m \u001b[0margument\u001b[0m \u001b[0;34m==\u001b[0m \u001b[0;34m\"index\"\u001b[0m\u001b[0;34m:\u001b[0m\u001b[0;34m\u001b[0m\u001b[0;34m\u001b[0m\u001b[0m\n\u001b[1;32m   1206\u001b[0m                             \u001b[0merr_msg\u001b[0m \u001b[0;34m+=\u001b[0m \u001b[0;34m\"\\n To use the index, pass it in directly as `df.index`.\"\u001b[0m\u001b[0;34m\u001b[0m\u001b[0;34m\u001b[0m\u001b[0m\n\u001b[0;32m-> 1207\u001b[0;31m                         \u001b[0;32mraise\u001b[0m \u001b[0mValueError\u001b[0m\u001b[0;34m(\u001b[0m\u001b[0merr_msg\u001b[0m\u001b[0;34m)\u001b[0m\u001b[0;34m\u001b[0m\u001b[0;34m\u001b[0m\u001b[0m\n\u001b[0m\u001b[1;32m   1208\u001b[0m                 \u001b[0;32melif\u001b[0m \u001b[0mlength\u001b[0m \u001b[0;32mand\u001b[0m \u001b[0mlen\u001b[0m\u001b[0;34m(\u001b[0m\u001b[0mdf_input\u001b[0m\u001b[0;34m[\u001b[0m\u001b[0margument\u001b[0m\u001b[0;34m]\u001b[0m\u001b[0;34m)\u001b[0m \u001b[0;34m!=\u001b[0m \u001b[0mlength\u001b[0m\u001b[0;34m:\u001b[0m\u001b[0;34m\u001b[0m\u001b[0;34m\u001b[0m\u001b[0m\n\u001b[1;32m   1209\u001b[0m                     raise ValueError(\n",
      "\u001b[0;31mValueError\u001b[0m: Value of 'x' is not the name of a column in 'data_frame'. Expected one of ['Unnamed: 0', 'CanSino', 'Johnson&Johnson', 'Moderna', 'Oxford/AstraZeneca', 'Pfizer/BioNTech', 'Sinopharm/Beijing', 'Sinovac', 'Sputnik V'] but received: location"
     ]
    }
   ],
   "source": [
    "fig = px.histogram(data, \n",
    "             x='location', \n",
    "             y='Vaccine type',\n",
    "             labels = {'country' : 'Country', 'total_vaccinations' : 'Total Vaccinations'},\n",
    "             title = \"Top 5 Countries With Biggest Vaccinations Progress\"\n",
    "            )\n",
    "fig.show()\n"
   ]
  },
  {
   "cell_type": "code",
   "execution_count": null,
   "id": "a6dbc5a9",
   "metadata": {},
   "outputs": [],
   "source": []
  }
 ],
 "metadata": {
  "kernelspec": {
   "display_name": "Python 3",
   "language": "python",
   "name": "python3"
  },
  "language_info": {
   "codemirror_mode": {
    "name": "ipython",
    "version": 3
   },
   "file_extension": ".py",
   "mimetype": "text/x-python",
   "name": "python",
   "nbconvert_exporter": "python",
   "pygments_lexer": "ipython3",
   "version": "3.8.8"
  }
 },
 "nbformat": 4,
 "nbformat_minor": 5
}
